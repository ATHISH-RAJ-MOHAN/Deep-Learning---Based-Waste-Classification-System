{
  "nbformat": 4,
  "nbformat_minor": 0,
  "metadata": {
    "colab": {
      "provenance": [],
      "gpuType": "T4"
    },
    "kernelspec": {
      "name": "python3",
      "display_name": "Python 3"
    },
    "language_info": {
      "name": "python"
    },
    "accelerator": "GPU"
  },
  "cells": [
    {
      "cell_type": "markdown",
      "source": [
        "### **Note:** This notebook is designed to run on **Google Colab**. Please use the provided Colab link to open the notebook. Also, Please make sure to check the **documentation link** just below for detailed instructions on how to execute the notebook. Thank you!!!"
      ],
      "metadata": {
        "id": "NgQPW6l9dKa1"
      }
    },
    {
      "cell_type": "markdown",
      "source": [
        "##                           NAME - ATHISH RAJ MOHAN\n",
        "\n",
        "\n",
        "### GITHUB USERNAME - ATHISHRAJMOHAN-DSCI552-SU2025\n",
        "### USC ID - 7556541447\n",
        "\n",
        "### Google Colab link of my Project Notebook- https://colab.research.google.com/drive/1ufBX7ovxWNCSYxMLJIwx5SzSIOfxcS0-?usp=sharing\n",
        "\n",
        "## Instructions for Running the Project - https://docs.google.com/document/d/1RdCMhfUInrzaYZ7ga8s3LZppwxE4_06YvgjaY4WNk3M/edit?usp=sharing"
      ],
      "metadata": {
        "id": "zvr1x8QG8LhI"
      }
    },
    {
      "cell_type": "markdown",
      "source": [
        "##### The below line unzip's the upload compressed data folder.\n"
      ],
      "metadata": {
        "id": "Y8_5NYoZvlOm"
      }
    },
    {
      "cell_type": "code",
      "source": [
        "import os\n",
        "import zipfile\n",
        "\n",
        "if not os.path.exists('data'):\n",
        "    with zipfile.ZipFile('data.zip', 'r') as zip_ref:\n",
        "        zip_ref.extractall()\n",
        "    print('Successfully Un-Zipped the folder!!')\n",
        "else:\n",
        "    print('The folder has already been unzipped! ')"
      ],
      "metadata": {
        "id": "9JZx_iWVyrsO",
        "colab": {
          "base_uri": "https://localhost:8080/"
        },
        "outputId": "4eccbd12-e503-44fa-aeee-71521502ac00"
      },
      "execution_count": null,
      "outputs": [
        {
          "output_type": "stream",
          "name": "stdout",
          "text": [
            "Successfully Un-Zipped the folder!!\n"
          ]
        }
      ]
    },
    {
      "cell_type": "code",
      "source": [
        "# Installing the requirements from the requirements.txt file\n",
        "!pip install -r requirements.txt"
      ],
      "metadata": {
        "id": "ZGHjoyuK1Ho6",
        "colab": {
          "base_uri": "https://localhost:8080/"
        },
        "outputId": "cde76876-e4d5-4b16-846e-f723cccfd4f2"
      },
      "execution_count": null,
      "outputs": [
        {
          "output_type": "stream",
          "name": "stdout",
          "text": [
            "Requirement already satisfied: numpy in /usr/local/lib/python3.11/dist-packages (from -r requirements.txt (line 1)) (2.0.2)\n",
            "Requirement already satisfied: pandas in /usr/local/lib/python3.11/dist-packages (from -r requirements.txt (line 2)) (2.2.2)\n",
            "Requirement already satisfied: matplotlib in /usr/local/lib/python3.11/dist-packages (from -r requirements.txt (line 3)) (3.10.0)\n",
            "Requirement already satisfied: opencv-python-headless in /usr/local/lib/python3.11/dist-packages (from -r requirements.txt (line 4)) (4.12.0.88)\n",
            "Requirement already satisfied: scikit-learn in /usr/local/lib/python3.11/dist-packages (from -r requirements.txt (line 5)) (1.6.1)\n",
            "Requirement already satisfied: tensorflow in /usr/local/lib/python3.11/dist-packages (from -r requirements.txt (line 6)) (2.18.0)\n",
            "Requirement already satisfied: keras in /usr/local/lib/python3.11/dist-packages (from -r requirements.txt (line 7)) (3.8.0)\n",
            "Requirement already satisfied: google-colab in /usr/local/lib/python3.11/dist-packages (from -r requirements.txt (line 8)) (1.0.0)\n",
            "Requirement already satisfied: python-dateutil>=2.8.2 in /usr/local/lib/python3.11/dist-packages (from pandas->-r requirements.txt (line 2)) (2.9.0.post0)\n",
            "Requirement already satisfied: pytz>=2020.1 in /usr/local/lib/python3.11/dist-packages (from pandas->-r requirements.txt (line 2)) (2025.2)\n",
            "Requirement already satisfied: tzdata>=2022.7 in /usr/local/lib/python3.11/dist-packages (from pandas->-r requirements.txt (line 2)) (2025.2)\n",
            "Requirement already satisfied: contourpy>=1.0.1 in /usr/local/lib/python3.11/dist-packages (from matplotlib->-r requirements.txt (line 3)) (1.3.2)\n",
            "Requirement already satisfied: cycler>=0.10 in /usr/local/lib/python3.11/dist-packages (from matplotlib->-r requirements.txt (line 3)) (0.12.1)\n",
            "Requirement already satisfied: fonttools>=4.22.0 in /usr/local/lib/python3.11/dist-packages (from matplotlib->-r requirements.txt (line 3)) (4.59.0)\n",
            "Requirement already satisfied: kiwisolver>=1.3.1 in /usr/local/lib/python3.11/dist-packages (from matplotlib->-r requirements.txt (line 3)) (1.4.8)\n",
            "Requirement already satisfied: packaging>=20.0 in /usr/local/lib/python3.11/dist-packages (from matplotlib->-r requirements.txt (line 3)) (25.0)\n",
            "Requirement already satisfied: pillow>=8 in /usr/local/lib/python3.11/dist-packages (from matplotlib->-r requirements.txt (line 3)) (11.3.0)\n",
            "Requirement already satisfied: pyparsing>=2.3.1 in /usr/local/lib/python3.11/dist-packages (from matplotlib->-r requirements.txt (line 3)) (3.2.3)\n",
            "Requirement already satisfied: scipy>=1.6.0 in /usr/local/lib/python3.11/dist-packages (from scikit-learn->-r requirements.txt (line 5)) (1.16.0)\n",
            "Requirement already satisfied: joblib>=1.2.0 in /usr/local/lib/python3.11/dist-packages (from scikit-learn->-r requirements.txt (line 5)) (1.5.1)\n",
            "Requirement already satisfied: threadpoolctl>=3.1.0 in /usr/local/lib/python3.11/dist-packages (from scikit-learn->-r requirements.txt (line 5)) (3.6.0)\n",
            "Requirement already satisfied: absl-py>=1.0.0 in /usr/local/lib/python3.11/dist-packages (from tensorflow->-r requirements.txt (line 6)) (1.4.0)\n",
            "Requirement already satisfied: astunparse>=1.6.0 in /usr/local/lib/python3.11/dist-packages (from tensorflow->-r requirements.txt (line 6)) (1.6.3)\n",
            "Requirement already satisfied: flatbuffers>=24.3.25 in /usr/local/lib/python3.11/dist-packages (from tensorflow->-r requirements.txt (line 6)) (25.2.10)\n",
            "Requirement already satisfied: gast!=0.5.0,!=0.5.1,!=0.5.2,>=0.2.1 in /usr/local/lib/python3.11/dist-packages (from tensorflow->-r requirements.txt (line 6)) (0.6.0)\n",
            "Requirement already satisfied: google-pasta>=0.1.1 in /usr/local/lib/python3.11/dist-packages (from tensorflow->-r requirements.txt (line 6)) (0.2.0)\n",
            "Requirement already satisfied: libclang>=13.0.0 in /usr/local/lib/python3.11/dist-packages (from tensorflow->-r requirements.txt (line 6)) (18.1.1)\n",
            "Requirement already satisfied: opt-einsum>=2.3.2 in /usr/local/lib/python3.11/dist-packages (from tensorflow->-r requirements.txt (line 6)) (3.4.0)\n",
            "Requirement already satisfied: protobuf!=4.21.0,!=4.21.1,!=4.21.2,!=4.21.3,!=4.21.4,!=4.21.5,<6.0.0dev,>=3.20.3 in /usr/local/lib/python3.11/dist-packages (from tensorflow->-r requirements.txt (line 6)) (5.29.5)\n",
            "Requirement already satisfied: requests<3,>=2.21.0 in /usr/local/lib/python3.11/dist-packages (from tensorflow->-r requirements.txt (line 6)) (2.32.3)\n",
            "Requirement already satisfied: setuptools in /usr/local/lib/python3.11/dist-packages (from tensorflow->-r requirements.txt (line 6)) (75.2.0)\n",
            "Requirement already satisfied: six>=1.12.0 in /usr/local/lib/python3.11/dist-packages (from tensorflow->-r requirements.txt (line 6)) (1.17.0)\n",
            "Requirement already satisfied: termcolor>=1.1.0 in /usr/local/lib/python3.11/dist-packages (from tensorflow->-r requirements.txt (line 6)) (3.1.0)\n",
            "Requirement already satisfied: typing-extensions>=3.6.6 in /usr/local/lib/python3.11/dist-packages (from tensorflow->-r requirements.txt (line 6)) (4.14.1)\n",
            "Requirement already satisfied: wrapt>=1.11.0 in /usr/local/lib/python3.11/dist-packages (from tensorflow->-r requirements.txt (line 6)) (1.17.2)\n",
            "Requirement already satisfied: grpcio<2.0,>=1.24.3 in /usr/local/lib/python3.11/dist-packages (from tensorflow->-r requirements.txt (line 6)) (1.74.0)\n",
            "Requirement already satisfied: tensorboard<2.19,>=2.18 in /usr/local/lib/python3.11/dist-packages (from tensorflow->-r requirements.txt (line 6)) (2.18.0)\n",
            "Requirement already satisfied: h5py>=3.11.0 in /usr/local/lib/python3.11/dist-packages (from tensorflow->-r requirements.txt (line 6)) (3.14.0)\n",
            "Requirement already satisfied: ml-dtypes<0.5.0,>=0.4.0 in /usr/local/lib/python3.11/dist-packages (from tensorflow->-r requirements.txt (line 6)) (0.4.1)\n",
            "Requirement already satisfied: tensorflow-io-gcs-filesystem>=0.23.1 in /usr/local/lib/python3.11/dist-packages (from tensorflow->-r requirements.txt (line 6)) (0.37.1)\n",
            "Requirement already satisfied: rich in /usr/local/lib/python3.11/dist-packages (from keras->-r requirements.txt (line 7)) (13.9.4)\n",
            "Requirement already satisfied: namex in /usr/local/lib/python3.11/dist-packages (from keras->-r requirements.txt (line 7)) (0.1.0)\n",
            "Requirement already satisfied: optree in /usr/local/lib/python3.11/dist-packages (from keras->-r requirements.txt (line 7)) (0.16.0)\n",
            "Requirement already satisfied: google-auth==2.38.0 in /usr/local/lib/python3.11/dist-packages (from google-colab->-r requirements.txt (line 8)) (2.38.0)\n",
            "Requirement already satisfied: ipykernel==6.17.1 in /usr/local/lib/python3.11/dist-packages (from google-colab->-r requirements.txt (line 8)) (6.17.1)\n",
            "Requirement already satisfied: ipyparallel==8.8.0 in /usr/local/lib/python3.11/dist-packages (from google-colab->-r requirements.txt (line 8)) (8.8.0)\n",
            "Requirement already satisfied: ipython==7.34.0 in /usr/local/lib/python3.11/dist-packages (from google-colab->-r requirements.txt (line 8)) (7.34.0)\n",
            "Requirement already satisfied: notebook==6.5.7 in /usr/local/lib/python3.11/dist-packages (from google-colab->-r requirements.txt (line 8)) (6.5.7)\n",
            "Requirement already satisfied: portpicker==1.5.2 in /usr/local/lib/python3.11/dist-packages (from google-colab->-r requirements.txt (line 8)) (1.5.2)\n",
            "Requirement already satisfied: tornado==6.4.2 in /usr/local/lib/python3.11/dist-packages (from google-colab->-r requirements.txt (line 8)) (6.4.2)\n",
            "Requirement already satisfied: cachetools<6.0,>=2.0.0 in /usr/local/lib/python3.11/dist-packages (from google-auth==2.38.0->google-colab->-r requirements.txt (line 8)) (5.5.2)\n",
            "Requirement already satisfied: pyasn1-modules>=0.2.1 in /usr/local/lib/python3.11/dist-packages (from google-auth==2.38.0->google-colab->-r requirements.txt (line 8)) (0.4.2)\n",
            "Requirement already satisfied: rsa<5,>=3.1.4 in /usr/local/lib/python3.11/dist-packages (from google-auth==2.38.0->google-colab->-r requirements.txt (line 8)) (4.9.1)\n",
            "Requirement already satisfied: debugpy>=1.0 in /usr/local/lib/python3.11/dist-packages (from ipykernel==6.17.1->google-colab->-r requirements.txt (line 8)) (1.8.15)\n",
            "Requirement already satisfied: jupyter-client>=6.1.12 in /usr/local/lib/python3.11/dist-packages (from ipykernel==6.17.1->google-colab->-r requirements.txt (line 8)) (6.1.12)\n",
            "Requirement already satisfied: matplotlib-inline>=0.1 in /usr/local/lib/python3.11/dist-packages (from ipykernel==6.17.1->google-colab->-r requirements.txt (line 8)) (0.1.7)\n",
            "Requirement already satisfied: nest-asyncio in /usr/local/lib/python3.11/dist-packages (from ipykernel==6.17.1->google-colab->-r requirements.txt (line 8)) (1.6.0)\n",
            "Requirement already satisfied: psutil in /usr/local/lib/python3.11/dist-packages (from ipykernel==6.17.1->google-colab->-r requirements.txt (line 8)) (5.9.5)\n",
            "Requirement already satisfied: pyzmq>=17 in /usr/local/lib/python3.11/dist-packages (from ipykernel==6.17.1->google-colab->-r requirements.txt (line 8)) (26.2.1)\n",
            "Requirement already satisfied: traitlets>=5.1.0 in /usr/local/lib/python3.11/dist-packages (from ipykernel==6.17.1->google-colab->-r requirements.txt (line 8)) (5.7.1)\n",
            "Requirement already satisfied: decorator in /usr/local/lib/python3.11/dist-packages (from ipyparallel==8.8.0->google-colab->-r requirements.txt (line 8)) (4.4.2)\n",
            "Requirement already satisfied: entrypoints in /usr/local/lib/python3.11/dist-packages (from ipyparallel==8.8.0->google-colab->-r requirements.txt (line 8)) (0.4)\n",
            "Requirement already satisfied: tqdm in /usr/local/lib/python3.11/dist-packages (from ipyparallel==8.8.0->google-colab->-r requirements.txt (line 8)) (4.67.1)\n",
            "Collecting jedi>=0.16 (from ipython==7.34.0->google-colab->-r requirements.txt (line 8))\n",
            "  Downloading jedi-0.19.2-py2.py3-none-any.whl.metadata (22 kB)\n",
            "Requirement already satisfied: pickleshare in /usr/local/lib/python3.11/dist-packages (from ipython==7.34.0->google-colab->-r requirements.txt (line 8)) (0.7.5)\n",
            "Requirement already satisfied: prompt-toolkit!=3.0.0,!=3.0.1,<3.1.0,>=2.0.0 in /usr/local/lib/python3.11/dist-packages (from ipython==7.34.0->google-colab->-r requirements.txt (line 8)) (3.0.51)\n",
            "Requirement already satisfied: pygments in /usr/local/lib/python3.11/dist-packages (from ipython==7.34.0->google-colab->-r requirements.txt (line 8)) (2.19.2)\n",
            "Requirement already satisfied: backcall in /usr/local/lib/python3.11/dist-packages (from ipython==7.34.0->google-colab->-r requirements.txt (line 8)) (0.2.0)\n",
            "Requirement already satisfied: pexpect>4.3 in /usr/local/lib/python3.11/dist-packages (from ipython==7.34.0->google-colab->-r requirements.txt (line 8)) (4.9.0)\n",
            "Requirement already satisfied: jinja2 in /usr/local/lib/python3.11/dist-packages (from notebook==6.5.7->google-colab->-r requirements.txt (line 8)) (3.1.6)\n",
            "Requirement already satisfied: argon2-cffi in /usr/local/lib/python3.11/dist-packages (from notebook==6.5.7->google-colab->-r requirements.txt (line 8)) (25.1.0)\n",
            "Requirement already satisfied: jupyter-core>=4.6.1 in /usr/local/lib/python3.11/dist-packages (from notebook==6.5.7->google-colab->-r requirements.txt (line 8)) (5.8.1)\n",
            "Requirement already satisfied: ipython-genutils in /usr/local/lib/python3.11/dist-packages (from notebook==6.5.7->google-colab->-r requirements.txt (line 8)) (0.2.0)\n",
            "Requirement already satisfied: nbformat in /usr/local/lib/python3.11/dist-packages (from notebook==6.5.7->google-colab->-r requirements.txt (line 8)) (5.10.4)\n",
            "Requirement already satisfied: nbconvert>=5 in /usr/local/lib/python3.11/dist-packages (from notebook==6.5.7->google-colab->-r requirements.txt (line 8)) (7.16.6)\n",
            "Requirement already satisfied: Send2Trash>=1.8.0 in /usr/local/lib/python3.11/dist-packages (from notebook==6.5.7->google-colab->-r requirements.txt (line 8)) (1.8.3)\n",
            "Requirement already satisfied: terminado>=0.8.3 in /usr/local/lib/python3.11/dist-packages (from notebook==6.5.7->google-colab->-r requirements.txt (line 8)) (0.18.1)\n",
            "Requirement already satisfied: prometheus-client in /usr/local/lib/python3.11/dist-packages (from notebook==6.5.7->google-colab->-r requirements.txt (line 8)) (0.22.1)\n",
            "Requirement already satisfied: nbclassic>=0.4.7 in /usr/local/lib/python3.11/dist-packages (from notebook==6.5.7->google-colab->-r requirements.txt (line 8)) (1.3.1)\n",
            "Requirement already satisfied: charset-normalizer<4,>=2 in /usr/local/lib/python3.11/dist-packages (from requests<3,>=2.21.0->tensorflow->-r requirements.txt (line 6)) (3.4.2)\n",
            "Requirement already satisfied: idna<4,>=2.5 in /usr/local/lib/python3.11/dist-packages (from requests<3,>=2.21.0->tensorflow->-r requirements.txt (line 6)) (3.10)\n",
            "Requirement already satisfied: urllib3<3,>=1.21.1 in /usr/local/lib/python3.11/dist-packages (from requests<3,>=2.21.0->tensorflow->-r requirements.txt (line 6)) (2.5.0)\n",
            "Requirement already satisfied: certifi>=2017.4.17 in /usr/local/lib/python3.11/dist-packages (from requests<3,>=2.21.0->tensorflow->-r requirements.txt (line 6)) (2025.7.14)\n",
            "Requirement already satisfied: wheel<1.0,>=0.23.0 in /usr/local/lib/python3.11/dist-packages (from astunparse>=1.6.0->tensorflow->-r requirements.txt (line 6)) (0.45.1)\n",
            "Requirement already satisfied: markdown>=2.6.8 in /usr/local/lib/python3.11/dist-packages (from tensorboard<2.19,>=2.18->tensorflow->-r requirements.txt (line 6)) (3.8.2)\n",
            "Requirement already satisfied: tensorboard-data-server<0.8.0,>=0.7.0 in /usr/local/lib/python3.11/dist-packages (from tensorboard<2.19,>=2.18->tensorflow->-r requirements.txt (line 6)) (0.7.2)\n",
            "Requirement already satisfied: werkzeug>=1.0.1 in /usr/local/lib/python3.11/dist-packages (from tensorboard<2.19,>=2.18->tensorflow->-r requirements.txt (line 6)) (3.1.3)\n",
            "Requirement already satisfied: markdown-it-py>=2.2.0 in /usr/local/lib/python3.11/dist-packages (from rich->keras->-r requirements.txt (line 7)) (3.0.0)\n",
            "Requirement already satisfied: parso<0.9.0,>=0.8.4 in /usr/local/lib/python3.11/dist-packages (from jedi>=0.16->ipython==7.34.0->google-colab->-r requirements.txt (line 8)) (0.8.4)\n",
            "Requirement already satisfied: platformdirs>=2.5 in /usr/local/lib/python3.11/dist-packages (from jupyter-core>=4.6.1->notebook==6.5.7->google-colab->-r requirements.txt (line 8)) (4.3.8)\n",
            "Requirement already satisfied: mdurl~=0.1 in /usr/local/lib/python3.11/dist-packages (from markdown-it-py>=2.2.0->rich->keras->-r requirements.txt (line 7)) (0.1.2)\n",
            "Requirement already satisfied: notebook-shim>=0.2.3 in /usr/local/lib/python3.11/dist-packages (from nbclassic>=0.4.7->notebook==6.5.7->google-colab->-r requirements.txt (line 8)) (0.2.4)\n",
            "Requirement already satisfied: beautifulsoup4 in /usr/local/lib/python3.11/dist-packages (from nbconvert>=5->notebook==6.5.7->google-colab->-r requirements.txt (line 8)) (4.13.4)\n",
            "Requirement already satisfied: bleach!=5.0.0 in /usr/local/lib/python3.11/dist-packages (from bleach[css]!=5.0.0->nbconvert>=5->notebook==6.5.7->google-colab->-r requirements.txt (line 8)) (6.2.0)\n",
            "Requirement already satisfied: defusedxml in /usr/local/lib/python3.11/dist-packages (from nbconvert>=5->notebook==6.5.7->google-colab->-r requirements.txt (line 8)) (0.7.1)\n",
            "Requirement already satisfied: jupyterlab-pygments in /usr/local/lib/python3.11/dist-packages (from nbconvert>=5->notebook==6.5.7->google-colab->-r requirements.txt (line 8)) (0.3.0)\n",
            "Requirement already satisfied: markupsafe>=2.0 in /usr/local/lib/python3.11/dist-packages (from nbconvert>=5->notebook==6.5.7->google-colab->-r requirements.txt (line 8)) (3.0.2)\n",
            "Requirement already satisfied: mistune<4,>=2.0.3 in /usr/local/lib/python3.11/dist-packages (from nbconvert>=5->notebook==6.5.7->google-colab->-r requirements.txt (line 8)) (3.1.3)\n",
            "Requirement already satisfied: nbclient>=0.5.0 in /usr/local/lib/python3.11/dist-packages (from nbconvert>=5->notebook==6.5.7->google-colab->-r requirements.txt (line 8)) (0.10.2)\n",
            "Requirement already satisfied: pandocfilters>=1.4.1 in /usr/local/lib/python3.11/dist-packages (from nbconvert>=5->notebook==6.5.7->google-colab->-r requirements.txt (line 8)) (1.5.1)\n",
            "Requirement already satisfied: fastjsonschema>=2.15 in /usr/local/lib/python3.11/dist-packages (from nbformat->notebook==6.5.7->google-colab->-r requirements.txt (line 8)) (2.21.1)\n",
            "Requirement already satisfied: jsonschema>=2.6 in /usr/local/lib/python3.11/dist-packages (from nbformat->notebook==6.5.7->google-colab->-r requirements.txt (line 8)) (4.25.0)\n",
            "Requirement already satisfied: ptyprocess>=0.5 in /usr/local/lib/python3.11/dist-packages (from pexpect>4.3->ipython==7.34.0->google-colab->-r requirements.txt (line 8)) (0.7.0)\n",
            "Requirement already satisfied: wcwidth in /usr/local/lib/python3.11/dist-packages (from prompt-toolkit!=3.0.0,!=3.0.1,<3.1.0,>=2.0.0->ipython==7.34.0->google-colab->-r requirements.txt (line 8)) (0.2.13)\n",
            "Requirement already satisfied: pyasn1<0.7.0,>=0.6.1 in /usr/local/lib/python3.11/dist-packages (from pyasn1-modules>=0.2.1->google-auth==2.38.0->google-colab->-r requirements.txt (line 8)) (0.6.1)\n",
            "Requirement already satisfied: argon2-cffi-bindings in /usr/local/lib/python3.11/dist-packages (from argon2-cffi->notebook==6.5.7->google-colab->-r requirements.txt (line 8)) (21.2.0)\n",
            "Requirement already satisfied: webencodings in /usr/local/lib/python3.11/dist-packages (from bleach!=5.0.0->bleach[css]!=5.0.0->nbconvert>=5->notebook==6.5.7->google-colab->-r requirements.txt (line 8)) (0.5.1)\n",
            "Requirement already satisfied: tinycss2<1.5,>=1.1.0 in /usr/local/lib/python3.11/dist-packages (from bleach[css]!=5.0.0->nbconvert>=5->notebook==6.5.7->google-colab->-r requirements.txt (line 8)) (1.4.0)\n",
            "Requirement already satisfied: attrs>=22.2.0 in /usr/local/lib/python3.11/dist-packages (from jsonschema>=2.6->nbformat->notebook==6.5.7->google-colab->-r requirements.txt (line 8)) (25.3.0)\n",
            "Requirement already satisfied: jsonschema-specifications>=2023.03.6 in /usr/local/lib/python3.11/dist-packages (from jsonschema>=2.6->nbformat->notebook==6.5.7->google-colab->-r requirements.txt (line 8)) (2025.4.1)\n",
            "Requirement already satisfied: referencing>=0.28.4 in /usr/local/lib/python3.11/dist-packages (from jsonschema>=2.6->nbformat->notebook==6.5.7->google-colab->-r requirements.txt (line 8)) (0.36.2)\n",
            "Requirement already satisfied: rpds-py>=0.7.1 in /usr/local/lib/python3.11/dist-packages (from jsonschema>=2.6->nbformat->notebook==6.5.7->google-colab->-r requirements.txt (line 8)) (0.26.0)\n",
            "Requirement already satisfied: jupyter-server<3,>=1.8 in /usr/local/lib/python3.11/dist-packages (from notebook-shim>=0.2.3->nbclassic>=0.4.7->notebook==6.5.7->google-colab->-r requirements.txt (line 8)) (1.16.0)\n",
            "Requirement already satisfied: cffi>=1.0.1 in /usr/local/lib/python3.11/dist-packages (from argon2-cffi-bindings->argon2-cffi->notebook==6.5.7->google-colab->-r requirements.txt (line 8)) (1.17.1)\n",
            "Requirement already satisfied: soupsieve>1.2 in /usr/local/lib/python3.11/dist-packages (from beautifulsoup4->nbconvert>=5->notebook==6.5.7->google-colab->-r requirements.txt (line 8)) (2.7)\n",
            "Requirement already satisfied: pycparser in /usr/local/lib/python3.11/dist-packages (from cffi>=1.0.1->argon2-cffi-bindings->argon2-cffi->notebook==6.5.7->google-colab->-r requirements.txt (line 8)) (2.22)\n",
            "Requirement already satisfied: anyio>=3.1.0 in /usr/local/lib/python3.11/dist-packages (from jupyter-server<3,>=1.8->notebook-shim>=0.2.3->nbclassic>=0.4.7->notebook==6.5.7->google-colab->-r requirements.txt (line 8)) (4.9.0)\n",
            "Requirement already satisfied: websocket-client in /usr/local/lib/python3.11/dist-packages (from jupyter-server<3,>=1.8->notebook-shim>=0.2.3->nbclassic>=0.4.7->notebook==6.5.7->google-colab->-r requirements.txt (line 8)) (1.8.0)\n",
            "Requirement already satisfied: sniffio>=1.1 in /usr/local/lib/python3.11/dist-packages (from anyio>=3.1.0->jupyter-server<3,>=1.8->notebook-shim>=0.2.3->nbclassic>=0.4.7->notebook==6.5.7->google-colab->-r requirements.txt (line 8)) (1.3.1)\n",
            "Downloading jedi-0.19.2-py2.py3-none-any.whl (1.6 MB)\n",
            "\u001b[2K   \u001b[90m━━━━━━━━━━━━━━━━━━━━━━━━━━━━━━━━━━━━━━━━\u001b[0m \u001b[32m1.6/1.6 MB\u001b[0m \u001b[31m32.6 MB/s\u001b[0m eta \u001b[36m0:00:00\u001b[0m\n",
            "\u001b[?25hInstalling collected packages: jedi\n",
            "Successfully installed jedi-0.19.2\n"
          ]
        }
      ]
    },
    {
      "cell_type": "markdown",
      "source": [
        " ## 1. Transfer Learning for Image Classification\n",
        " ### (a) In this problem, we are trying to build a classifier that distinguishes images of nine types of waste."
      ],
      "metadata": {
        "id": "u4ubxLTg8FjX"
      }
    },
    {
      "cell_type": "markdown",
      "source": [
        "##### Information of connection to GPU"
      ],
      "metadata": {
        "id": "_oWLD2T5BWSg"
      }
    },
    {
      "cell_type": "code",
      "source": [
        "gpu_info = !nvidia-smi\n",
        "gpu_info = '\\n'.join(gpu_info)\n",
        "if gpu_info.find('failed') >= 0:\n",
        "  print('Not connected to a GPU')\n",
        "else:\n",
        "  print(gpu_info)"
      ],
      "metadata": {
        "id": "tJ5cHGczjN88",
        "colab": {
          "base_uri": "https://localhost:8080/"
        },
        "outputId": "8313bd61-0ac7-415e-cd17-ff3bb98b616e"
      },
      "execution_count": null,
      "outputs": [
        {
          "output_type": "stream",
          "name": "stdout",
          "text": [
            "Tue Jul 29 02:15:32 2025       \n",
            "+-----------------------------------------------------------------------------------------+\n",
            "| NVIDIA-SMI 550.54.15              Driver Version: 550.54.15      CUDA Version: 12.4     |\n",
            "|-----------------------------------------+------------------------+----------------------+\n",
            "| GPU  Name                 Persistence-M | Bus-Id          Disp.A | Volatile Uncorr. ECC |\n",
            "| Fan  Temp   Perf          Pwr:Usage/Cap |           Memory-Usage | GPU-Util  Compute M. |\n",
            "|                                         |                        |               MIG M. |\n",
            "|=========================================+========================+======================|\n",
            "|   0  Tesla T4                       Off |   00000000:00:04.0 Off |                    0 |\n",
            "| N/A   37C    P8              9W /   70W |       0MiB /  15360MiB |      0%      Default |\n",
            "|                                         |                        |                  N/A |\n",
            "+-----------------------------------------+------------------------+----------------------+\n",
            "                                                                                         \n",
            "+-----------------------------------------------------------------------------------------+\n",
            "| Processes:                                                                              |\n",
            "|  GPU   GI   CI        PID   Type   Process name                              GPU Memory |\n",
            "|        ID   ID                                                               Usage      |\n",
            "|=========================================================================================|\n",
            "|  No running processes found                                                             |\n",
            "+-----------------------------------------------------------------------------------------+\n"
          ]
        }
      ]
    },
    {
      "cell_type": "markdown",
      "source": [
        "##### Import Statements"
      ],
      "metadata": {
        "id": "3CKhs3QPBiw1"
      }
    },
    {
      "cell_type": "code",
      "source": [
        "import os\n",
        "import re\n",
        "import cv2\n",
        "import numpy as np\n",
        "import pandas as pd\n",
        "import matplotlib.pyplot as plt\n",
        "\n",
        "from google.colab import drive\n",
        "from sklearn.model_selection import train_test_split\n",
        "from sklearn.preprocessing import LabelBinarizer\n",
        "from sklearn.metrics import classification_report, f1_score, roc_auc_score, precision_score, recall_score\n",
        "\n",
        "from tensorflow.keras import layers, models, regularizers, Sequential, Input\n",
        "from tensorflow.keras.utils import to_categorical\n",
        "from tensorflow.keras.applications import ResNet50, ResNet101, EfficientNetB0, VGG16\n",
        "from tensorflow.keras.callbacks import EarlyStopping, ModelCheckpoint, ReduceLROnPlateau\n",
        "from tensorflow.keras.optimizers import Adam\n"
      ],
      "metadata": {
        "id": "bpyF2s_1gJrr"
      },
      "execution_count": null,
      "outputs": []
    },
    {
      "cell_type": "markdown",
      "source": [
        "### (b) Data Exploration and Pre-processing\n",
        "\n"
      ],
      "metadata": {
        "id": "SAQUu2z3BvnH"
      }
    },
    {
      "cell_type": "markdown",
      "source": [
        "##### Listing the folder names"
      ],
      "metadata": {
        "id": "7HucO167B6BI"
      }
    },
    {
      "cell_type": "code",
      "source": [
        "base_path = '/content/data/RealWaste'\n",
        "print(os.listdir(base_path))"
      ],
      "metadata": {
        "id": "GNaUlcAx8A4J",
        "colab": {
          "base_uri": "https://localhost:8080/"
        },
        "outputId": "ee6a2feb-fd2e-4725-9258-599d5f3af39d"
      },
      "execution_count": null,
      "outputs": [
        {
          "output_type": "stream",
          "name": "stdout",
          "text": [
            "['7-Plastic', '6-Paper', '3-Glass', '2-Food Organics', '1-Cardboard', '8-Textile Trash', '5-Miscellaneous Trash', '4-Metal', '9-Vegetation']\n"
          ]
        }
      ]
    },
    {
      "cell_type": "markdown",
      "source": [
        "##### Listing number of image per folder and total number of images we are working with"
      ],
      "metadata": {
        "id": "n_UviUoTB_dy"
      }
    },
    {
      "cell_type": "code",
      "source": [
        "category_folders = []\n",
        "\n",
        "for item in os.listdir(base_path):\n",
        "  item_path = os.path.join(base_path, item)\n",
        "  if os.path.isdir(item_path):\n",
        "    category_folders.append(item)\n",
        "\n",
        "img_exts = ('.png', '.jpg', '.jpeg', '.bmp', '.gif')\n",
        "\n",
        "image_counts = {}\n",
        "total_images = 0\n",
        "\n",
        "for folder in category_folders:\n",
        "  folder_path = os.path.join(base_path, folder)\n",
        "  count = 0\n",
        "  for file in os.listdir(folder_path):\n",
        "    if file.lower().endswith(img_exts):\n",
        "      count += 1\n",
        "  image_counts[folder] = count\n",
        "  total_images += count\n",
        "\n",
        "# Display counts for each category\n",
        "for category, count in image_counts.items():\n",
        "    print(f\"{category}: {count} images\")\n",
        "print(f\"\\nTotal images: {total_images}\")"
      ],
      "metadata": {
        "id": "Ytql_leHjRe6",
        "colab": {
          "base_uri": "https://localhost:8080/"
        },
        "outputId": "b939c13b-8fb3-4cb3-c533-a6af67d8e996"
      },
      "execution_count": null,
      "outputs": [
        {
          "output_type": "stream",
          "name": "stdout",
          "text": [
            "7-Plastic: 921 images\n",
            "6-Paper: 500 images\n",
            "3-Glass: 420 images\n",
            "2-Food Organics: 411 images\n",
            "1-Cardboard: 461 images\n",
            "8-Textile Trash: 318 images\n",
            "5-Miscellaneous Trash: 495 images\n",
            "4-Metal: 790 images\n",
            "9-Vegetation: 436 images\n",
            "\n",
            "Total images: 4752\n"
          ]
        }
      ]
    },
    {
      "cell_type": "markdown",
      "source": [
        "  #### i. Images are numbered in each folder. Select the first 80% of the images in each folder as your training set and the rest as the test set. You can encode your classes using one-hot encoding."
      ],
      "metadata": {
        "id": "VrcPTvxUQYlE"
      }
    },
    {
      "cell_type": "code",
      "source": [
        "# Extracting class name\n",
        "def extract_label(folder):\n",
        "    match = re.search(r'-\\s*(.*)', folder)\n",
        "    return match.group(1).strip() if match else folder\n",
        "\n",
        "\n",
        "train_files, test_files = [], []\n",
        "train_labels, test_labels = [], []\n",
        "\n",
        "img_exts = ('.png', '.jpg', '.jpeg', '.bmp', '.gif')\n",
        "categories = sorted([d for d in os.listdir(base_path) if os.path.isdir(os.path.join(base_path, d))])\n",
        "\n",
        "for cat in categories:\n",
        "  label = extract_label(cat)\n",
        "  folder = os.path.join(base_path, cat)\n",
        "  images = sorted([img for img in os.listdir(folder) if img.lower().endswith(img_exts)])\n",
        "  n = len(images)\n",
        "  train_count = int(0.8*n) # 80% of images in each folder as training set\n",
        "\n",
        "  train_imgs = images[:train_count]\n",
        "  test_imgs = images[train_count:]\n",
        "\n",
        "  for img in train_imgs:\n",
        "    train_files.append(os.path.join(folder, img))\n",
        "    train_labels.append(label)\n",
        "\n",
        "  for img in test_imgs:\n",
        "    test_files.append(os.path.join(folder, img))\n",
        "    test_labels.append(label)\n",
        "\n",
        "print('----------Splitting the data into Training set and Test set is completed successfully-------------')"
      ],
      "metadata": {
        "id": "cYJXWfQgxyuD",
        "colab": {
          "base_uri": "https://localhost:8080/"
        },
        "outputId": "91cb38bf-f956-44db-d1ce-49e34ae6804f"
      },
      "execution_count": null,
      "outputs": [
        {
          "output_type": "stream",
          "name": "stdout",
          "text": [
            "----------Splitting the data into Training set and Test set is completed successfully-------------\n"
          ]
        }
      ]
    },
    {
      "cell_type": "markdown",
      "source": [
        "#### Performing One Hot Encoding - Train set and Test set"
      ],
      "metadata": {
        "id": "DfQVASjh3UsH"
      }
    },
    {
      "cell_type": "code",
      "source": [
        "all_labels = sorted(list(set(train_labels + test_labels)))\n",
        "encoder = LabelBinarizer()\n",
        "encoder.fit(all_labels)\n",
        "\n",
        "#transforming all the labels\n",
        "y_train = encoder.transform(train_labels)\n",
        "y_test = encoder.transform(test_labels)\n",
        "\n",
        "label_to_int = {label: idx for idx, label in enumerate(all_labels)}\n",
        "train_label_indices = [label_to_int[l] for l in train_labels]\n",
        "test_label_indices = [label_to_int[l] for l in test_labels]\n",
        "\n",
        "y_train = to_categorical(train_label_indices, num_classes=len(all_labels))\n",
        "y_test = to_categorical(test_label_indices, num_classes=len(all_labels))\n"
      ],
      "metadata": {
        "id": "ZmOWabqN3Yj_"
      },
      "execution_count": null,
      "outputs": []
    },
    {
      "cell_type": "markdown",
      "source": [
        "##### Displaying one example from each category, selected according to the one-hot encoded label assignments - Training Set"
      ],
      "metadata": {
        "id": "5kpGGyKvC0qC"
      }
    },
    {
      "cell_type": "code",
      "source": [
        "seen = set()\n",
        "print(\" One-hot examples by category:\\n\")\n",
        "\n",
        "for label, vector in zip(train_labels, y_train):\n",
        "    if label not in seen:\n",
        "        print(f\"{label:12s} → {vector}\")\n",
        "        seen.add(label)\n",
        "    if len(seen) == len(all_labels):\n",
        "        break"
      ],
      "metadata": {
        "id": "OxV1txAO4n6d",
        "colab": {
          "base_uri": "https://localhost:8080/"
        },
        "outputId": "1617b50a-25d2-47b7-c4d8-b173da9b73f4"
      },
      "execution_count": null,
      "outputs": [
        {
          "output_type": "stream",
          "name": "stdout",
          "text": [
            " One-hot examples by category:\n",
            "\n",
            "Cardboard    → [1. 0. 0. 0. 0. 0. 0. 0. 0.]\n",
            "Food Organics → [0. 1. 0. 0. 0. 0. 0. 0. 0.]\n",
            "Glass        → [0. 0. 1. 0. 0. 0. 0. 0. 0.]\n",
            "Metal        → [0. 0. 0. 1. 0. 0. 0. 0. 0.]\n",
            "Miscellaneous Trash → [0. 0. 0. 0. 1. 0. 0. 0. 0.]\n",
            "Paper        → [0. 0. 0. 0. 0. 1. 0. 0. 0.]\n",
            "Plastic      → [0. 0. 0. 0. 0. 0. 1. 0. 0.]\n",
            "Textile Trash → [0. 0. 0. 0. 0. 0. 0. 1. 0.]\n",
            "Vegetation   → [0. 0. 0. 0. 0. 0. 0. 0. 1.]\n"
          ]
        }
      ]
    },
    {
      "cell_type": "markdown",
      "source": [
        "##### Displaying one example from each category, selected according to the one-hot encoded label assignments - Test Set"
      ],
      "metadata": {
        "id": "YFrsZsPADYCE"
      }
    },
    {
      "cell_type": "code",
      "source": [
        "seen = set()\n",
        "for label, vector in zip(test_labels, y_test):\n",
        "    if label not in seen:\n",
        "        print(f\"{label:12s} → {vector}\")\n",
        "        seen.add(label)\n",
        "    if len(seen) == len(all_labels):\n",
        "        break"
      ],
      "metadata": {
        "id": "tLteue9F5E2k",
        "colab": {
          "base_uri": "https://localhost:8080/"
        },
        "outputId": "0e958bbc-3d15-4305-f787-36202b88a743"
      },
      "execution_count": null,
      "outputs": [
        {
          "output_type": "stream",
          "name": "stdout",
          "text": [
            "Cardboard    → [1. 0. 0. 0. 0. 0. 0. 0. 0.]\n",
            "Food Organics → [0. 1. 0. 0. 0. 0. 0. 0. 0.]\n",
            "Glass        → [0. 0. 1. 0. 0. 0. 0. 0. 0.]\n",
            "Metal        → [0. 0. 0. 1. 0. 0. 0. 0. 0.]\n",
            "Miscellaneous Trash → [0. 0. 0. 0. 1. 0. 0. 0. 0.]\n",
            "Paper        → [0. 0. 0. 0. 0. 1. 0. 0. 0.]\n",
            "Plastic      → [0. 0. 0. 0. 0. 0. 1. 0. 0.]\n",
            "Textile Trash → [0. 0. 0. 0. 0. 0. 0. 1. 0.]\n",
            "Vegetation   → [0. 0. 0. 0. 0. 0. 0. 0. 1.]\n"
          ]
        }
      ]
    },
    {
      "cell_type": "markdown",
      "source": [
        " ### ii. In case all the images do not have the same size, zero-pad or resize the images in your dataset. This can be done using various tools, including OpenCV."
      ],
      "metadata": {
        "id": "UGeHvXjW6Q7f"
      }
    },
    {
      "cell_type": "code",
      "source": [
        "## helper function for pre-processing the image\n",
        "def resize_with_padding(img, target_size=(224, 224)):\n",
        "  h, w = img.shape[:2] #original dimension\n",
        "  scale = min(target_size[0]/w, target_size[1]/h) #calculating sale so that the largest dimension matches target_Size\n",
        "  new_w, new_h = int(w*scale), int(h*scale)\n",
        "  resized_img = cv2.resize(img, (new_w, new_h)) # resize image using calculated dimensions\n",
        "\n",
        "  # calculate the padding for width and height to reach exact target_size\n",
        "  pad_w = target_size[0] - new_w\n",
        "  pad_h = target_size[1] - new_h\n",
        "  top = pad_h // 2               # padding on top\n",
        "  bottom = pad_h - top           # padding on bottom\n",
        "  left = pad_w // 2              # padding on left\n",
        "  right = pad_w - left           # padding on right\n",
        "\n",
        "# Adding zero (black) padding equally on all sides\n",
        "  padded_img = cv2.copyMakeBorder(\n",
        "      resized_img, top, bottom, left, right,\n",
        "      borderType=cv2.BORDER_CONSTANT,\n",
        "      value=[0, 0, 0]  # Black padding; can change to other color if needed\n",
        "  )\n",
        "  return padded_img\n"
      ],
      "metadata": {
        "id": "v5J1fKiJ6BKQ"
      },
      "execution_count": null,
      "outputs": []
    },
    {
      "cell_type": "code",
      "source": [
        "def preprocess_images(image_paths, target_size=(224, 224)):\n",
        "    images = []\n",
        "    for path in image_paths:\n",
        "        img = cv2.imread(path)                      # Load image from disk\n",
        "        img = cv2.cvtColor(img, cv2.COLOR_BGR2RGB)  # Convert BGR to RGB color space\n",
        "        img = resize_with_padding(img, target_size) # Resize with padding\n",
        "        images.append(img)                          # Add processed image to list\n",
        "    # Stack all processed images into a NumPy array for model input\n",
        "    return np.array(images, dtype=np.uint8)\n",
        "\n",
        "# Preprocess train and test images\n",
        "X_train = preprocess_images(train_files, target_size=(224, 224))\n",
        "X_test = preprocess_images(test_files, target_size=(224, 224))"
      ],
      "metadata": {
        "id": "oYWtPV9p9B_2"
      },
      "execution_count": null,
      "outputs": []
    },
    {
      "cell_type": "code",
      "source": [
        "# Show the shape of processed datasets (num_samples, height, width, channels)\n",
        "print(\"X_train shape:\", X_train.shape)\n",
        "print(\"X_test shape:\", X_test.shape)\n"
      ],
      "metadata": {
        "id": "iSOMdImNFBu_",
        "colab": {
          "base_uri": "https://localhost:8080/"
        },
        "outputId": "ec438ebf-941c-47d2-cad8-140900ef8fa6"
      },
      "execution_count": null,
      "outputs": [
        {
          "output_type": "stream",
          "name": "stdout",
          "text": [
            "X_train shape: (3798, 224, 224, 3)\n",
            "X_test shape: (954, 224, 224, 3)\n"
          ]
        }
      ]
    },
    {
      "cell_type": "markdown",
      "source": [
        " ### (c) Transfer Learning\n",
        " #### i. When dealing with classification of relatively small image datasets, deep networks may not perform very well because of not having enough data to train them. In such cases, one usually uses transfer learning, which uses deep learning models that are trained on very large datasets such as ImageNet as feature extractors. The idea is that such deep networks have learned to extract meaningful features from an image using their layers, and those features can be used in learning other tasks. In order to do that, usually the last layer or the last few layers of the pre-trained network are removed, and the response of the layer before the removed layers to the images in the new dataset is used as a feature vector to train one more multiple replacement layers. In this project, you will use pre-trained models ResNet50, ResNet100, EfficientNetB0, and VGG16. For those pre-trained networks, you will only train the last fully connected layer, and will freeze all layers before them (i.e. we do not change their parameters during training) and use the outputs of the penultimate layer in the original pre-trained model as the features extracted from each image.\n",
        "\n",
        " #### ii. To perform empirical regularization, crop, randomly zoom, rotate, flip, contrast, and translate images in your training set for image augmentation. You can use various tools to do this, including OpenCV."
      ],
      "metadata": {
        "id": "B5AbSS1RQpLz"
      }
    },
    {
      "cell_type": "code",
      "source": [
        "data_augmentation = Sequential([\n",
        "    layers.RandomCrop(224, 224), # Cropping image to 224*224 pixels\n",
        "    layers.RandomZoom(0.2), # Zooming the image in or out by up to 20%\n",
        "    layers.RandomRotation(0.2), # Rotating the image by up to ±20% of a full turn\n",
        "    layers.RandomFlip('horizontal'), # Flipping images horizontally\n",
        "    layers.RandomContrast(0.2), # adjust the contrast by up to ±20%\n",
        "    layers.RandomTranslation(0.2, 0.2) # Translate the images width/height by up to ±20%\n",
        "])"
      ],
      "metadata": {
        "id": "CKOYn86TYKMT"
      },
      "execution_count": null,
      "outputs": []
    },
    {
      "cell_type": "markdown",
      "source": [
        "#### iii. Use ReLU activation functions in the last layer and a softmax layer, along with L2 regularization, batch normalization, and a dropout rate of 20% as well as ADAM optimizer. Use multinomial cross entropy loss. You can try any batch size, but a batch size of 5 seems reasonable."
      ],
      "metadata": {
        "id": "53ecFFv9RGKZ"
      }
    },
    {
      "cell_type": "markdown",
      "source": [
        "#####  ResNet50"
      ],
      "metadata": {
        "id": "V1_vkz8ERK6e"
      }
    },
    {
      "cell_type": "code",
      "source": [
        "num_classes = len(all_labels)  # number of classes in my dataset\n",
        "\n",
        "inputs = Input(shape=(224, 224, 3))\n",
        "x = data_augmentation(inputs)  # Real-time image augmentation\n",
        "\n",
        "# Load pre-trained ResNet50 without the classification head\n",
        "resnet50_base = ResNet50(\n",
        "    include_top=False,\n",
        "    weights='imagenet',\n",
        "    input_shape=(224, 224, 3)\n",
        ")\n",
        "resnet50_base.trainable = False  # Freeze all pre-trained layers\n",
        "\n",
        "x = resnet50_base(x, training=False)\n",
        "x = layers.GlobalAveragePooling2D()(x)\n",
        "x = layers.Dense(\n",
        "    128, activation='relu', kernel_regularizer=regularizers.l2(0.01)\n",
        ")(x)\n",
        "x = layers.BatchNormalization()(x)\n",
        "x = layers.Dropout(0.2)(x)\n",
        "outputs = layers.Dense(num_classes, activation='softmax')(x)\n",
        "\n",
        "model_resnet50 = models.Model(inputs, outputs)\n",
        "\n",
        "model_resnet50.compile(\n",
        "    optimizer=Adam(learning_rate=1e-3),\n",
        "    loss='categorical_crossentropy',\n",
        "    metrics=['accuracy']\n",
        ")\n",
        "\n",
        "model_resnet50.summary()\n"
      ],
      "metadata": {
        "id": "Fr1JIF1LYfOn",
        "colab": {
          "base_uri": "https://localhost:8080/",
          "height": 452
        },
        "outputId": "affd0cf6-189a-42ac-950a-63706d2836e1"
      },
      "execution_count": null,
      "outputs": [
        {
          "output_type": "stream",
          "name": "stdout",
          "text": [
            "Downloading data from https://storage.googleapis.com/tensorflow/keras-applications/resnet/resnet50_weights_tf_dim_ordering_tf_kernels_notop.h5\n",
            "\u001b[1m94765736/94765736\u001b[0m \u001b[32m━━━━━━━━━━━━━━━━━━━━\u001b[0m\u001b[37m\u001b[0m \u001b[1m0s\u001b[0m 0us/step\n"
          ]
        },
        {
          "output_type": "display_data",
          "data": {
            "text/plain": [
              "\u001b[1mModel: \"functional_1\"\u001b[0m\n"
            ],
            "text/html": [
              "<pre style=\"white-space:pre;overflow-x:auto;line-height:normal;font-family:Menlo,'DejaVu Sans Mono',consolas,'Courier New',monospace\"><span style=\"font-weight: bold\">Model: \"functional_1\"</span>\n",
              "</pre>\n"
            ]
          },
          "metadata": {}
        },
        {
          "output_type": "display_data",
          "data": {
            "text/plain": [
              "┏━━━━━━━━━━━━━━━━━━━━━━━━━━━━━━━━━┳━━━━━━━━━━━━━━━━━━━━━━━━┳━━━━━━━━━━━━━━━┓\n",
              "┃\u001b[1m \u001b[0m\u001b[1mLayer (type)                   \u001b[0m\u001b[1m \u001b[0m┃\u001b[1m \u001b[0m\u001b[1mOutput Shape          \u001b[0m\u001b[1m \u001b[0m┃\u001b[1m \u001b[0m\u001b[1m      Param #\u001b[0m\u001b[1m \u001b[0m┃\n",
              "┡━━━━━━━━━━━━━━━━━━━━━━━━━━━━━━━━━╇━━━━━━━━━━━━━━━━━━━━━━━━╇━━━━━━━━━━━━━━━┩\n",
              "│ input_layer (\u001b[38;5;33mInputLayer\u001b[0m)        │ (\u001b[38;5;45mNone\u001b[0m, \u001b[38;5;34m224\u001b[0m, \u001b[38;5;34m224\u001b[0m, \u001b[38;5;34m3\u001b[0m)    │             \u001b[38;5;34m0\u001b[0m │\n",
              "├─────────────────────────────────┼────────────────────────┼───────────────┤\n",
              "│ sequential (\u001b[38;5;33mSequential\u001b[0m)         │ (\u001b[38;5;45mNone\u001b[0m, \u001b[38;5;34m224\u001b[0m, \u001b[38;5;34m224\u001b[0m, \u001b[38;5;34m3\u001b[0m)    │             \u001b[38;5;34m0\u001b[0m │\n",
              "├─────────────────────────────────┼────────────────────────┼───────────────┤\n",
              "│ resnet50 (\u001b[38;5;33mFunctional\u001b[0m)           │ (\u001b[38;5;45mNone\u001b[0m, \u001b[38;5;34m7\u001b[0m, \u001b[38;5;34m7\u001b[0m, \u001b[38;5;34m2048\u001b[0m)     │    \u001b[38;5;34m23,587,712\u001b[0m │\n",
              "├─────────────────────────────────┼────────────────────────┼───────────────┤\n",
              "│ global_average_pooling2d        │ (\u001b[38;5;45mNone\u001b[0m, \u001b[38;5;34m2048\u001b[0m)           │             \u001b[38;5;34m0\u001b[0m │\n",
              "│ (\u001b[38;5;33mGlobalAveragePooling2D\u001b[0m)        │                        │               │\n",
              "├─────────────────────────────────┼────────────────────────┼───────────────┤\n",
              "│ dense (\u001b[38;5;33mDense\u001b[0m)                   │ (\u001b[38;5;45mNone\u001b[0m, \u001b[38;5;34m128\u001b[0m)            │       \u001b[38;5;34m262,272\u001b[0m │\n",
              "├─────────────────────────────────┼────────────────────────┼───────────────┤\n",
              "│ batch_normalization             │ (\u001b[38;5;45mNone\u001b[0m, \u001b[38;5;34m128\u001b[0m)            │           \u001b[38;5;34m512\u001b[0m │\n",
              "│ (\u001b[38;5;33mBatchNormalization\u001b[0m)            │                        │               │\n",
              "├─────────────────────────────────┼────────────────────────┼───────────────┤\n",
              "│ dropout (\u001b[38;5;33mDropout\u001b[0m)               │ (\u001b[38;5;45mNone\u001b[0m, \u001b[38;5;34m128\u001b[0m)            │             \u001b[38;5;34m0\u001b[0m │\n",
              "├─────────────────────────────────┼────────────────────────┼───────────────┤\n",
              "│ dense_1 (\u001b[38;5;33mDense\u001b[0m)                 │ (\u001b[38;5;45mNone\u001b[0m, \u001b[38;5;34m9\u001b[0m)              │         \u001b[38;5;34m1,161\u001b[0m │\n",
              "└─────────────────────────────────┴────────────────────────┴───────────────┘\n"
            ],
            "text/html": [
              "<pre style=\"white-space:pre;overflow-x:auto;line-height:normal;font-family:Menlo,'DejaVu Sans Mono',consolas,'Courier New',monospace\">┏━━━━━━━━━━━━━━━━━━━━━━━━━━━━━━━━━┳━━━━━━━━━━━━━━━━━━━━━━━━┳━━━━━━━━━━━━━━━┓\n",
              "┃<span style=\"font-weight: bold\"> Layer (type)                    </span>┃<span style=\"font-weight: bold\"> Output Shape           </span>┃<span style=\"font-weight: bold\">       Param # </span>┃\n",
              "┡━━━━━━━━━━━━━━━━━━━━━━━━━━━━━━━━━╇━━━━━━━━━━━━━━━━━━━━━━━━╇━━━━━━━━━━━━━━━┩\n",
              "│ input_layer (<span style=\"color: #0087ff; text-decoration-color: #0087ff\">InputLayer</span>)        │ (<span style=\"color: #00d7ff; text-decoration-color: #00d7ff\">None</span>, <span style=\"color: #00af00; text-decoration-color: #00af00\">224</span>, <span style=\"color: #00af00; text-decoration-color: #00af00\">224</span>, <span style=\"color: #00af00; text-decoration-color: #00af00\">3</span>)    │             <span style=\"color: #00af00; text-decoration-color: #00af00\">0</span> │\n",
              "├─────────────────────────────────┼────────────────────────┼───────────────┤\n",
              "│ sequential (<span style=\"color: #0087ff; text-decoration-color: #0087ff\">Sequential</span>)         │ (<span style=\"color: #00d7ff; text-decoration-color: #00d7ff\">None</span>, <span style=\"color: #00af00; text-decoration-color: #00af00\">224</span>, <span style=\"color: #00af00; text-decoration-color: #00af00\">224</span>, <span style=\"color: #00af00; text-decoration-color: #00af00\">3</span>)    │             <span style=\"color: #00af00; text-decoration-color: #00af00\">0</span> │\n",
              "├─────────────────────────────────┼────────────────────────┼───────────────┤\n",
              "│ resnet50 (<span style=\"color: #0087ff; text-decoration-color: #0087ff\">Functional</span>)           │ (<span style=\"color: #00d7ff; text-decoration-color: #00d7ff\">None</span>, <span style=\"color: #00af00; text-decoration-color: #00af00\">7</span>, <span style=\"color: #00af00; text-decoration-color: #00af00\">7</span>, <span style=\"color: #00af00; text-decoration-color: #00af00\">2048</span>)     │    <span style=\"color: #00af00; text-decoration-color: #00af00\">23,587,712</span> │\n",
              "├─────────────────────────────────┼────────────────────────┼───────────────┤\n",
              "│ global_average_pooling2d        │ (<span style=\"color: #00d7ff; text-decoration-color: #00d7ff\">None</span>, <span style=\"color: #00af00; text-decoration-color: #00af00\">2048</span>)           │             <span style=\"color: #00af00; text-decoration-color: #00af00\">0</span> │\n",
              "│ (<span style=\"color: #0087ff; text-decoration-color: #0087ff\">GlobalAveragePooling2D</span>)        │                        │               │\n",
              "├─────────────────────────────────┼────────────────────────┼───────────────┤\n",
              "│ dense (<span style=\"color: #0087ff; text-decoration-color: #0087ff\">Dense</span>)                   │ (<span style=\"color: #00d7ff; text-decoration-color: #00d7ff\">None</span>, <span style=\"color: #00af00; text-decoration-color: #00af00\">128</span>)            │       <span style=\"color: #00af00; text-decoration-color: #00af00\">262,272</span> │\n",
              "├─────────────────────────────────┼────────────────────────┼───────────────┤\n",
              "│ batch_normalization             │ (<span style=\"color: #00d7ff; text-decoration-color: #00d7ff\">None</span>, <span style=\"color: #00af00; text-decoration-color: #00af00\">128</span>)            │           <span style=\"color: #00af00; text-decoration-color: #00af00\">512</span> │\n",
              "│ (<span style=\"color: #0087ff; text-decoration-color: #0087ff\">BatchNormalization</span>)            │                        │               │\n",
              "├─────────────────────────────────┼────────────────────────┼───────────────┤\n",
              "│ dropout (<span style=\"color: #0087ff; text-decoration-color: #0087ff\">Dropout</span>)               │ (<span style=\"color: #00d7ff; text-decoration-color: #00d7ff\">None</span>, <span style=\"color: #00af00; text-decoration-color: #00af00\">128</span>)            │             <span style=\"color: #00af00; text-decoration-color: #00af00\">0</span> │\n",
              "├─────────────────────────────────┼────────────────────────┼───────────────┤\n",
              "│ dense_1 (<span style=\"color: #0087ff; text-decoration-color: #0087ff\">Dense</span>)                 │ (<span style=\"color: #00d7ff; text-decoration-color: #00d7ff\">None</span>, <span style=\"color: #00af00; text-decoration-color: #00af00\">9</span>)              │         <span style=\"color: #00af00; text-decoration-color: #00af00\">1,161</span> │\n",
              "└─────────────────────────────────┴────────────────────────┴───────────────┘\n",
              "</pre>\n"
            ]
          },
          "metadata": {}
        },
        {
          "output_type": "display_data",
          "data": {
            "text/plain": [
              "\u001b[1m Total params: \u001b[0m\u001b[38;5;34m23,851,657\u001b[0m (90.99 MB)\n"
            ],
            "text/html": [
              "<pre style=\"white-space:pre;overflow-x:auto;line-height:normal;font-family:Menlo,'DejaVu Sans Mono',consolas,'Courier New',monospace\"><span style=\"font-weight: bold\"> Total params: </span><span style=\"color: #00af00; text-decoration-color: #00af00\">23,851,657</span> (90.99 MB)\n",
              "</pre>\n"
            ]
          },
          "metadata": {}
        },
        {
          "output_type": "display_data",
          "data": {
            "text/plain": [
              "\u001b[1m Trainable params: \u001b[0m\u001b[38;5;34m263,689\u001b[0m (1.01 MB)\n"
            ],
            "text/html": [
              "<pre style=\"white-space:pre;overflow-x:auto;line-height:normal;font-family:Menlo,'DejaVu Sans Mono',consolas,'Courier New',monospace\"><span style=\"font-weight: bold\"> Trainable params: </span><span style=\"color: #00af00; text-decoration-color: #00af00\">263,689</span> (1.01 MB)\n",
              "</pre>\n"
            ]
          },
          "metadata": {}
        },
        {
          "output_type": "display_data",
          "data": {
            "text/plain": [
              "\u001b[1m Non-trainable params: \u001b[0m\u001b[38;5;34m23,587,968\u001b[0m (89.98 MB)\n"
            ],
            "text/html": [
              "<pre style=\"white-space:pre;overflow-x:auto;line-height:normal;font-family:Menlo,'DejaVu Sans Mono',consolas,'Courier New',monospace\"><span style=\"font-weight: bold\"> Non-trainable params: </span><span style=\"color: #00af00; text-decoration-color: #00af00\">23,587,968</span> (89.98 MB)\n",
              "</pre>\n"
            ]
          },
          "metadata": {}
        }
      ]
    },
    {
      "cell_type": "markdown",
      "source": [
        "#####  ResNet100"
      ],
      "metadata": {
        "id": "87qXrxldRQGy"
      }
    },
    {
      "cell_type": "code",
      "source": [
        "num_classes = len(all_labels)  # number of classes in my dataset\n",
        "\n",
        "inputs = Input(shape=(224, 224, 3))\n",
        "x = data_augmentation(inputs)  # Real-time image augmentation\n",
        "\n",
        "# Load pre-trained ResNet101 without classification head\n",
        "resnet101_base = ResNet101(\n",
        "    include_top=False,\n",
        "    weights='imagenet',\n",
        "    input_shape=(224, 224, 3)\n",
        ")\n",
        "resnet101_base.trainable = False  # Freeze all pre-trained layers\n",
        "\n",
        "x = resnet101_base(x, training=False)\n",
        "x = layers.GlobalAveragePooling2D()(x)\n",
        "x = layers.Dense(\n",
        "    128, activation='relu', kernel_regularizer=regularizers.l2(0.01)\n",
        ")(x)\n",
        "x = layers.BatchNormalization()(x)\n",
        "x = layers.Dropout(0.2)(x)\n",
        "outputs = layers.Dense(num_classes, activation='softmax')(x)\n",
        "\n",
        "model_resnet101 = models.Model(inputs, outputs)\n",
        "\n",
        "model_resnet101.compile(\n",
        "    optimizer=Adam(learning_rate=1e-3),\n",
        "    loss='categorical_crossentropy',\n",
        "    metrics=['accuracy']\n",
        ")\n",
        "\n",
        "model_resnet101.summary()\n"
      ],
      "metadata": {
        "id": "B-a32r-hY9xP",
        "colab": {
          "base_uri": "https://localhost:8080/",
          "height": 452
        },
        "outputId": "44e7853f-169f-4470-83f2-efe36e36061c"
      },
      "execution_count": null,
      "outputs": [
        {
          "output_type": "stream",
          "name": "stdout",
          "text": [
            "Downloading data from https://storage.googleapis.com/tensorflow/keras-applications/resnet/resnet101_weights_tf_dim_ordering_tf_kernels_notop.h5\n",
            "\u001b[1m171446536/171446536\u001b[0m \u001b[32m━━━━━━━━━━━━━━━━━━━━\u001b[0m\u001b[37m\u001b[0m \u001b[1m1s\u001b[0m 0us/step\n"
          ]
        },
        {
          "output_type": "display_data",
          "data": {
            "text/plain": [
              "\u001b[1mModel: \"functional_2\"\u001b[0m\n"
            ],
            "text/html": [
              "<pre style=\"white-space:pre;overflow-x:auto;line-height:normal;font-family:Menlo,'DejaVu Sans Mono',consolas,'Courier New',monospace\"><span style=\"font-weight: bold\">Model: \"functional_2\"</span>\n",
              "</pre>\n"
            ]
          },
          "metadata": {}
        },
        {
          "output_type": "display_data",
          "data": {
            "text/plain": [
              "┏━━━━━━━━━━━━━━━━━━━━━━━━━━━━━━━━━┳━━━━━━━━━━━━━━━━━━━━━━━━┳━━━━━━━━━━━━━━━┓\n",
              "┃\u001b[1m \u001b[0m\u001b[1mLayer (type)                   \u001b[0m\u001b[1m \u001b[0m┃\u001b[1m \u001b[0m\u001b[1mOutput Shape          \u001b[0m\u001b[1m \u001b[0m┃\u001b[1m \u001b[0m\u001b[1m      Param #\u001b[0m\u001b[1m \u001b[0m┃\n",
              "┡━━━━━━━━━━━━━━━━━━━━━━━━━━━━━━━━━╇━━━━━━━━━━━━━━━━━━━━━━━━╇━━━━━━━━━━━━━━━┩\n",
              "│ input_layer_3 (\u001b[38;5;33mInputLayer\u001b[0m)      │ (\u001b[38;5;45mNone\u001b[0m, \u001b[38;5;34m224\u001b[0m, \u001b[38;5;34m224\u001b[0m, \u001b[38;5;34m3\u001b[0m)    │             \u001b[38;5;34m0\u001b[0m │\n",
              "├─────────────────────────────────┼────────────────────────┼───────────────┤\n",
              "│ sequential (\u001b[38;5;33mSequential\u001b[0m)         │ (\u001b[38;5;45mNone\u001b[0m, \u001b[38;5;34m224\u001b[0m, \u001b[38;5;34m224\u001b[0m, \u001b[38;5;34m3\u001b[0m)    │             \u001b[38;5;34m0\u001b[0m │\n",
              "├─────────────────────────────────┼────────────────────────┼───────────────┤\n",
              "│ resnet101 (\u001b[38;5;33mFunctional\u001b[0m)          │ (\u001b[38;5;45mNone\u001b[0m, \u001b[38;5;34m7\u001b[0m, \u001b[38;5;34m7\u001b[0m, \u001b[38;5;34m2048\u001b[0m)     │    \u001b[38;5;34m42,658,176\u001b[0m │\n",
              "├─────────────────────────────────┼────────────────────────┼───────────────┤\n",
              "│ global_average_pooling2d_1      │ (\u001b[38;5;45mNone\u001b[0m, \u001b[38;5;34m2048\u001b[0m)           │             \u001b[38;5;34m0\u001b[0m │\n",
              "│ (\u001b[38;5;33mGlobalAveragePooling2D\u001b[0m)        │                        │               │\n",
              "├─────────────────────────────────┼────────────────────────┼───────────────┤\n",
              "│ dense_2 (\u001b[38;5;33mDense\u001b[0m)                 │ (\u001b[38;5;45mNone\u001b[0m, \u001b[38;5;34m128\u001b[0m)            │       \u001b[38;5;34m262,272\u001b[0m │\n",
              "├─────────────────────────────────┼────────────────────────┼───────────────┤\n",
              "│ batch_normalization_1           │ (\u001b[38;5;45mNone\u001b[0m, \u001b[38;5;34m128\u001b[0m)            │           \u001b[38;5;34m512\u001b[0m │\n",
              "│ (\u001b[38;5;33mBatchNormalization\u001b[0m)            │                        │               │\n",
              "├─────────────────────────────────┼────────────────────────┼───────────────┤\n",
              "│ dropout_1 (\u001b[38;5;33mDropout\u001b[0m)             │ (\u001b[38;5;45mNone\u001b[0m, \u001b[38;5;34m128\u001b[0m)            │             \u001b[38;5;34m0\u001b[0m │\n",
              "├─────────────────────────────────┼────────────────────────┼───────────────┤\n",
              "│ dense_3 (\u001b[38;5;33mDense\u001b[0m)                 │ (\u001b[38;5;45mNone\u001b[0m, \u001b[38;5;34m9\u001b[0m)              │         \u001b[38;5;34m1,161\u001b[0m │\n",
              "└─────────────────────────────────┴────────────────────────┴───────────────┘\n"
            ],
            "text/html": [
              "<pre style=\"white-space:pre;overflow-x:auto;line-height:normal;font-family:Menlo,'DejaVu Sans Mono',consolas,'Courier New',monospace\">┏━━━━━━━━━━━━━━━━━━━━━━━━━━━━━━━━━┳━━━━━━━━━━━━━━━━━━━━━━━━┳━━━━━━━━━━━━━━━┓\n",
              "┃<span style=\"font-weight: bold\"> Layer (type)                    </span>┃<span style=\"font-weight: bold\"> Output Shape           </span>┃<span style=\"font-weight: bold\">       Param # </span>┃\n",
              "┡━━━━━━━━━━━━━━━━━━━━━━━━━━━━━━━━━╇━━━━━━━━━━━━━━━━━━━━━━━━╇━━━━━━━━━━━━━━━┩\n",
              "│ input_layer_3 (<span style=\"color: #0087ff; text-decoration-color: #0087ff\">InputLayer</span>)      │ (<span style=\"color: #00d7ff; text-decoration-color: #00d7ff\">None</span>, <span style=\"color: #00af00; text-decoration-color: #00af00\">224</span>, <span style=\"color: #00af00; text-decoration-color: #00af00\">224</span>, <span style=\"color: #00af00; text-decoration-color: #00af00\">3</span>)    │             <span style=\"color: #00af00; text-decoration-color: #00af00\">0</span> │\n",
              "├─────────────────────────────────┼────────────────────────┼───────────────┤\n",
              "│ sequential (<span style=\"color: #0087ff; text-decoration-color: #0087ff\">Sequential</span>)         │ (<span style=\"color: #00d7ff; text-decoration-color: #00d7ff\">None</span>, <span style=\"color: #00af00; text-decoration-color: #00af00\">224</span>, <span style=\"color: #00af00; text-decoration-color: #00af00\">224</span>, <span style=\"color: #00af00; text-decoration-color: #00af00\">3</span>)    │             <span style=\"color: #00af00; text-decoration-color: #00af00\">0</span> │\n",
              "├─────────────────────────────────┼────────────────────────┼───────────────┤\n",
              "│ resnet101 (<span style=\"color: #0087ff; text-decoration-color: #0087ff\">Functional</span>)          │ (<span style=\"color: #00d7ff; text-decoration-color: #00d7ff\">None</span>, <span style=\"color: #00af00; text-decoration-color: #00af00\">7</span>, <span style=\"color: #00af00; text-decoration-color: #00af00\">7</span>, <span style=\"color: #00af00; text-decoration-color: #00af00\">2048</span>)     │    <span style=\"color: #00af00; text-decoration-color: #00af00\">42,658,176</span> │\n",
              "├─────────────────────────────────┼────────────────────────┼───────────────┤\n",
              "│ global_average_pooling2d_1      │ (<span style=\"color: #00d7ff; text-decoration-color: #00d7ff\">None</span>, <span style=\"color: #00af00; text-decoration-color: #00af00\">2048</span>)           │             <span style=\"color: #00af00; text-decoration-color: #00af00\">0</span> │\n",
              "│ (<span style=\"color: #0087ff; text-decoration-color: #0087ff\">GlobalAveragePooling2D</span>)        │                        │               │\n",
              "├─────────────────────────────────┼────────────────────────┼───────────────┤\n",
              "│ dense_2 (<span style=\"color: #0087ff; text-decoration-color: #0087ff\">Dense</span>)                 │ (<span style=\"color: #00d7ff; text-decoration-color: #00d7ff\">None</span>, <span style=\"color: #00af00; text-decoration-color: #00af00\">128</span>)            │       <span style=\"color: #00af00; text-decoration-color: #00af00\">262,272</span> │\n",
              "├─────────────────────────────────┼────────────────────────┼───────────────┤\n",
              "│ batch_normalization_1           │ (<span style=\"color: #00d7ff; text-decoration-color: #00d7ff\">None</span>, <span style=\"color: #00af00; text-decoration-color: #00af00\">128</span>)            │           <span style=\"color: #00af00; text-decoration-color: #00af00\">512</span> │\n",
              "│ (<span style=\"color: #0087ff; text-decoration-color: #0087ff\">BatchNormalization</span>)            │                        │               │\n",
              "├─────────────────────────────────┼────────────────────────┼───────────────┤\n",
              "│ dropout_1 (<span style=\"color: #0087ff; text-decoration-color: #0087ff\">Dropout</span>)             │ (<span style=\"color: #00d7ff; text-decoration-color: #00d7ff\">None</span>, <span style=\"color: #00af00; text-decoration-color: #00af00\">128</span>)            │             <span style=\"color: #00af00; text-decoration-color: #00af00\">0</span> │\n",
              "├─────────────────────────────────┼────────────────────────┼───────────────┤\n",
              "│ dense_3 (<span style=\"color: #0087ff; text-decoration-color: #0087ff\">Dense</span>)                 │ (<span style=\"color: #00d7ff; text-decoration-color: #00d7ff\">None</span>, <span style=\"color: #00af00; text-decoration-color: #00af00\">9</span>)              │         <span style=\"color: #00af00; text-decoration-color: #00af00\">1,161</span> │\n",
              "└─────────────────────────────────┴────────────────────────┴───────────────┘\n",
              "</pre>\n"
            ]
          },
          "metadata": {}
        },
        {
          "output_type": "display_data",
          "data": {
            "text/plain": [
              "\u001b[1m Total params: \u001b[0m\u001b[38;5;34m42,922,121\u001b[0m (163.73 MB)\n"
            ],
            "text/html": [
              "<pre style=\"white-space:pre;overflow-x:auto;line-height:normal;font-family:Menlo,'DejaVu Sans Mono',consolas,'Courier New',monospace\"><span style=\"font-weight: bold\"> Total params: </span><span style=\"color: #00af00; text-decoration-color: #00af00\">42,922,121</span> (163.73 MB)\n",
              "</pre>\n"
            ]
          },
          "metadata": {}
        },
        {
          "output_type": "display_data",
          "data": {
            "text/plain": [
              "\u001b[1m Trainable params: \u001b[0m\u001b[38;5;34m263,689\u001b[0m (1.01 MB)\n"
            ],
            "text/html": [
              "<pre style=\"white-space:pre;overflow-x:auto;line-height:normal;font-family:Menlo,'DejaVu Sans Mono',consolas,'Courier New',monospace\"><span style=\"font-weight: bold\"> Trainable params: </span><span style=\"color: #00af00; text-decoration-color: #00af00\">263,689</span> (1.01 MB)\n",
              "</pre>\n"
            ]
          },
          "metadata": {}
        },
        {
          "output_type": "display_data",
          "data": {
            "text/plain": [
              "\u001b[1m Non-trainable params: \u001b[0m\u001b[38;5;34m42,658,432\u001b[0m (162.73 MB)\n"
            ],
            "text/html": [
              "<pre style=\"white-space:pre;overflow-x:auto;line-height:normal;font-family:Menlo,'DejaVu Sans Mono',consolas,'Courier New',monospace\"><span style=\"font-weight: bold\"> Non-trainable params: </span><span style=\"color: #00af00; text-decoration-color: #00af00\">42,658,432</span> (162.73 MB)\n",
              "</pre>\n"
            ]
          },
          "metadata": {}
        }
      ]
    },
    {
      "cell_type": "markdown",
      "source": [
        "#####  EfficientNetB0"
      ],
      "metadata": {
        "id": "8G3Nj9-SRUwh"
      }
    },
    {
      "cell_type": "code",
      "source": [
        "num_classes = len(all_labels)  # Set the number of output classes for your task\n",
        "\n",
        "# Define model input shape (images of size 224x224, with 3 color channels)\n",
        "inputs = Input(shape=(224, 224, 3))\n",
        "\n",
        "# Data augmentation pipeline (should be defined elsewhere), applies only during training\n",
        "x = data_augmentation(inputs)\n",
        "\n",
        "# Load EfficientNetB0 with ImageNet weights, exclude original top classification layer\n",
        "EfficientNetB0_base = EfficientNetB0(\n",
        "    include_top=False,          # Remove the original classifier\n",
        "    weights='imagenet',         # Load pre-trained ImageNet weights\n",
        "    input_shape=(224, 224, 3)\n",
        ")\n",
        "EfficientNetB0_base.trainable = False    # Freeze all layers in the pre-trained model\n",
        "\n",
        "# Pass augmented input through the base model (no training on base model's weights)\n",
        "x = EfficientNetB0_base(x, training=False)\n",
        "\n",
        "# Reduce feature maps to a single vector using global average pooling\n",
        "x = layers.GlobalAveragePooling2D()(x)\n",
        "\n",
        "# Add a fully connected layer with ReLU activation and L2 regularization\n",
        "x = layers.Dense(\n",
        "    128,\n",
        "    activation='relu',\n",
        "    kernel_regularizer=regularizers.l2(0.01)\n",
        ")(x)\n",
        "\n",
        "# Apply batch normalization for faster and more stable training\n",
        "x = layers.BatchNormalization()(x)\n",
        "\n",
        "# Apply dropout (randomly disables 20% of neurons) to reduce overfitting\n",
        "x = layers.Dropout(0.2)(x)\n",
        "\n",
        "# Output layer: Dense layer with softmax activation for multi-class classification\n",
        "outputs = layers.Dense(num_classes, activation='softmax')(x)\n",
        "\n",
        "# Create the full Keras model from inputs to outputs\n",
        "model_EfficientNetB0 = models.Model(inputs, outputs)\n",
        "\n",
        "# Compile the model with Adam optimizer, categorical cross-entropy loss, and accuracy metric\n",
        "model_EfficientNetB0.compile(\n",
        "    optimizer=Adam(learning_rate=1e-3),\n",
        "    loss='categorical_crossentropy',\n",
        "    metrics=['accuracy']\n",
        ")\n",
        "\n",
        "# Print the model summary to check the architecture\n",
        "model_EfficientNetB0.summary()\n"
      ],
      "metadata": {
        "id": "G6jrfWRXCOpR",
        "colab": {
          "base_uri": "https://localhost:8080/",
          "height": 452
        },
        "outputId": "c06b0737-4274-474d-c560-65b0a56be71a"
      },
      "execution_count": null,
      "outputs": [
        {
          "output_type": "stream",
          "name": "stdout",
          "text": [
            "Downloading data from https://storage.googleapis.com/keras-applications/efficientnetb0_notop.h5\n",
            "\u001b[1m16705208/16705208\u001b[0m \u001b[32m━━━━━━━━━━━━━━━━━━━━\u001b[0m\u001b[37m\u001b[0m \u001b[1m0s\u001b[0m 0us/step\n"
          ]
        },
        {
          "output_type": "display_data",
          "data": {
            "text/plain": [
              "\u001b[1mModel: \"functional_3\"\u001b[0m\n"
            ],
            "text/html": [
              "<pre style=\"white-space:pre;overflow-x:auto;line-height:normal;font-family:Menlo,'DejaVu Sans Mono',consolas,'Courier New',monospace\"><span style=\"font-weight: bold\">Model: \"functional_3\"</span>\n",
              "</pre>\n"
            ]
          },
          "metadata": {}
        },
        {
          "output_type": "display_data",
          "data": {
            "text/plain": [
              "┏━━━━━━━━━━━━━━━━━━━━━━━━━━━━━━━━━┳━━━━━━━━━━━━━━━━━━━━━━━━┳━━━━━━━━━━━━━━━┓\n",
              "┃\u001b[1m \u001b[0m\u001b[1mLayer (type)                   \u001b[0m\u001b[1m \u001b[0m┃\u001b[1m \u001b[0m\u001b[1mOutput Shape          \u001b[0m\u001b[1m \u001b[0m┃\u001b[1m \u001b[0m\u001b[1m      Param #\u001b[0m\u001b[1m \u001b[0m┃\n",
              "┡━━━━━━━━━━━━━━━━━━━━━━━━━━━━━━━━━╇━━━━━━━━━━━━━━━━━━━━━━━━╇━━━━━━━━━━━━━━━┩\n",
              "│ input_layer_5 (\u001b[38;5;33mInputLayer\u001b[0m)      │ (\u001b[38;5;45mNone\u001b[0m, \u001b[38;5;34m224\u001b[0m, \u001b[38;5;34m224\u001b[0m, \u001b[38;5;34m3\u001b[0m)    │             \u001b[38;5;34m0\u001b[0m │\n",
              "├─────────────────────────────────┼────────────────────────┼───────────────┤\n",
              "│ sequential (\u001b[38;5;33mSequential\u001b[0m)         │ (\u001b[38;5;45mNone\u001b[0m, \u001b[38;5;34m224\u001b[0m, \u001b[38;5;34m224\u001b[0m, \u001b[38;5;34m3\u001b[0m)    │             \u001b[38;5;34m0\u001b[0m │\n",
              "├─────────────────────────────────┼────────────────────────┼───────────────┤\n",
              "│ efficientnetb0 (\u001b[38;5;33mFunctional\u001b[0m)     │ (\u001b[38;5;45mNone\u001b[0m, \u001b[38;5;34m7\u001b[0m, \u001b[38;5;34m7\u001b[0m, \u001b[38;5;34m1280\u001b[0m)     │     \u001b[38;5;34m4,049,571\u001b[0m │\n",
              "├─────────────────────────────────┼────────────────────────┼───────────────┤\n",
              "│ global_average_pooling2d_2      │ (\u001b[38;5;45mNone\u001b[0m, \u001b[38;5;34m1280\u001b[0m)           │             \u001b[38;5;34m0\u001b[0m │\n",
              "│ (\u001b[38;5;33mGlobalAveragePooling2D\u001b[0m)        │                        │               │\n",
              "├─────────────────────────────────┼────────────────────────┼───────────────┤\n",
              "│ dense_4 (\u001b[38;5;33mDense\u001b[0m)                 │ (\u001b[38;5;45mNone\u001b[0m, \u001b[38;5;34m128\u001b[0m)            │       \u001b[38;5;34m163,968\u001b[0m │\n",
              "├─────────────────────────────────┼────────────────────────┼───────────────┤\n",
              "│ batch_normalization_2           │ (\u001b[38;5;45mNone\u001b[0m, \u001b[38;5;34m128\u001b[0m)            │           \u001b[38;5;34m512\u001b[0m │\n",
              "│ (\u001b[38;5;33mBatchNormalization\u001b[0m)            │                        │               │\n",
              "├─────────────────────────────────┼────────────────────────┼───────────────┤\n",
              "│ dropout_2 (\u001b[38;5;33mDropout\u001b[0m)             │ (\u001b[38;5;45mNone\u001b[0m, \u001b[38;5;34m128\u001b[0m)            │             \u001b[38;5;34m0\u001b[0m │\n",
              "├─────────────────────────────────┼────────────────────────┼───────────────┤\n",
              "│ dense_5 (\u001b[38;5;33mDense\u001b[0m)                 │ (\u001b[38;5;45mNone\u001b[0m, \u001b[38;5;34m9\u001b[0m)              │         \u001b[38;5;34m1,161\u001b[0m │\n",
              "└─────────────────────────────────┴────────────────────────┴───────────────┘\n"
            ],
            "text/html": [
              "<pre style=\"white-space:pre;overflow-x:auto;line-height:normal;font-family:Menlo,'DejaVu Sans Mono',consolas,'Courier New',monospace\">┏━━━━━━━━━━━━━━━━━━━━━━━━━━━━━━━━━┳━━━━━━━━━━━━━━━━━━━━━━━━┳━━━━━━━━━━━━━━━┓\n",
              "┃<span style=\"font-weight: bold\"> Layer (type)                    </span>┃<span style=\"font-weight: bold\"> Output Shape           </span>┃<span style=\"font-weight: bold\">       Param # </span>┃\n",
              "┡━━━━━━━━━━━━━━━━━━━━━━━━━━━━━━━━━╇━━━━━━━━━━━━━━━━━━━━━━━━╇━━━━━━━━━━━━━━━┩\n",
              "│ input_layer_5 (<span style=\"color: #0087ff; text-decoration-color: #0087ff\">InputLayer</span>)      │ (<span style=\"color: #00d7ff; text-decoration-color: #00d7ff\">None</span>, <span style=\"color: #00af00; text-decoration-color: #00af00\">224</span>, <span style=\"color: #00af00; text-decoration-color: #00af00\">224</span>, <span style=\"color: #00af00; text-decoration-color: #00af00\">3</span>)    │             <span style=\"color: #00af00; text-decoration-color: #00af00\">0</span> │\n",
              "├─────────────────────────────────┼────────────────────────┼───────────────┤\n",
              "│ sequential (<span style=\"color: #0087ff; text-decoration-color: #0087ff\">Sequential</span>)         │ (<span style=\"color: #00d7ff; text-decoration-color: #00d7ff\">None</span>, <span style=\"color: #00af00; text-decoration-color: #00af00\">224</span>, <span style=\"color: #00af00; text-decoration-color: #00af00\">224</span>, <span style=\"color: #00af00; text-decoration-color: #00af00\">3</span>)    │             <span style=\"color: #00af00; text-decoration-color: #00af00\">0</span> │\n",
              "├─────────────────────────────────┼────────────────────────┼───────────────┤\n",
              "│ efficientnetb0 (<span style=\"color: #0087ff; text-decoration-color: #0087ff\">Functional</span>)     │ (<span style=\"color: #00d7ff; text-decoration-color: #00d7ff\">None</span>, <span style=\"color: #00af00; text-decoration-color: #00af00\">7</span>, <span style=\"color: #00af00; text-decoration-color: #00af00\">7</span>, <span style=\"color: #00af00; text-decoration-color: #00af00\">1280</span>)     │     <span style=\"color: #00af00; text-decoration-color: #00af00\">4,049,571</span> │\n",
              "├─────────────────────────────────┼────────────────────────┼───────────────┤\n",
              "│ global_average_pooling2d_2      │ (<span style=\"color: #00d7ff; text-decoration-color: #00d7ff\">None</span>, <span style=\"color: #00af00; text-decoration-color: #00af00\">1280</span>)           │             <span style=\"color: #00af00; text-decoration-color: #00af00\">0</span> │\n",
              "│ (<span style=\"color: #0087ff; text-decoration-color: #0087ff\">GlobalAveragePooling2D</span>)        │                        │               │\n",
              "├─────────────────────────────────┼────────────────────────┼───────────────┤\n",
              "│ dense_4 (<span style=\"color: #0087ff; text-decoration-color: #0087ff\">Dense</span>)                 │ (<span style=\"color: #00d7ff; text-decoration-color: #00d7ff\">None</span>, <span style=\"color: #00af00; text-decoration-color: #00af00\">128</span>)            │       <span style=\"color: #00af00; text-decoration-color: #00af00\">163,968</span> │\n",
              "├─────────────────────────────────┼────────────────────────┼───────────────┤\n",
              "│ batch_normalization_2           │ (<span style=\"color: #00d7ff; text-decoration-color: #00d7ff\">None</span>, <span style=\"color: #00af00; text-decoration-color: #00af00\">128</span>)            │           <span style=\"color: #00af00; text-decoration-color: #00af00\">512</span> │\n",
              "│ (<span style=\"color: #0087ff; text-decoration-color: #0087ff\">BatchNormalization</span>)            │                        │               │\n",
              "├─────────────────────────────────┼────────────────────────┼───────────────┤\n",
              "│ dropout_2 (<span style=\"color: #0087ff; text-decoration-color: #0087ff\">Dropout</span>)             │ (<span style=\"color: #00d7ff; text-decoration-color: #00d7ff\">None</span>, <span style=\"color: #00af00; text-decoration-color: #00af00\">128</span>)            │             <span style=\"color: #00af00; text-decoration-color: #00af00\">0</span> │\n",
              "├─────────────────────────────────┼────────────────────────┼───────────────┤\n",
              "│ dense_5 (<span style=\"color: #0087ff; text-decoration-color: #0087ff\">Dense</span>)                 │ (<span style=\"color: #00d7ff; text-decoration-color: #00d7ff\">None</span>, <span style=\"color: #00af00; text-decoration-color: #00af00\">9</span>)              │         <span style=\"color: #00af00; text-decoration-color: #00af00\">1,161</span> │\n",
              "└─────────────────────────────────┴────────────────────────┴───────────────┘\n",
              "</pre>\n"
            ]
          },
          "metadata": {}
        },
        {
          "output_type": "display_data",
          "data": {
            "text/plain": [
              "\u001b[1m Total params: \u001b[0m\u001b[38;5;34m4,215,212\u001b[0m (16.08 MB)\n"
            ],
            "text/html": [
              "<pre style=\"white-space:pre;overflow-x:auto;line-height:normal;font-family:Menlo,'DejaVu Sans Mono',consolas,'Courier New',monospace\"><span style=\"font-weight: bold\"> Total params: </span><span style=\"color: #00af00; text-decoration-color: #00af00\">4,215,212</span> (16.08 MB)\n",
              "</pre>\n"
            ]
          },
          "metadata": {}
        },
        {
          "output_type": "display_data",
          "data": {
            "text/plain": [
              "\u001b[1m Trainable params: \u001b[0m\u001b[38;5;34m165,385\u001b[0m (646.04 KB)\n"
            ],
            "text/html": [
              "<pre style=\"white-space:pre;overflow-x:auto;line-height:normal;font-family:Menlo,'DejaVu Sans Mono',consolas,'Courier New',monospace\"><span style=\"font-weight: bold\"> Trainable params: </span><span style=\"color: #00af00; text-decoration-color: #00af00\">165,385</span> (646.04 KB)\n",
              "</pre>\n"
            ]
          },
          "metadata": {}
        },
        {
          "output_type": "display_data",
          "data": {
            "text/plain": [
              "\u001b[1m Non-trainable params: \u001b[0m\u001b[38;5;34m4,049,827\u001b[0m (15.45 MB)\n"
            ],
            "text/html": [
              "<pre style=\"white-space:pre;overflow-x:auto;line-height:normal;font-family:Menlo,'DejaVu Sans Mono',consolas,'Courier New',monospace\"><span style=\"font-weight: bold\"> Non-trainable params: </span><span style=\"color: #00af00; text-decoration-color: #00af00\">4,049,827</span> (15.45 MB)\n",
              "</pre>\n"
            ]
          },
          "metadata": {}
        }
      ]
    },
    {
      "cell_type": "code",
      "source": [
        "num_classes = len(all_labels)  # number of classes in my dataset\n",
        "\n",
        "inputs = Input(shape=(224, 224, 3))\n",
        "x = data_augmentation(inputs)  # Real-time image augmentation\n",
        "\n",
        "# Load pre-trained VGG16 without classification head\n",
        "vgg16_base = VGG16(\n",
        "    include_top=False,\n",
        "    weights='imagenet',\n",
        "    input_shape=(224, 224, 3)\n",
        ")\n",
        "vgg16_base.trainable = False  # Freeze all pre-trained layers\n",
        "\n",
        "x = vgg16_base(x, training=False)\n",
        "x = layers.GlobalAveragePooling2D()(x)\n",
        "x = layers.Dense(\n",
        "    128, activation='relu', kernel_regularizer=regularizers.l2(0.01)\n",
        ")(x)\n",
        "x = layers.BatchNormalization()(x)\n",
        "x = layers.Dropout(0.2)(x)\n",
        "outputs = layers.Dense(num_classes, activation='softmax')(x)\n",
        "\n",
        "model_vgg16 = models.Model(inputs, outputs)\n",
        "\n",
        "model_vgg16.compile(\n",
        "    optimizer=Adam(learning_rate=1e-3),\n",
        "    loss='categorical_crossentropy',\n",
        "    metrics=['accuracy']\n",
        ")\n",
        "\n",
        "model_vgg16.summary()\n"
      ],
      "metadata": {
        "id": "-gZiG7NqZPYy",
        "colab": {
          "base_uri": "https://localhost:8080/",
          "height": 452
        },
        "outputId": "7262c959-6fec-4577-91fa-cc708fa881ed"
      },
      "execution_count": null,
      "outputs": [
        {
          "output_type": "stream",
          "name": "stdout",
          "text": [
            "Downloading data from https://storage.googleapis.com/tensorflow/keras-applications/vgg16/vgg16_weights_tf_dim_ordering_tf_kernels_notop.h5\n",
            "\u001b[1m58889256/58889256\u001b[0m \u001b[32m━━━━━━━━━━━━━━━━━━━━\u001b[0m\u001b[37m\u001b[0m \u001b[1m0s\u001b[0m 0us/step\n"
          ]
        },
        {
          "output_type": "display_data",
          "data": {
            "text/plain": [
              "\u001b[1mModel: \"functional_4\"\u001b[0m\n"
            ],
            "text/html": [
              "<pre style=\"white-space:pre;overflow-x:auto;line-height:normal;font-family:Menlo,'DejaVu Sans Mono',consolas,'Courier New',monospace\"><span style=\"font-weight: bold\">Model: \"functional_4\"</span>\n",
              "</pre>\n"
            ]
          },
          "metadata": {}
        },
        {
          "output_type": "display_data",
          "data": {
            "text/plain": [
              "┏━━━━━━━━━━━━━━━━━━━━━━━━━━━━━━━━━┳━━━━━━━━━━━━━━━━━━━━━━━━┳━━━━━━━━━━━━━━━┓\n",
              "┃\u001b[1m \u001b[0m\u001b[1mLayer (type)                   \u001b[0m\u001b[1m \u001b[0m┃\u001b[1m \u001b[0m\u001b[1mOutput Shape          \u001b[0m\u001b[1m \u001b[0m┃\u001b[1m \u001b[0m\u001b[1m      Param #\u001b[0m\u001b[1m \u001b[0m┃\n",
              "┡━━━━━━━━━━━━━━━━━━━━━━━━━━━━━━━━━╇━━━━━━━━━━━━━━━━━━━━━━━━╇━━━━━━━━━━━━━━━┩\n",
              "│ input_layer_7 (\u001b[38;5;33mInputLayer\u001b[0m)      │ (\u001b[38;5;45mNone\u001b[0m, \u001b[38;5;34m224\u001b[0m, \u001b[38;5;34m224\u001b[0m, \u001b[38;5;34m3\u001b[0m)    │             \u001b[38;5;34m0\u001b[0m │\n",
              "├─────────────────────────────────┼────────────────────────┼───────────────┤\n",
              "│ sequential (\u001b[38;5;33mSequential\u001b[0m)         │ (\u001b[38;5;45mNone\u001b[0m, \u001b[38;5;34m224\u001b[0m, \u001b[38;5;34m224\u001b[0m, \u001b[38;5;34m3\u001b[0m)    │             \u001b[38;5;34m0\u001b[0m │\n",
              "├─────────────────────────────────┼────────────────────────┼───────────────┤\n",
              "│ vgg16 (\u001b[38;5;33mFunctional\u001b[0m)              │ (\u001b[38;5;45mNone\u001b[0m, \u001b[38;5;34m7\u001b[0m, \u001b[38;5;34m7\u001b[0m, \u001b[38;5;34m512\u001b[0m)      │    \u001b[38;5;34m14,714,688\u001b[0m │\n",
              "├─────────────────────────────────┼────────────────────────┼───────────────┤\n",
              "│ global_average_pooling2d_3      │ (\u001b[38;5;45mNone\u001b[0m, \u001b[38;5;34m512\u001b[0m)            │             \u001b[38;5;34m0\u001b[0m │\n",
              "│ (\u001b[38;5;33mGlobalAveragePooling2D\u001b[0m)        │                        │               │\n",
              "├─────────────────────────────────┼────────────────────────┼───────────────┤\n",
              "│ dense_6 (\u001b[38;5;33mDense\u001b[0m)                 │ (\u001b[38;5;45mNone\u001b[0m, \u001b[38;5;34m128\u001b[0m)            │        \u001b[38;5;34m65,664\u001b[0m │\n",
              "├─────────────────────────────────┼────────────────────────┼───────────────┤\n",
              "│ batch_normalization_3           │ (\u001b[38;5;45mNone\u001b[0m, \u001b[38;5;34m128\u001b[0m)            │           \u001b[38;5;34m512\u001b[0m │\n",
              "│ (\u001b[38;5;33mBatchNormalization\u001b[0m)            │                        │               │\n",
              "├─────────────────────────────────┼────────────────────────┼───────────────┤\n",
              "│ dropout_3 (\u001b[38;5;33mDropout\u001b[0m)             │ (\u001b[38;5;45mNone\u001b[0m, \u001b[38;5;34m128\u001b[0m)            │             \u001b[38;5;34m0\u001b[0m │\n",
              "├─────────────────────────────────┼────────────────────────┼───────────────┤\n",
              "│ dense_7 (\u001b[38;5;33mDense\u001b[0m)                 │ (\u001b[38;5;45mNone\u001b[0m, \u001b[38;5;34m9\u001b[0m)              │         \u001b[38;5;34m1,161\u001b[0m │\n",
              "└─────────────────────────────────┴────────────────────────┴───────────────┘\n"
            ],
            "text/html": [
              "<pre style=\"white-space:pre;overflow-x:auto;line-height:normal;font-family:Menlo,'DejaVu Sans Mono',consolas,'Courier New',monospace\">┏━━━━━━━━━━━━━━━━━━━━━━━━━━━━━━━━━┳━━━━━━━━━━━━━━━━━━━━━━━━┳━━━━━━━━━━━━━━━┓\n",
              "┃<span style=\"font-weight: bold\"> Layer (type)                    </span>┃<span style=\"font-weight: bold\"> Output Shape           </span>┃<span style=\"font-weight: bold\">       Param # </span>┃\n",
              "┡━━━━━━━━━━━━━━━━━━━━━━━━━━━━━━━━━╇━━━━━━━━━━━━━━━━━━━━━━━━╇━━━━━━━━━━━━━━━┩\n",
              "│ input_layer_7 (<span style=\"color: #0087ff; text-decoration-color: #0087ff\">InputLayer</span>)      │ (<span style=\"color: #00d7ff; text-decoration-color: #00d7ff\">None</span>, <span style=\"color: #00af00; text-decoration-color: #00af00\">224</span>, <span style=\"color: #00af00; text-decoration-color: #00af00\">224</span>, <span style=\"color: #00af00; text-decoration-color: #00af00\">3</span>)    │             <span style=\"color: #00af00; text-decoration-color: #00af00\">0</span> │\n",
              "├─────────────────────────────────┼────────────────────────┼───────────────┤\n",
              "│ sequential (<span style=\"color: #0087ff; text-decoration-color: #0087ff\">Sequential</span>)         │ (<span style=\"color: #00d7ff; text-decoration-color: #00d7ff\">None</span>, <span style=\"color: #00af00; text-decoration-color: #00af00\">224</span>, <span style=\"color: #00af00; text-decoration-color: #00af00\">224</span>, <span style=\"color: #00af00; text-decoration-color: #00af00\">3</span>)    │             <span style=\"color: #00af00; text-decoration-color: #00af00\">0</span> │\n",
              "├─────────────────────────────────┼────────────────────────┼───────────────┤\n",
              "│ vgg16 (<span style=\"color: #0087ff; text-decoration-color: #0087ff\">Functional</span>)              │ (<span style=\"color: #00d7ff; text-decoration-color: #00d7ff\">None</span>, <span style=\"color: #00af00; text-decoration-color: #00af00\">7</span>, <span style=\"color: #00af00; text-decoration-color: #00af00\">7</span>, <span style=\"color: #00af00; text-decoration-color: #00af00\">512</span>)      │    <span style=\"color: #00af00; text-decoration-color: #00af00\">14,714,688</span> │\n",
              "├─────────────────────────────────┼────────────────────────┼───────────────┤\n",
              "│ global_average_pooling2d_3      │ (<span style=\"color: #00d7ff; text-decoration-color: #00d7ff\">None</span>, <span style=\"color: #00af00; text-decoration-color: #00af00\">512</span>)            │             <span style=\"color: #00af00; text-decoration-color: #00af00\">0</span> │\n",
              "│ (<span style=\"color: #0087ff; text-decoration-color: #0087ff\">GlobalAveragePooling2D</span>)        │                        │               │\n",
              "├─────────────────────────────────┼────────────────────────┼───────────────┤\n",
              "│ dense_6 (<span style=\"color: #0087ff; text-decoration-color: #0087ff\">Dense</span>)                 │ (<span style=\"color: #00d7ff; text-decoration-color: #00d7ff\">None</span>, <span style=\"color: #00af00; text-decoration-color: #00af00\">128</span>)            │        <span style=\"color: #00af00; text-decoration-color: #00af00\">65,664</span> │\n",
              "├─────────────────────────────────┼────────────────────────┼───────────────┤\n",
              "│ batch_normalization_3           │ (<span style=\"color: #00d7ff; text-decoration-color: #00d7ff\">None</span>, <span style=\"color: #00af00; text-decoration-color: #00af00\">128</span>)            │           <span style=\"color: #00af00; text-decoration-color: #00af00\">512</span> │\n",
              "│ (<span style=\"color: #0087ff; text-decoration-color: #0087ff\">BatchNormalization</span>)            │                        │               │\n",
              "├─────────────────────────────────┼────────────────────────┼───────────────┤\n",
              "│ dropout_3 (<span style=\"color: #0087ff; text-decoration-color: #0087ff\">Dropout</span>)             │ (<span style=\"color: #00d7ff; text-decoration-color: #00d7ff\">None</span>, <span style=\"color: #00af00; text-decoration-color: #00af00\">128</span>)            │             <span style=\"color: #00af00; text-decoration-color: #00af00\">0</span> │\n",
              "├─────────────────────────────────┼────────────────────────┼───────────────┤\n",
              "│ dense_7 (<span style=\"color: #0087ff; text-decoration-color: #0087ff\">Dense</span>)                 │ (<span style=\"color: #00d7ff; text-decoration-color: #00d7ff\">None</span>, <span style=\"color: #00af00; text-decoration-color: #00af00\">9</span>)              │         <span style=\"color: #00af00; text-decoration-color: #00af00\">1,161</span> │\n",
              "└─────────────────────────────────┴────────────────────────┴───────────────┘\n",
              "</pre>\n"
            ]
          },
          "metadata": {}
        },
        {
          "output_type": "display_data",
          "data": {
            "text/plain": [
              "\u001b[1m Total params: \u001b[0m\u001b[38;5;34m14,782,025\u001b[0m (56.39 MB)\n"
            ],
            "text/html": [
              "<pre style=\"white-space:pre;overflow-x:auto;line-height:normal;font-family:Menlo,'DejaVu Sans Mono',consolas,'Courier New',monospace\"><span style=\"font-weight: bold\"> Total params: </span><span style=\"color: #00af00; text-decoration-color: #00af00\">14,782,025</span> (56.39 MB)\n",
              "</pre>\n"
            ]
          },
          "metadata": {}
        },
        {
          "output_type": "display_data",
          "data": {
            "text/plain": [
              "\u001b[1m Trainable params: \u001b[0m\u001b[38;5;34m67,081\u001b[0m (262.04 KB)\n"
            ],
            "text/html": [
              "<pre style=\"white-space:pre;overflow-x:auto;line-height:normal;font-family:Menlo,'DejaVu Sans Mono',consolas,'Courier New',monospace\"><span style=\"font-weight: bold\"> Trainable params: </span><span style=\"color: #00af00; text-decoration-color: #00af00\">67,081</span> (262.04 KB)\n",
              "</pre>\n"
            ]
          },
          "metadata": {}
        },
        {
          "output_type": "display_data",
          "data": {
            "text/plain": [
              "\u001b[1m Non-trainable params: \u001b[0m\u001b[38;5;34m14,714,944\u001b[0m (56.13 MB)\n"
            ],
            "text/html": [
              "<pre style=\"white-space:pre;overflow-x:auto;line-height:normal;font-family:Menlo,'DejaVu Sans Mono',consolas,'Courier New',monospace\"><span style=\"font-weight: bold\"> Non-trainable params: </span><span style=\"color: #00af00; text-decoration-color: #00af00\">14,714,944</span> (56.13 MB)\n",
              "</pre>\n"
            ]
          },
          "metadata": {}
        }
      ]
    },
    {
      "cell_type": "markdown",
      "source": [
        " ### iv. Train the networks for at least 50 epochs (preferably 100 epochs) and perform early stopping using the validation set. Use a randomly selected subset of 20% of each class as the validation set. Keep the network parameters that have the lowest validation error. Plot the training and validation errors vs. epochs."
      ],
      "metadata": {
        "id": "mhD_JTx1YZb_"
      }
    },
    {
      "cell_type": "markdown",
      "source": [
        "#### Now, further split train_files into train/val (stratified) - Forming Validation Set"
      ],
      "metadata": {
        "id": "uO8EvweYVyt0"
      }
    },
    {
      "cell_type": "code",
      "source": [
        "\n",
        "val_files, val_labels = [], []\n",
        "train_files, val_files, train_labels, val_labels = train_test_split(\n",
        "    train_files, train_labels, test_size=0.2, stratify=train_labels, random_state=42\n",
        ")\n",
        "\n",
        "print(\"Train images:\", len(train_files))\n",
        "print(\"Validation images:\", len(val_files))\n",
        "print(\"Test images:\", len(test_files))\n",
        "\n"
      ],
      "metadata": {
        "id": "WHCSU8nwXugW",
        "colab": {
          "base_uri": "https://localhost:8080/"
        },
        "outputId": "de27ed6c-3f0f-47e1-d012-8004e700cc1a"
      },
      "execution_count": null,
      "outputs": [
        {
          "output_type": "stream",
          "name": "stdout",
          "text": [
            "Train images: 3038\n",
            "Validation images: 760\n",
            "Test images: 954\n"
          ]
        }
      ]
    },
    {
      "cell_type": "markdown",
      "source": [
        "#### Performing One Hot Encoding - Validation set"
      ],
      "metadata": {
        "id": "acOzLI_CbfDk"
      }
    },
    {
      "cell_type": "code",
      "source": [
        "val_label_indices   = [label_to_int[label] for label in val_labels]\n",
        "y_val   = to_categorical(val_label_indices, num_classes=num_classes)\n",
        "X_val = preprocess_images(val_files, target_size=(224, 224))"
      ],
      "metadata": {
        "id": "AqwJG2O7qvS8"
      },
      "execution_count": null,
      "outputs": []
    },
    {
      "cell_type": "markdown",
      "source": [
        "##### Displaying one example from each category, selected according to the one-hot encoded label assignments - Validation Set"
      ],
      "metadata": {
        "id": "cvBjCthGV-NZ"
      }
    },
    {
      "cell_type": "code",
      "source": [
        "seen = set()\n",
        "for label, vector in zip(val_labels, y_val):\n",
        "    if label not in seen:\n",
        "        print(f\"{label:12s} → {vector}\")\n",
        "        seen.add(label)\n",
        "    if len(seen) == len(all_labels):\n",
        "        break"
      ],
      "metadata": {
        "id": "cuhj7yVcuhru",
        "colab": {
          "base_uri": "https://localhost:8080/"
        },
        "outputId": "bd573252-660f-475f-d99e-1fe50d4d90fd"
      },
      "execution_count": null,
      "outputs": [
        {
          "output_type": "stream",
          "name": "stdout",
          "text": [
            "Metal        → [0. 0. 0. 1. 0. 0. 0. 0. 0.]\n",
            "Cardboard    → [1. 0. 0. 0. 0. 0. 0. 0. 0.]\n",
            "Vegetation   → [0. 0. 0. 0. 0. 0. 0. 0. 1.]\n",
            "Miscellaneous Trash → [0. 0. 0. 0. 1. 0. 0. 0. 0.]\n",
            "Paper        → [0. 0. 0. 0. 0. 1. 0. 0. 0.]\n",
            "Plastic      → [0. 0. 0. 0. 0. 0. 1. 0. 0.]\n",
            "Food Organics → [0. 1. 0. 0. 0. 0. 0. 0. 0.]\n",
            "Textile Trash → [0. 0. 0. 0. 0. 0. 0. 1. 0.]\n",
            "Glass        → [0. 0. 1. 0. 0. 0. 0. 0. 0.]\n"
          ]
        }
      ]
    },
    {
      "cell_type": "markdown",
      "source": [
        "\n",
        "One-hot encoded = y_train, y_val, y_test"
      ],
      "metadata": {
        "id": "mTDbCyUlvwjh"
      }
    },
    {
      "cell_type": "markdown",
      "source": [
        "### Training of ResNet50"
      ],
      "metadata": {
        "id": "lStzdq2TXr8c"
      }
    },
    {
      "cell_type": "code",
      "source": [
        "# Callbacks\n",
        "early_stop = EarlyStopping(monitor='val_loss', patience=15, restore_best_weights=True) # Early Stopping\n",
        "ckpt = ModelCheckpoint('best_resnet50.keras', save_best_only=True, monitor='val_loss') # Saving the best model\n",
        "\n",
        "#Adaptive Learning Rate using ReduceLROnPlateau technique\n",
        "reduce_lr = ReduceLROnPlateau(monitor='val_loss', factor=0.1, patience=8, min_lr=1e-6, verbose = 1)\n",
        "\n",
        "# Training\n",
        "history = model_resnet50.fit(\n",
        "    X_train, y_train,\n",
        "    validation_data=(X_val, y_val),\n",
        "    batch_size=5, # Using 5 samples per grdient update\n",
        "    epochs=100,\n",
        "    callbacks=[early_stop, ckpt, reduce_lr],\n",
        "    verbose=1 # printing training progress and callback messages on the screen\n",
        ")\n",
        "\n",
        "model_resnet50.save('final_resnet50.keras') ## Saving the last model as well as it cotains best weights\n",
        "\n",
        "# Plotting\n",
        "plt.figure(figsize=(12,4))\n",
        "plt.subplot(1,2,1)\n",
        "plt.plot(history.history['loss'], label='Train Loss')\n",
        "plt.plot(history.history['val_loss'], label='Val Loss')\n",
        "plt.xlabel('Epoch'); plt.ylabel('Loss'); plt.legend(); plt.title('ResNet50 Loss')\n",
        "\n",
        "plt.subplot(1,2,2)\n",
        "plt.plot(history.history['accuracy'], label='Train Acc')\n",
        "plt.plot(history.history['val_accuracy'], label='Val Acc')\n",
        "plt.xlabel('Epoch'); plt.ylabel('Accuracy'); plt.legend(); plt.title('ResNet50 Accuracy')\n",
        "plt.show()\n"
      ],
      "metadata": {
        "id": "XjUjqnq2v2yg",
        "colab": {
          "base_uri": "https://localhost:8080/",
          "height": 1000
        },
        "outputId": "767baf0c-317f-4c5a-8725-44ec8ca59101"
      },
      "execution_count": null,
      "outputs": [
        {
          "output_type": "stream",
          "name": "stdout",
          "text": [
            "Epoch 1/100\n",
            "\u001b[1m760/760\u001b[0m \u001b[32m━━━━━━━━━━━━━━━━━━━━\u001b[0m\u001b[37m\u001b[0m \u001b[1m44s\u001b[0m 41ms/step - accuracy: 0.4892 - loss: 3.2099 - val_accuracy: 0.6013 - val_loss: 2.0620 - learning_rate: 0.0010\n",
            "Epoch 2/100\n",
            "\u001b[1m760/760\u001b[0m \u001b[32m━━━━━━━━━━━━━━━━━━━━\u001b[0m\u001b[37m\u001b[0m \u001b[1m33s\u001b[0m 36ms/step - accuracy: 0.6652 - loss: 1.7215 - val_accuracy: 0.7395 - val_loss: 1.3215 - learning_rate: 0.0010\n",
            "Epoch 3/100\n",
            "\u001b[1m760/760\u001b[0m \u001b[32m━━━━━━━━━━━━━━━━━━━━\u001b[0m\u001b[37m\u001b[0m \u001b[1m40s\u001b[0m 35ms/step - accuracy: 0.6757 - loss: 1.5192 - val_accuracy: 0.6855 - val_loss: 1.4181 - learning_rate: 0.0010\n",
            "Epoch 4/100\n",
            "\u001b[1m760/760\u001b[0m \u001b[32m━━━━━━━━━━━━━━━━━━━━\u001b[0m\u001b[37m\u001b[0m \u001b[1m27s\u001b[0m 36ms/step - accuracy: 0.6692 - loss: 1.4161 - val_accuracy: 0.7579 - val_loss: 1.1435 - learning_rate: 0.0010\n",
            "Epoch 5/100\n",
            "\u001b[1m760/760\u001b[0m \u001b[32m━━━━━━━━━━━━━━━━━━━━\u001b[0m\u001b[37m\u001b[0m \u001b[1m41s\u001b[0m 37ms/step - accuracy: 0.6757 - loss: 1.3945 - val_accuracy: 0.6961 - val_loss: 1.3089 - learning_rate: 0.0010\n",
            "Epoch 6/100\n",
            "\u001b[1m760/760\u001b[0m \u001b[32m━━━━━━━━━━━━━━━━━━━━\u001b[0m\u001b[37m\u001b[0m \u001b[1m41s\u001b[0m 37ms/step - accuracy: 0.6768 - loss: 1.3737 - val_accuracy: 0.7079 - val_loss: 1.2159 - learning_rate: 0.0010\n",
            "Epoch 7/100\n",
            "\u001b[1m760/760\u001b[0m \u001b[32m━━━━━━━━━━━━━━━━━━━━\u001b[0m\u001b[37m\u001b[0m \u001b[1m42s\u001b[0m 38ms/step - accuracy: 0.6695 - loss: 1.3539 - val_accuracy: 0.7566 - val_loss: 1.1336 - learning_rate: 0.0010\n",
            "Epoch 8/100\n",
            "\u001b[1m760/760\u001b[0m \u001b[32m━━━━━━━━━━━━━━━━━━━━\u001b[0m\u001b[37m\u001b[0m \u001b[1m40s\u001b[0m 37ms/step - accuracy: 0.6719 - loss: 1.3603 - val_accuracy: 0.7171 - val_loss: 1.1900 - learning_rate: 0.0010\n",
            "Epoch 9/100\n",
            "\u001b[1m760/760\u001b[0m \u001b[32m━━━━━━━━━━━━━━━━━━━━\u001b[0m\u001b[37m\u001b[0m \u001b[1m40s\u001b[0m 35ms/step - accuracy: 0.6559 - loss: 1.3834 - val_accuracy: 0.6934 - val_loss: 1.2611 - learning_rate: 0.0010\n",
            "Epoch 10/100\n",
            "\u001b[1m760/760\u001b[0m \u001b[32m━━━━━━━━━━━━━━━━━━━━\u001b[0m\u001b[37m\u001b[0m \u001b[1m42s\u001b[0m 36ms/step - accuracy: 0.6770 - loss: 1.3261 - val_accuracy: 0.7329 - val_loss: 1.1299 - learning_rate: 0.0010\n",
            "Epoch 11/100\n",
            "\u001b[1m760/760\u001b[0m \u001b[32m━━━━━━━━━━━━━━━━━━━━\u001b[0m\u001b[37m\u001b[0m \u001b[1m40s\u001b[0m 35ms/step - accuracy: 0.6609 - loss: 1.3522 - val_accuracy: 0.6947 - val_loss: 1.2910 - learning_rate: 0.0010\n",
            "Epoch 12/100\n",
            "\u001b[1m760/760\u001b[0m \u001b[32m━━━━━━━━━━━━━━━━━━━━\u001b[0m\u001b[37m\u001b[0m \u001b[1m28s\u001b[0m 37ms/step - accuracy: 0.6695 - loss: 1.3508 - val_accuracy: 0.7289 - val_loss: 1.1332 - learning_rate: 0.0010\n",
            "Epoch 13/100\n",
            "\u001b[1m760/760\u001b[0m \u001b[32m━━━━━━━━━━━━━━━━━━━━\u001b[0m\u001b[37m\u001b[0m \u001b[1m39s\u001b[0m 35ms/step - accuracy: 0.6731 - loss: 1.3270 - val_accuracy: 0.7039 - val_loss: 1.1730 - learning_rate: 0.0010\n",
            "Epoch 14/100\n",
            "\u001b[1m760/760\u001b[0m \u001b[32m━━━━━━━━━━━━━━━━━━━━\u001b[0m\u001b[37m\u001b[0m \u001b[1m41s\u001b[0m 35ms/step - accuracy: 0.6744 - loss: 1.2826 - val_accuracy: 0.6355 - val_loss: 1.3724 - learning_rate: 0.0010\n",
            "Epoch 15/100\n",
            "\u001b[1m760/760\u001b[0m \u001b[32m━━━━━━━━━━━━━━━━━━━━\u001b[0m\u001b[37m\u001b[0m \u001b[1m42s\u001b[0m 37ms/step - accuracy: 0.6706 - loss: 1.3589 - val_accuracy: 0.7303 - val_loss: 1.1640 - learning_rate: 0.0010\n",
            "Epoch 16/100\n",
            "\u001b[1m760/760\u001b[0m \u001b[32m━━━━━━━━━━━━━━━━━━━━\u001b[0m\u001b[37m\u001b[0m \u001b[1m41s\u001b[0m 37ms/step - accuracy: 0.6763 - loss: 1.3271 - val_accuracy: 0.7303 - val_loss: 1.1375 - learning_rate: 0.0010\n",
            "Epoch 17/100\n",
            "\u001b[1m760/760\u001b[0m \u001b[32m━━━━━━━━━━━━━━━━━━━━\u001b[0m\u001b[37m\u001b[0m \u001b[1m42s\u001b[0m 38ms/step - accuracy: 0.6719 - loss: 1.3492 - val_accuracy: 0.7803 - val_loss: 1.0387 - learning_rate: 0.0010\n",
            "Epoch 18/100\n",
            "\u001b[1m760/760\u001b[0m \u001b[32m━━━━━━━━━━━━━━━━━━━━\u001b[0m\u001b[37m\u001b[0m \u001b[1m28s\u001b[0m 37ms/step - accuracy: 0.6981 - loss: 1.2605 - val_accuracy: 0.7355 - val_loss: 1.0988 - learning_rate: 0.0010\n",
            "Epoch 19/100\n",
            "\u001b[1m760/760\u001b[0m \u001b[32m━━━━━━━━━━━━━━━━━━━━\u001b[0m\u001b[37m\u001b[0m \u001b[1m41s\u001b[0m 36ms/step - accuracy: 0.6871 - loss: 1.3025 - val_accuracy: 0.7342 - val_loss: 1.0766 - learning_rate: 0.0010\n",
            "Epoch 20/100\n",
            "\u001b[1m760/760\u001b[0m \u001b[32m━━━━━━━━━━━━━━━━━━━━\u001b[0m\u001b[37m\u001b[0m \u001b[1m41s\u001b[0m 37ms/step - accuracy: 0.6951 - loss: 1.2451 - val_accuracy: 0.7408 - val_loss: 1.0724 - learning_rate: 0.0010\n",
            "Epoch 21/100\n",
            "\u001b[1m760/760\u001b[0m \u001b[32m━━━━━━━━━━━━━━━━━━━━\u001b[0m\u001b[37m\u001b[0m \u001b[1m40s\u001b[0m 36ms/step - accuracy: 0.6806 - loss: 1.3087 - val_accuracy: 0.7645 - val_loss: 1.0070 - learning_rate: 0.0010\n",
            "Epoch 22/100\n",
            "\u001b[1m760/760\u001b[0m \u001b[32m━━━━━━━━━━━━━━━━━━━━\u001b[0m\u001b[37m\u001b[0m \u001b[1m28s\u001b[0m 37ms/step - accuracy: 0.6731 - loss: 1.2710 - val_accuracy: 0.7487 - val_loss: 1.0502 - learning_rate: 0.0010\n",
            "Epoch 23/100\n",
            "\u001b[1m760/760\u001b[0m \u001b[32m━━━━━━━━━━━━━━━━━━━━\u001b[0m\u001b[37m\u001b[0m \u001b[1m40s\u001b[0m 35ms/step - accuracy: 0.6944 - loss: 1.2145 - val_accuracy: 0.7171 - val_loss: 1.1383 - learning_rate: 0.0010\n",
            "Epoch 24/100\n",
            "\u001b[1m760/760\u001b[0m \u001b[32m━━━━━━━━━━━━━━━━━━━━\u001b[0m\u001b[37m\u001b[0m \u001b[1m41s\u001b[0m 35ms/step - accuracy: 0.6754 - loss: 1.2369 - val_accuracy: 0.3882 - val_loss: 4.9802 - learning_rate: 0.0010\n",
            "Epoch 25/100\n",
            "\u001b[1m760/760\u001b[0m \u001b[32m━━━━━━━━━━━━━━━━━━━━\u001b[0m\u001b[37m\u001b[0m \u001b[1m42s\u001b[0m 37ms/step - accuracy: 0.6806 - loss: 1.3138 - val_accuracy: 0.7184 - val_loss: 1.1123 - learning_rate: 0.0010\n",
            "Epoch 26/100\n",
            "\u001b[1m760/760\u001b[0m \u001b[32m━━━━━━━━━━━━━━━━━━━━\u001b[0m\u001b[37m\u001b[0m \u001b[1m26s\u001b[0m 35ms/step - accuracy: 0.6981 - loss: 1.2436 - val_accuracy: 0.7487 - val_loss: 1.0832 - learning_rate: 0.0010\n",
            "Epoch 27/100\n",
            "\u001b[1m760/760\u001b[0m \u001b[32m━━━━━━━━━━━━━━━━━━━━\u001b[0m\u001b[37m\u001b[0m \u001b[1m41s\u001b[0m 35ms/step - accuracy: 0.6829 - loss: 1.2633 - val_accuracy: 0.7342 - val_loss: 1.0845 - learning_rate: 0.0010\n",
            "Epoch 28/100\n",
            "\u001b[1m760/760\u001b[0m \u001b[32m━━━━━━━━━━━━━━━━━━━━\u001b[0m\u001b[37m\u001b[0m \u001b[1m28s\u001b[0m 37ms/step - accuracy: 0.6725 - loss: 1.3047 - val_accuracy: 0.6579 - val_loss: 1.2448 - learning_rate: 0.0010\n",
            "Epoch 29/100\n",
            "\u001b[1m759/760\u001b[0m \u001b[32m━━━━━━━━━━━━━━━━━━━\u001b[0m\u001b[37m━\u001b[0m \u001b[1m0s\u001b[0m 30ms/step - accuracy: 0.6592 - loss: 1.2878\n",
            "Epoch 29: ReduceLROnPlateau reducing learning rate to 0.00010000000474974513.\n",
            "\u001b[1m760/760\u001b[0m \u001b[32m━━━━━━━━━━━━━━━━━━━━\u001b[0m\u001b[37m\u001b[0m \u001b[1m41s\u001b[0m 37ms/step - accuracy: 0.6592 - loss: 1.2879 - val_accuracy: 0.7526 - val_loss: 1.0848 - learning_rate: 0.0010\n",
            "Epoch 30/100\n",
            "\u001b[1m760/760\u001b[0m \u001b[32m━━━━━━━━━━━━━━━━━━━━\u001b[0m\u001b[37m\u001b[0m \u001b[1m41s\u001b[0m 37ms/step - accuracy: 0.7009 - loss: 1.1984 - val_accuracy: 0.7855 - val_loss: 0.9064 - learning_rate: 1.0000e-04\n",
            "Epoch 31/100\n",
            "\u001b[1m760/760\u001b[0m \u001b[32m━━━━━━━━━━━━━━━━━━━━\u001b[0m\u001b[37m\u001b[0m \u001b[1m42s\u001b[0m 38ms/step - accuracy: 0.7306 - loss: 1.1067 - val_accuracy: 0.7882 - val_loss: 0.8338 - learning_rate: 1.0000e-04\n",
            "Epoch 32/100\n",
            "\u001b[1m760/760\u001b[0m \u001b[32m━━━━━━━━━━━━━━━━━━━━\u001b[0m\u001b[37m\u001b[0m \u001b[1m40s\u001b[0m 37ms/step - accuracy: 0.7254 - loss: 1.0656 - val_accuracy: 0.7921 - val_loss: 0.8100 - learning_rate: 1.0000e-04\n",
            "Epoch 33/100\n",
            "\u001b[1m760/760\u001b[0m \u001b[32m━━━━━━━━━━━━━━━━━━━━\u001b[0m\u001b[37m\u001b[0m \u001b[1m42s\u001b[0m 38ms/step - accuracy: 0.7435 - loss: 1.0210 - val_accuracy: 0.8066 - val_loss: 0.7634 - learning_rate: 1.0000e-04\n",
            "Epoch 34/100\n",
            "\u001b[1m760/760\u001b[0m \u001b[32m━━━━━━━━━━━━━━━━━━━━\u001b[0m\u001b[37m\u001b[0m \u001b[1m42s\u001b[0m 39ms/step - accuracy: 0.7426 - loss: 0.9914 - val_accuracy: 0.7961 - val_loss: 0.7610 - learning_rate: 1.0000e-04\n",
            "Epoch 35/100\n",
            "\u001b[1m760/760\u001b[0m \u001b[32m━━━━━━━━━━━━━━━━━━━━\u001b[0m\u001b[37m\u001b[0m \u001b[1m40s\u001b[0m 37ms/step - accuracy: 0.7417 - loss: 0.9542 - val_accuracy: 0.7908 - val_loss: 0.7771 - learning_rate: 1.0000e-04\n",
            "Epoch 36/100\n",
            "\u001b[1m760/760\u001b[0m \u001b[32m━━━━━━━━━━━━━━━━━━━━\u001b[0m\u001b[37m\u001b[0m \u001b[1m41s\u001b[0m 37ms/step - accuracy: 0.7528 - loss: 0.9163 - val_accuracy: 0.7987 - val_loss: 0.7648 - learning_rate: 1.0000e-04\n",
            "Epoch 37/100\n",
            "\u001b[1m760/760\u001b[0m \u001b[32m━━━━━━━━━━━━━━━━━━━━\u001b[0m\u001b[37m\u001b[0m \u001b[1m40s\u001b[0m 36ms/step - accuracy: 0.7448 - loss: 0.8995 - val_accuracy: 0.8066 - val_loss: 0.6953 - learning_rate: 1.0000e-04\n",
            "Epoch 38/100\n",
            "\u001b[1m760/760\u001b[0m \u001b[32m━━━━━━━━━━━━━━━━━━━━\u001b[0m\u001b[37m\u001b[0m \u001b[1m40s\u001b[0m 36ms/step - accuracy: 0.7573 - loss: 0.8805 - val_accuracy: 0.8053 - val_loss: 0.7354 - learning_rate: 1.0000e-04\n",
            "Epoch 39/100\n",
            "\u001b[1m760/760\u001b[0m \u001b[32m━━━━━━━━━━━━━━━━━━━━\u001b[0m\u001b[37m\u001b[0m \u001b[1m41s\u001b[0m 36ms/step - accuracy: 0.7741 - loss: 0.8277 - val_accuracy: 0.8145 - val_loss: 0.7086 - learning_rate: 1.0000e-04\n",
            "Epoch 40/100\n",
            "\u001b[1m760/760\u001b[0m \u001b[32m━━━━━━━━━━━━━━━━━━━━\u001b[0m\u001b[37m\u001b[0m \u001b[1m27s\u001b[0m 35ms/step - accuracy: 0.7764 - loss: 0.8458 - val_accuracy: 0.8105 - val_loss: 0.7128 - learning_rate: 1.0000e-04\n",
            "Epoch 41/100\n",
            "\u001b[1m760/760\u001b[0m \u001b[32m━━━━━━━━━━━━━━━━━━━━\u001b[0m\u001b[37m\u001b[0m \u001b[1m43s\u001b[0m 37ms/step - accuracy: 0.7715 - loss: 0.8126 - val_accuracy: 0.8263 - val_loss: 0.6611 - learning_rate: 1.0000e-04\n",
            "Epoch 42/100\n",
            "\u001b[1m760/760\u001b[0m \u001b[32m━━━━━━━━━━━━━━━━━━━━\u001b[0m\u001b[37m\u001b[0m \u001b[1m41s\u001b[0m 37ms/step - accuracy: 0.7871 - loss: 0.8008 - val_accuracy: 0.8184 - val_loss: 0.6921 - learning_rate: 1.0000e-04\n",
            "Epoch 43/100\n",
            "\u001b[1m760/760\u001b[0m \u001b[32m━━━━━━━━━━━━━━━━━━━━\u001b[0m\u001b[37m\u001b[0m \u001b[1m39s\u001b[0m 35ms/step - accuracy: 0.7719 - loss: 0.8338 - val_accuracy: 0.8171 - val_loss: 0.6949 - learning_rate: 1.0000e-04\n",
            "Epoch 44/100\n",
            "\u001b[1m760/760\u001b[0m \u001b[32m━━━━━━━━━━━━━━━━━━━━\u001b[0m\u001b[37m\u001b[0m \u001b[1m43s\u001b[0m 38ms/step - accuracy: 0.7667 - loss: 0.8302 - val_accuracy: 0.8329 - val_loss: 0.6365 - learning_rate: 1.0000e-04\n",
            "Epoch 45/100\n",
            "\u001b[1m760/760\u001b[0m \u001b[32m━━━━━━━━━━━━━━━━━━━━\u001b[0m\u001b[37m\u001b[0m \u001b[1m28s\u001b[0m 37ms/step - accuracy: 0.7956 - loss: 0.7652 - val_accuracy: 0.8184 - val_loss: 0.6519 - learning_rate: 1.0000e-04\n",
            "Epoch 46/100\n",
            "\u001b[1m760/760\u001b[0m \u001b[32m━━━━━━━━━━━━━━━━━━━━\u001b[0m\u001b[37m\u001b[0m \u001b[1m39s\u001b[0m 35ms/step - accuracy: 0.7908 - loss: 0.7873 - val_accuracy: 0.8105 - val_loss: 0.6762 - learning_rate: 1.0000e-04\n",
            "Epoch 47/100\n",
            "\u001b[1m760/760\u001b[0m \u001b[32m━━━━━━━━━━━━━━━━━━━━\u001b[0m\u001b[37m\u001b[0m \u001b[1m42s\u001b[0m 36ms/step - accuracy: 0.7847 - loss: 0.7802 - val_accuracy: 0.8342 - val_loss: 0.6107 - learning_rate: 1.0000e-04\n",
            "Epoch 48/100\n",
            "\u001b[1m760/760\u001b[0m \u001b[32m━━━━━━━━━━━━━━━━━━━━\u001b[0m\u001b[37m\u001b[0m \u001b[1m41s\u001b[0m 36ms/step - accuracy: 0.7949 - loss: 0.7560 - val_accuracy: 0.8579 - val_loss: 0.5761 - learning_rate: 1.0000e-04\n",
            "Epoch 49/100\n",
            "\u001b[1m760/760\u001b[0m \u001b[32m━━━━━━━━━━━━━━━━━━━━\u001b[0m\u001b[37m\u001b[0m \u001b[1m41s\u001b[0m 37ms/step - accuracy: 0.7896 - loss: 0.7809 - val_accuracy: 0.8592 - val_loss: 0.5569 - learning_rate: 1.0000e-04\n",
            "Epoch 50/100\n",
            "\u001b[1m760/760\u001b[0m \u001b[32m━━━━━━━━━━━━━━━━━━━━\u001b[0m\u001b[37m\u001b[0m \u001b[1m41s\u001b[0m 37ms/step - accuracy: 0.7757 - loss: 0.7806 - val_accuracy: 0.8382 - val_loss: 0.6054 - learning_rate: 1.0000e-04\n",
            "Epoch 51/100\n",
            "\u001b[1m760/760\u001b[0m \u001b[32m━━━━━━━━━━━━━━━━━━━━\u001b[0m\u001b[37m\u001b[0m \u001b[1m40s\u001b[0m 36ms/step - accuracy: 0.7957 - loss: 0.7432 - val_accuracy: 0.8566 - val_loss: 0.5505 - learning_rate: 1.0000e-04\n",
            "Epoch 52/100\n",
            "\u001b[1m760/760\u001b[0m \u001b[32m━━━━━━━━━━━━━━━━━━━━\u001b[0m\u001b[37m\u001b[0m \u001b[1m41s\u001b[0m 37ms/step - accuracy: 0.8079 - loss: 0.7057 - val_accuracy: 0.8434 - val_loss: 0.5823 - learning_rate: 1.0000e-04\n",
            "Epoch 53/100\n",
            "\u001b[1m760/760\u001b[0m \u001b[32m━━━━━━━━━━━━━━━━━━━━\u001b[0m\u001b[37m\u001b[0m \u001b[1m40s\u001b[0m 35ms/step - accuracy: 0.8054 - loss: 0.7262 - val_accuracy: 0.8316 - val_loss: 0.5906 - learning_rate: 1.0000e-04\n",
            "Epoch 54/100\n",
            "\u001b[1m760/760\u001b[0m \u001b[32m━━━━━━━━━━━━━━━━━━━━\u001b[0m\u001b[37m\u001b[0m \u001b[1m28s\u001b[0m 37ms/step - accuracy: 0.8223 - loss: 0.6900 - val_accuracy: 0.8434 - val_loss: 0.5779 - learning_rate: 1.0000e-04\n",
            "Epoch 55/100\n",
            "\u001b[1m760/760\u001b[0m \u001b[32m━━━━━━━━━━━━━━━━━━━━\u001b[0m\u001b[37m\u001b[0m \u001b[1m28s\u001b[0m 37ms/step - accuracy: 0.8052 - loss: 0.7111 - val_accuracy: 0.8118 - val_loss: 0.6413 - learning_rate: 1.0000e-04\n",
            "Epoch 56/100\n",
            "\u001b[1m760/760\u001b[0m \u001b[32m━━━━━━━━━━━━━━━━━━━━\u001b[0m\u001b[37m\u001b[0m \u001b[1m41s\u001b[0m 37ms/step - accuracy: 0.8096 - loss: 0.6990 - val_accuracy: 0.8553 - val_loss: 0.5341 - learning_rate: 1.0000e-04\n",
            "Epoch 57/100\n",
            "\u001b[1m760/760\u001b[0m \u001b[32m━━━━━━━━━━━━━━━━━━━━\u001b[0m\u001b[37m\u001b[0m \u001b[1m41s\u001b[0m 37ms/step - accuracy: 0.8093 - loss: 0.6960 - val_accuracy: 0.8395 - val_loss: 0.5439 - learning_rate: 1.0000e-04\n",
            "Epoch 58/100\n",
            "\u001b[1m760/760\u001b[0m \u001b[32m━━━━━━━━━━━━━━━━━━━━\u001b[0m\u001b[37m\u001b[0m \u001b[1m41s\u001b[0m 37ms/step - accuracy: 0.8015 - loss: 0.7362 - val_accuracy: 0.8408 - val_loss: 0.5789 - learning_rate: 1.0000e-04\n",
            "Epoch 59/100\n",
            "\u001b[1m760/760\u001b[0m \u001b[32m━━━━━━━━━━━━━━━━━━━━\u001b[0m\u001b[37m\u001b[0m \u001b[1m41s\u001b[0m 37ms/step - accuracy: 0.8017 - loss: 0.7084 - val_accuracy: 0.8303 - val_loss: 0.6073 - learning_rate: 1.0000e-04\n",
            "Epoch 60/100\n",
            "\u001b[1m760/760\u001b[0m \u001b[32m━━━━━━━━━━━━━━━━━━━━\u001b[0m\u001b[37m\u001b[0m \u001b[1m40s\u001b[0m 35ms/step - accuracy: 0.7963 - loss: 0.7299 - val_accuracy: 0.8395 - val_loss: 0.6054 - learning_rate: 1.0000e-04\n",
            "Epoch 61/100\n",
            "\u001b[1m760/760\u001b[0m \u001b[32m━━━━━━━━━━━━━━━━━━━━\u001b[0m\u001b[37m\u001b[0m \u001b[1m41s\u001b[0m 35ms/step - accuracy: 0.8111 - loss: 0.6907 - val_accuracy: 0.8566 - val_loss: 0.5465 - learning_rate: 1.0000e-04\n",
            "Epoch 62/100\n",
            "\u001b[1m760/760\u001b[0m \u001b[32m━━━━━━━━━━━━━━━━━━━━\u001b[0m\u001b[37m\u001b[0m \u001b[1m43s\u001b[0m 38ms/step - accuracy: 0.8164 - loss: 0.6908 - val_accuracy: 0.8592 - val_loss: 0.5290 - learning_rate: 1.0000e-04\n",
            "Epoch 63/100\n",
            "\u001b[1m760/760\u001b[0m \u001b[32m━━━━━━━━━━━━━━━━━━━━\u001b[0m\u001b[37m\u001b[0m \u001b[1m41s\u001b[0m 38ms/step - accuracy: 0.8091 - loss: 0.7042 - val_accuracy: 0.7776 - val_loss: 0.7108 - learning_rate: 1.0000e-04\n",
            "Epoch 64/100\n",
            "\u001b[1m760/760\u001b[0m \u001b[32m━━━━━━━━━━━━━━━━━━━━\u001b[0m\u001b[37m\u001b[0m \u001b[1m40s\u001b[0m 37ms/step - accuracy: 0.7973 - loss: 0.7177 - val_accuracy: 0.8382 - val_loss: 0.5978 - learning_rate: 1.0000e-04\n",
            "Epoch 65/100\n",
            "\u001b[1m760/760\u001b[0m \u001b[32m━━━━━━━━━━━━━━━━━━━━\u001b[0m\u001b[37m\u001b[0m \u001b[1m41s\u001b[0m 37ms/step - accuracy: 0.7938 - loss: 0.7303 - val_accuracy: 0.8763 - val_loss: 0.5310 - learning_rate: 1.0000e-04\n",
            "Epoch 66/100\n",
            "\u001b[1m760/760\u001b[0m \u001b[32m━━━━━━━━━━━━━━━━━━━━\u001b[0m\u001b[37m\u001b[0m \u001b[1m40s\u001b[0m 37ms/step - accuracy: 0.8075 - loss: 0.7044 - val_accuracy: 0.8658 - val_loss: 0.5269 - learning_rate: 1.0000e-04\n",
            "Epoch 67/100\n",
            "\u001b[1m760/760\u001b[0m \u001b[32m━━━━━━━━━━━━━━━━━━━━\u001b[0m\u001b[37m\u001b[0m \u001b[1m41s\u001b[0m 37ms/step - accuracy: 0.8178 - loss: 0.6830 - val_accuracy: 0.8658 - val_loss: 0.5279 - learning_rate: 1.0000e-04\n",
            "Epoch 68/100\n",
            "\u001b[1m760/760\u001b[0m \u001b[32m━━━━━━━━━━━━━━━━━━━━\u001b[0m\u001b[37m\u001b[0m \u001b[1m27s\u001b[0m 35ms/step - accuracy: 0.8027 - loss: 0.6828 - val_accuracy: 0.8382 - val_loss: 0.5875 - learning_rate: 1.0000e-04\n",
            "Epoch 69/100\n",
            "\u001b[1m760/760\u001b[0m \u001b[32m━━━━━━━━━━━━━━━━━━━━\u001b[0m\u001b[37m\u001b[0m \u001b[1m43s\u001b[0m 38ms/step - accuracy: 0.8153 - loss: 0.6814 - val_accuracy: 0.8658 - val_loss: 0.5235 - learning_rate: 1.0000e-04\n",
            "Epoch 70/100\n",
            "\u001b[1m760/760\u001b[0m \u001b[32m━━━━━━━━━━━━━━━━━━━━\u001b[0m\u001b[37m\u001b[0m \u001b[1m28s\u001b[0m 37ms/step - accuracy: 0.8232 - loss: 0.6542 - val_accuracy: 0.8789 - val_loss: 0.4653 - learning_rate: 1.0000e-04\n",
            "Epoch 71/100\n",
            "\u001b[1m760/760\u001b[0m \u001b[32m━━━━━━━━━━━━━━━━━━━━\u001b[0m\u001b[37m\u001b[0m \u001b[1m27s\u001b[0m 35ms/step - accuracy: 0.8174 - loss: 0.6675 - val_accuracy: 0.8382 - val_loss: 0.6072 - learning_rate: 1.0000e-04\n",
            "Epoch 72/100\n",
            "\u001b[1m760/760\u001b[0m \u001b[32m━━━━━━━━━━━━━━━━━━━━\u001b[0m\u001b[37m\u001b[0m \u001b[1m41s\u001b[0m 35ms/step - accuracy: 0.8166 - loss: 0.6820 - val_accuracy: 0.8579 - val_loss: 0.5497 - learning_rate: 1.0000e-04\n",
            "Epoch 73/100\n",
            "\u001b[1m760/760\u001b[0m \u001b[32m━━━━━━━━━━━━━━━━━━━━\u001b[0m\u001b[37m\u001b[0m \u001b[1m42s\u001b[0m 37ms/step - accuracy: 0.8129 - loss: 0.6974 - val_accuracy: 0.8724 - val_loss: 0.4985 - learning_rate: 1.0000e-04\n",
            "Epoch 74/100\n",
            "\u001b[1m760/760\u001b[0m \u001b[32m━━━━━━━━━━━━━━━━━━━━\u001b[0m\u001b[37m\u001b[0m \u001b[1m39s\u001b[0m 35ms/step - accuracy: 0.8269 - loss: 0.6562 - val_accuracy: 0.8408 - val_loss: 0.5625 - learning_rate: 1.0000e-04\n",
            "Epoch 75/100\n",
            "\u001b[1m760/760\u001b[0m \u001b[32m━━━━━━━━━━━━━━━━━━━━\u001b[0m\u001b[37m\u001b[0m \u001b[1m41s\u001b[0m 35ms/step - accuracy: 0.8320 - loss: 0.6511 - val_accuracy: 0.8421 - val_loss: 0.5669 - learning_rate: 1.0000e-04\n",
            "Epoch 76/100\n",
            "\u001b[1m760/760\u001b[0m \u001b[32m━━━━━━━━━━━━━━━━━━━━\u001b[0m\u001b[37m\u001b[0m \u001b[1m42s\u001b[0m 37ms/step - accuracy: 0.8383 - loss: 0.6417 - val_accuracy: 0.8474 - val_loss: 0.5282 - learning_rate: 1.0000e-04\n",
            "Epoch 77/100\n",
            "\u001b[1m760/760\u001b[0m \u001b[32m━━━━━━━━━━━━━━━━━━━━\u001b[0m\u001b[37m\u001b[0m \u001b[1m27s\u001b[0m 35ms/step - accuracy: 0.8261 - loss: 0.6572 - val_accuracy: 0.6289 - val_loss: 1.7466 - learning_rate: 1.0000e-04\n",
            "Epoch 78/100\n",
            "\u001b[1m760/760\u001b[0m \u001b[32m━━━━━━━━━━━━━━━━━━━━\u001b[0m\u001b[37m\u001b[0m \u001b[1m43s\u001b[0m 37ms/step - accuracy: 0.8350 - loss: 0.6505 - val_accuracy: 0.8829 - val_loss: 0.4651 - learning_rate: 1.0000e-04\n",
            "Epoch 79/100\n",
            "\u001b[1m760/760\u001b[0m \u001b[32m━━━━━━━━━━━━━━━━━━━━\u001b[0m\u001b[37m\u001b[0m \u001b[1m41s\u001b[0m 37ms/step - accuracy: 0.8186 - loss: 0.6696 - val_accuracy: 0.8513 - val_loss: 0.5230 - learning_rate: 1.0000e-04\n",
            "Epoch 80/100\n",
            "\u001b[1m760/760\u001b[0m \u001b[32m━━━━━━━━━━━━━━━━━━━━\u001b[0m\u001b[37m\u001b[0m \u001b[1m40s\u001b[0m 37ms/step - accuracy: 0.8186 - loss: 0.6546 - val_accuracy: 0.8882 - val_loss: 0.4394 - learning_rate: 1.0000e-04\n",
            "Epoch 81/100\n",
            "\u001b[1m760/760\u001b[0m \u001b[32m━━━━━━━━━━━━━━━━━━━━\u001b[0m\u001b[37m\u001b[0m \u001b[1m40s\u001b[0m 35ms/step - accuracy: 0.8239 - loss: 0.6404 - val_accuracy: 0.8421 - val_loss: 0.5613 - learning_rate: 1.0000e-04\n",
            "Epoch 82/100\n",
            "\u001b[1m760/760\u001b[0m \u001b[32m━━━━━━━━━━━━━━━━━━━━\u001b[0m\u001b[37m\u001b[0m \u001b[1m42s\u001b[0m 37ms/step - accuracy: 0.8393 - loss: 0.6247 - val_accuracy: 0.8816 - val_loss: 0.4902 - learning_rate: 1.0000e-04\n",
            "Epoch 83/100\n",
            "\u001b[1m760/760\u001b[0m \u001b[32m━━━━━━━━━━━━━━━━━━━━\u001b[0m\u001b[37m\u001b[0m \u001b[1m40s\u001b[0m 35ms/step - accuracy: 0.8292 - loss: 0.6387 - val_accuracy: 0.8776 - val_loss: 0.5225 - learning_rate: 1.0000e-04\n",
            "Epoch 84/100\n",
            "\u001b[1m760/760\u001b[0m \u001b[32m━━━━━━━━━━━━━━━━━━━━\u001b[0m\u001b[37m\u001b[0m \u001b[1m27s\u001b[0m 35ms/step - accuracy: 0.8194 - loss: 0.6683 - val_accuracy: 0.8908 - val_loss: 0.4490 - learning_rate: 1.0000e-04\n",
            "Epoch 85/100\n",
            "\u001b[1m760/760\u001b[0m \u001b[32m━━━━━━━━━━━━━━━━━━━━\u001b[0m\u001b[37m\u001b[0m \u001b[1m42s\u001b[0m 37ms/step - accuracy: 0.8174 - loss: 0.6703 - val_accuracy: 0.8474 - val_loss: 0.5506 - learning_rate: 1.0000e-04\n",
            "Epoch 86/100\n",
            "\u001b[1m760/760\u001b[0m \u001b[32m━━━━━━━━━━━━━━━━━━━━\u001b[0m\u001b[37m\u001b[0m \u001b[1m27s\u001b[0m 35ms/step - accuracy: 0.8183 - loss: 0.6713 - val_accuracy: 0.8461 - val_loss: 0.5855 - learning_rate: 1.0000e-04\n",
            "Epoch 87/100\n",
            "\u001b[1m760/760\u001b[0m \u001b[32m━━━━━━━━━━━━━━━━━━━━\u001b[0m\u001b[37m\u001b[0m \u001b[1m28s\u001b[0m 37ms/step - accuracy: 0.8306 - loss: 0.6244 - val_accuracy: 0.8763 - val_loss: 0.5021 - learning_rate: 1.0000e-04\n",
            "Epoch 88/100\n",
            "\u001b[1m760/760\u001b[0m \u001b[32m━━━━━━━━━━━━━━━━━━━━\u001b[0m\u001b[37m\u001b[0m \u001b[1m0s\u001b[0m 30ms/step - accuracy: 0.8234 - loss: 0.6731\n",
            "Epoch 88: ReduceLROnPlateau reducing learning rate to 1.0000000474974514e-05.\n",
            "\u001b[1m760/760\u001b[0m \u001b[32m━━━━━━━━━━━━━━━━━━━━\u001b[0m\u001b[37m\u001b[0m \u001b[1m40s\u001b[0m 35ms/step - accuracy: 0.8233 - loss: 0.6731 - val_accuracy: 0.8684 - val_loss: 0.5141 - learning_rate: 1.0000e-04\n",
            "Epoch 89/100\n",
            "\u001b[1m760/760\u001b[0m \u001b[32m━━━━━━━━━━━━━━━━━━━━\u001b[0m\u001b[37m\u001b[0m \u001b[1m28s\u001b[0m 37ms/step - accuracy: 0.8124 - loss: 0.6770 - val_accuracy: 0.8763 - val_loss: 0.4881 - learning_rate: 1.0000e-05\n",
            "Epoch 90/100\n",
            "\u001b[1m760/760\u001b[0m \u001b[32m━━━━━━━━━━━━━━━━━━━━\u001b[0m\u001b[37m\u001b[0m \u001b[1m39s\u001b[0m 35ms/step - accuracy: 0.8240 - loss: 0.6461 - val_accuracy: 0.8829 - val_loss: 0.4833 - learning_rate: 1.0000e-05\n",
            "Epoch 91/100\n",
            "\u001b[1m760/760\u001b[0m \u001b[32m━━━━━━━━━━━━━━━━━━━━\u001b[0m\u001b[37m\u001b[0m \u001b[1m27s\u001b[0m 36ms/step - accuracy: 0.8409 - loss: 0.6085 - val_accuracy: 0.8855 - val_loss: 0.4776 - learning_rate: 1.0000e-05\n",
            "Epoch 92/100\n",
            "\u001b[1m760/760\u001b[0m \u001b[32m━━━━━━━━━━━━━━━━━━━━\u001b[0m\u001b[37m\u001b[0m \u001b[1m41s\u001b[0m 35ms/step - accuracy: 0.8558 - loss: 0.5751 - val_accuracy: 0.8842 - val_loss: 0.4864 - learning_rate: 1.0000e-05\n",
            "Epoch 93/100\n",
            "\u001b[1m760/760\u001b[0m \u001b[32m━━━━━━━━━━━━━━━━━━━━\u001b[0m\u001b[37m\u001b[0m \u001b[1m43s\u001b[0m 37ms/step - accuracy: 0.8429 - loss: 0.5844 - val_accuracy: 0.8855 - val_loss: 0.4689 - learning_rate: 1.0000e-05\n",
            "Epoch 94/100\n",
            "\u001b[1m760/760\u001b[0m \u001b[32m━━━━━━━━━━━━━━━━━━━━\u001b[0m\u001b[37m\u001b[0m \u001b[1m40s\u001b[0m 35ms/step - accuracy: 0.8482 - loss: 0.5958 - val_accuracy: 0.8855 - val_loss: 0.4701 - learning_rate: 1.0000e-05\n",
            "Epoch 95/100\n",
            "\u001b[1m760/760\u001b[0m \u001b[32m━━━━━━━━━━━━━━━━━━━━\u001b[0m\u001b[37m\u001b[0m \u001b[1m41s\u001b[0m 35ms/step - accuracy: 0.8429 - loss: 0.6091 - val_accuracy: 0.8855 - val_loss: 0.4727 - learning_rate: 1.0000e-05\n"
          ]
        },
        {
          "output_type": "display_data",
          "data": {
            "text/plain": [
              "<Figure size 1200x400 with 2 Axes>"
            ],
            "image/png": "[encoded data removed]"
          },
          "metadata": {}
        }
      ]
    },
    {
      "cell_type": "markdown",
      "source": [
        "### Training of ResNet101"
      ],
      "metadata": {
        "id": "4Mlk4ZSJX1Xv"
      }
    },
    {
      "cell_type": "code",
      "source": [
        "fearly_stop = EarlyStopping(monitor='val_loss', patience=15, restore_best_weights=True)\n",
        "ckpt = ModelCheckpoint('best_resnet101.keras', save_best_only=True, monitor='val_loss')\n",
        "\n",
        "reduce_lr = ReduceLROnPlateau(monitor='val_loss', factor=0.1, patience=8, min_lr=1e-6, verbose = 1)\n",
        "\n",
        "history = model_resnet101.fit(\n",
        "    X_train, y_train,\n",
        "    validation_data=(X_val, y_val),\n",
        "    batch_size=5, epochs=100,\n",
        "    callbacks=[early_stop, ckpt, reduce_lr], verbose=1\n",
        ")\n",
        "\n",
        "model_resnet101.save('final_resnet101.keras')\n",
        "\n",
        "plt.figure(figsize=(12,4))\n",
        "plt.subplot(1,2,1)\n",
        "plt.plot(history.history['loss'], label='Train Loss')\n",
        "plt.plot(history.history['val_loss'], label='Val Loss')\n",
        "plt.xlabel('Epoch'); plt.ylabel('Loss'); plt.legend(); plt.title('ResNet101 Loss')\n",
        "\n",
        "plt.subplot(1,2,2)\n",
        "plt.plot(history.history['accuracy'], label='Train Acc')\n",
        "plt.plot(history.history['val_accuracy'], label='Val Acc')\n",
        "plt.xlabel('Epoch'); plt.ylabel('Accuracy'); plt.legend(); plt.title('ResNet101 Accuracy')\n",
        "plt.show()\n"
      ],
      "metadata": {
        "id": "BA_S9Sch4JAM",
        "colab": {
          "base_uri": "https://localhost:8080/",
          "height": 1000
        },
        "outputId": "6223399e-f2d9-4a11-c6a5-e6e1fd5c8aa6"
      },
      "execution_count": null,
      "outputs": [
        {
          "output_type": "stream",
          "name": "stdout",
          "text": [
            "Epoch 1/100\n",
            "\u001b[1m760/760\u001b[0m \u001b[32m━━━━━━━━━━━━━━━━━━━━\u001b[0m\u001b[37m\u001b[0m \u001b[1m49s\u001b[0m 64ms/step - accuracy: 0.7220 - loss: 1.0568 - val_accuracy: 0.7671 - val_loss: 0.9640 - learning_rate: 1.0000e-04\n",
            "Epoch 2/100\n",
            "\u001b[1m760/760\u001b[0m \u001b[32m━━━━━━━━━━━━━━━━━━━━\u001b[0m\u001b[37m\u001b[0m \u001b[1m79s\u001b[0m 60ms/step - accuracy: 0.7240 - loss: 1.0706 - val_accuracy: 0.8461 - val_loss: 0.6721 - learning_rate: 1.0000e-04\n",
            "Epoch 3/100\n",
            "\u001b[1m760/760\u001b[0m \u001b[32m━━━━━━━━━━━━━━━━━━━━\u001b[0m\u001b[37m\u001b[0m \u001b[1m85s\u001b[0m 64ms/step - accuracy: 0.7626 - loss: 0.9235 - val_accuracy: 0.8329 - val_loss: 0.6708 - learning_rate: 1.0000e-04\n",
            "Epoch 4/100\n",
            "\u001b[1m760/760\u001b[0m \u001b[32m━━━━━━━━━━━━━━━━━━━━\u001b[0m\u001b[37m\u001b[0m \u001b[1m82s\u001b[0m 64ms/step - accuracy: 0.7541 - loss: 0.9411 - val_accuracy: 0.8461 - val_loss: 0.6213 - learning_rate: 1.0000e-04\n",
            "Epoch 5/100\n",
            "\u001b[1m760/760\u001b[0m \u001b[32m━━━━━━━━━━━━━━━━━━━━\u001b[0m\u001b[37m\u001b[0m \u001b[1m76s\u001b[0m 57ms/step - accuracy: 0.7707 - loss: 0.9047 - val_accuracy: 0.8447 - val_loss: 0.6325 - learning_rate: 1.0000e-04\n",
            "Epoch 6/100\n",
            "\u001b[1m760/760\u001b[0m \u001b[32m━━━━━━━━━━━━━━━━━━━━\u001b[0m\u001b[37m\u001b[0m \u001b[1m44s\u001b[0m 58ms/step - accuracy: 0.7644 - loss: 0.8977 - val_accuracy: 0.8513 - val_loss: 0.5951 - learning_rate: 1.0000e-04\n",
            "Epoch 7/100\n",
            "\u001b[1m760/760\u001b[0m \u001b[32m━━━━━━━━━━━━━━━━━━━━\u001b[0m\u001b[37m\u001b[0m \u001b[1m86s\u001b[0m 64ms/step - accuracy: 0.7693 - loss: 0.8658 - val_accuracy: 0.8579 - val_loss: 0.5756 - learning_rate: 1.0000e-04\n",
            "Epoch 8/100\n",
            "\u001b[1m760/760\u001b[0m \u001b[32m━━━━━━━━━━━━━━━━━━━━\u001b[0m\u001b[37m\u001b[0m \u001b[1m48s\u001b[0m 64ms/step - accuracy: 0.7720 - loss: 0.8440 - val_accuracy: 0.8645 - val_loss: 0.5613 - learning_rate: 1.0000e-04\n",
            "Epoch 9/100\n",
            "\u001b[1m760/760\u001b[0m \u001b[32m━━━━━━━━━━━━━━━━━━━━\u001b[0m\u001b[37m\u001b[0m \u001b[1m49s\u001b[0m 64ms/step - accuracy: 0.7833 - loss: 0.8088 - val_accuracy: 0.8671 - val_loss: 0.5504 - learning_rate: 1.0000e-04\n",
            "Epoch 10/100\n",
            "\u001b[1m760/760\u001b[0m \u001b[32m━━━━━━━━━━━━━━━━━━━━\u001b[0m\u001b[37m\u001b[0m \u001b[1m76s\u001b[0m 57ms/step - accuracy: 0.7744 - loss: 0.8499 - val_accuracy: 0.8645 - val_loss: 0.5534 - learning_rate: 1.0000e-04\n",
            "Epoch 11/100\n",
            "\u001b[1m760/760\u001b[0m \u001b[32m━━━━━━━━━━━━━━━━━━━━\u001b[0m\u001b[37m\u001b[0m \u001b[1m82s\u001b[0m 57ms/step - accuracy: 0.7768 - loss: 0.8099 - val_accuracy: 0.8513 - val_loss: 0.5652 - learning_rate: 1.0000e-04\n",
            "Epoch 12/100\n",
            "\u001b[1m760/760\u001b[0m \u001b[32m━━━━━━━━━━━━━━━━━━━━\u001b[0m\u001b[37m\u001b[0m \u001b[1m88s\u001b[0m 64ms/step - accuracy: 0.7801 - loss: 0.7925 - val_accuracy: 0.8684 - val_loss: 0.5239 - learning_rate: 1.0000e-04\n",
            "Epoch 13/100\n",
            "\u001b[1m760/760\u001b[0m \u001b[32m━━━━━━━━━━━━━━━━━━━━\u001b[0m\u001b[37m\u001b[0m \u001b[1m77s\u001b[0m 57ms/step - accuracy: 0.7918 - loss: 0.7871 - val_accuracy: 0.8487 - val_loss: 0.5732 - learning_rate: 1.0000e-04\n",
            "Epoch 14/100\n",
            "\u001b[1m760/760\u001b[0m \u001b[32m━━━━━━━━━━━━━━━━━━━━\u001b[0m\u001b[37m\u001b[0m \u001b[1m81s\u001b[0m 57ms/step - accuracy: 0.7744 - loss: 0.8272 - val_accuracy: 0.8711 - val_loss: 0.5517 - learning_rate: 1.0000e-04\n",
            "Epoch 15/100\n",
            "\u001b[1m760/760\u001b[0m \u001b[32m━━━━━━━━━━━━━━━━━━━━\u001b[0m\u001b[37m\u001b[0m \u001b[1m87s\u001b[0m 64ms/step - accuracy: 0.7983 - loss: 0.7519 - val_accuracy: 0.8855 - val_loss: 0.4987 - learning_rate: 1.0000e-04\n",
            "Epoch 16/100\n",
            "\u001b[1m760/760\u001b[0m \u001b[32m━━━━━━━━━━━━━━━━━━━━\u001b[0m\u001b[37m\u001b[0m \u001b[1m43s\u001b[0m 57ms/step - accuracy: 0.8042 - loss: 0.7510 - val_accuracy: 0.8684 - val_loss: 0.5159 - learning_rate: 1.0000e-04\n",
            "Epoch 17/100\n",
            "\u001b[1m760/760\u001b[0m \u001b[32m━━━━━━━━━━━━━━━━━━━━\u001b[0m\u001b[37m\u001b[0m \u001b[1m88s\u001b[0m 64ms/step - accuracy: 0.7898 - loss: 0.7944 - val_accuracy: 0.8750 - val_loss: 0.4911 - learning_rate: 1.0000e-04\n",
            "Epoch 18/100\n",
            "\u001b[1m760/760\u001b[0m \u001b[32m━━━━━━━━━━━━━━━━━━━━\u001b[0m\u001b[37m\u001b[0m \u001b[1m80s\u001b[0m 62ms/step - accuracy: 0.7923 - loss: 0.7418 - val_accuracy: 0.8724 - val_loss: 0.5519 - learning_rate: 1.0000e-04\n",
            "Epoch 19/100\n",
            "\u001b[1m760/760\u001b[0m \u001b[32m━━━━━━━━━━━━━━━━━━━━\u001b[0m\u001b[37m\u001b[0m \u001b[1m80s\u001b[0m 59ms/step - accuracy: 0.7923 - loss: 0.7548 - val_accuracy: 0.8750 - val_loss: 0.4875 - learning_rate: 1.0000e-04\n",
            "Epoch 20/100\n",
            "\u001b[1m760/760\u001b[0m \u001b[32m━━━━━━━━━━━━━━━━━━━━\u001b[0m\u001b[37m\u001b[0m \u001b[1m85s\u001b[0m 63ms/step - accuracy: 0.7966 - loss: 0.7541 - val_accuracy: 0.8408 - val_loss: 0.5696 - learning_rate: 1.0000e-04\n",
            "Epoch 21/100\n",
            "\u001b[1m760/760\u001b[0m \u001b[32m━━━━━━━━━━━━━━━━━━━━\u001b[0m\u001b[37m\u001b[0m \u001b[1m78s\u001b[0m 57ms/step - accuracy: 0.8035 - loss: 0.7238 - val_accuracy: 0.8842 - val_loss: 0.4898 - learning_rate: 1.0000e-04\n",
            "Epoch 22/100\n",
            "\u001b[1m760/760\u001b[0m \u001b[32m━━━━━━━━━━━━━━━━━━━━\u001b[0m\u001b[37m\u001b[0m \u001b[1m48s\u001b[0m 63ms/step - accuracy: 0.8040 - loss: 0.7512 - val_accuracy: 0.8579 - val_loss: 0.5356 - learning_rate: 1.0000e-04\n",
            "Epoch 23/100\n",
            "\u001b[1m760/760\u001b[0m \u001b[32m━━━━━━━━━━━━━━━━━━━━\u001b[0m\u001b[37m\u001b[0m \u001b[1m77s\u001b[0m 57ms/step - accuracy: 0.7932 - loss: 0.7626 - val_accuracy: 0.8118 - val_loss: 0.7014 - learning_rate: 1.0000e-04\n",
            "Epoch 24/100\n",
            "\u001b[1m760/760\u001b[0m \u001b[32m━━━━━━━━━━━━━━━━━━━━\u001b[0m\u001b[37m\u001b[0m \u001b[1m85s\u001b[0m 61ms/step - accuracy: 0.8198 - loss: 0.6799 - val_accuracy: 0.8882 - val_loss: 0.4732 - learning_rate: 1.0000e-04\n",
            "Epoch 25/100\n",
            "\u001b[1m760/760\u001b[0m \u001b[32m━━━━━━━━━━━━━━━━━━━━\u001b[0m\u001b[37m\u001b[0m \u001b[1m85s\u001b[0m 65ms/step - accuracy: 0.8085 - loss: 0.7230 - val_accuracy: 0.8908 - val_loss: 0.4574 - learning_rate: 1.0000e-04\n",
            "Epoch 26/100\n",
            "\u001b[1m760/760\u001b[0m \u001b[32m━━━━━━━━━━━━━━━━━━━━\u001b[0m\u001b[37m\u001b[0m \u001b[1m43s\u001b[0m 56ms/step - accuracy: 0.7963 - loss: 0.7557 - val_accuracy: 0.8750 - val_loss: 0.4758 - learning_rate: 1.0000e-04\n",
            "Epoch 27/100\n",
            "\u001b[1m760/760\u001b[0m \u001b[32m━━━━━━━━━━━━━━━━━━━━\u001b[0m\u001b[37m\u001b[0m \u001b[1m83s\u001b[0m 58ms/step - accuracy: 0.8145 - loss: 0.6994 - val_accuracy: 0.8974 - val_loss: 0.4656 - learning_rate: 1.0000e-04\n",
            "Epoch 28/100\n",
            "\u001b[1m760/760\u001b[0m \u001b[32m━━━━━━━━━━━━━━━━━━━━\u001b[0m\u001b[37m\u001b[0m \u001b[1m81s\u001b[0m 57ms/step - accuracy: 0.8216 - loss: 0.6970 - val_accuracy: 0.8789 - val_loss: 0.4730 - learning_rate: 1.0000e-04\n",
            "Epoch 29/100\n",
            "\u001b[1m760/760\u001b[0m \u001b[32m━━━━━━━━━━━━━━━━━━━━\u001b[0m\u001b[37m\u001b[0m \u001b[1m47s\u001b[0m 62ms/step - accuracy: 0.8141 - loss: 0.6974 - val_accuracy: 0.8750 - val_loss: 0.4681 - learning_rate: 1.0000e-04\n",
            "Epoch 30/100\n",
            "\u001b[1m760/760\u001b[0m \u001b[32m━━━━━━━━━━━━━━━━━━━━\u001b[0m\u001b[37m\u001b[0m \u001b[1m84s\u001b[0m 64ms/step - accuracy: 0.8190 - loss: 0.6880 - val_accuracy: 0.9000 - val_loss: 0.4402 - learning_rate: 1.0000e-04\n",
            "Epoch 31/100\n",
            "\u001b[1m760/760\u001b[0m \u001b[32m━━━━━━━━━━━━━━━━━━━━\u001b[0m\u001b[37m\u001b[0m \u001b[1m81s\u001b[0m 62ms/step - accuracy: 0.8247 - loss: 0.6985 - val_accuracy: 0.8697 - val_loss: 0.5061 - learning_rate: 1.0000e-04\n",
            "Epoch 32/100\n",
            "\u001b[1m760/760\u001b[0m \u001b[32m━━━━━━━━━━━━━━━━━━━━\u001b[0m\u001b[37m\u001b[0m \u001b[1m82s\u001b[0m 63ms/step - accuracy: 0.8248 - loss: 0.6789 - val_accuracy: 0.8829 - val_loss: 0.4620 - learning_rate: 1.0000e-04\n",
            "Epoch 33/100\n",
            "\u001b[1m760/760\u001b[0m \u001b[32m━━━━━━━━━━━━━━━━━━━━\u001b[0m\u001b[37m\u001b[0m \u001b[1m83s\u001b[0m 65ms/step - accuracy: 0.8096 - loss: 0.7092 - val_accuracy: 0.8882 - val_loss: 0.4293 - learning_rate: 1.0000e-04\n",
            "Epoch 34/100\n",
            "\u001b[1m760/760\u001b[0m \u001b[32m━━━━━━━━━━━━━━━━━━━━\u001b[0m\u001b[37m\u001b[0m \u001b[1m80s\u001b[0m 62ms/step - accuracy: 0.8114 - loss: 0.6891 - val_accuracy: 0.8803 - val_loss: 0.4549 - learning_rate: 1.0000e-04\n",
            "Epoch 35/100\n",
            "\u001b[1m760/760\u001b[0m \u001b[32m━━━━━━━━━━━━━━━━━━━━\u001b[0m\u001b[37m\u001b[0m \u001b[1m83s\u001b[0m 63ms/step - accuracy: 0.8151 - loss: 0.6934 - val_accuracy: 0.8829 - val_loss: 0.4520 - learning_rate: 1.0000e-04\n",
            "Epoch 36/100\n",
            "\u001b[1m760/760\u001b[0m \u001b[32m━━━━━━━━━━━━━━━━━━━━\u001b[0m\u001b[37m\u001b[0m \u001b[1m83s\u001b[0m 65ms/step - accuracy: 0.8311 - loss: 0.6343 - val_accuracy: 0.9079 - val_loss: 0.3966 - learning_rate: 1.0000e-04\n",
            "Epoch 37/100\n",
            "\u001b[1m760/760\u001b[0m \u001b[32m━━━━━━━━━━━━━━━━━━━━\u001b[0m\u001b[37m\u001b[0m \u001b[1m78s\u001b[0m 59ms/step - accuracy: 0.8103 - loss: 0.6878 - val_accuracy: 0.8895 - val_loss: 0.4657 - learning_rate: 1.0000e-04\n",
            "Epoch 38/100\n",
            "\u001b[1m760/760\u001b[0m \u001b[32m━━━━━━━━━━━━━━━━━━━━\u001b[0m\u001b[37m\u001b[0m \u001b[1m82s\u001b[0m 59ms/step - accuracy: 0.8190 - loss: 0.6856 - val_accuracy: 0.8145 - val_loss: 0.7462 - learning_rate: 1.0000e-04\n",
            "Epoch 39/100\n",
            "\u001b[1m760/760\u001b[0m \u001b[32m━━━━━━━━━━━━━━━━━━━━\u001b[0m\u001b[37m\u001b[0m \u001b[1m85s\u001b[0m 62ms/step - accuracy: 0.8249 - loss: 0.7053 - val_accuracy: 0.8842 - val_loss: 0.4762 - learning_rate: 1.0000e-04\n",
            "Epoch 40/100\n",
            "\u001b[1m760/760\u001b[0m \u001b[32m━━━━━━━━━━━━━━━━━━━━\u001b[0m\u001b[37m\u001b[0m \u001b[1m82s\u001b[0m 62ms/step - accuracy: 0.8143 - loss: 0.6857 - val_accuracy: 0.8987 - val_loss: 0.4068 - learning_rate: 1.0000e-04\n",
            "Epoch 41/100\n",
            "\u001b[1m760/760\u001b[0m \u001b[32m━━━━━━━━━━━━━━━━━━━━\u001b[0m\u001b[37m\u001b[0m \u001b[1m82s\u001b[0m 63ms/step - accuracy: 0.8100 - loss: 0.7014 - val_accuracy: 0.9013 - val_loss: 0.4085 - learning_rate: 1.0000e-04\n",
            "Epoch 42/100\n",
            "\u001b[1m760/760\u001b[0m \u001b[32m━━━━━━━━━━━━━━━━━━━━\u001b[0m\u001b[37m\u001b[0m \u001b[1m82s\u001b[0m 63ms/step - accuracy: 0.8105 - loss: 0.6833 - val_accuracy: 0.8737 - val_loss: 0.4424 - learning_rate: 1.0000e-04\n",
            "Epoch 43/100\n",
            "\u001b[1m760/760\u001b[0m \u001b[32m━━━━━━━━━━━━━━━━━━━━\u001b[0m\u001b[37m\u001b[0m \u001b[1m81s\u001b[0m 62ms/step - accuracy: 0.8517 - loss: 0.5952 - val_accuracy: 0.8250 - val_loss: 0.6716 - learning_rate: 1.0000e-04\n",
            "Epoch 44/100\n",
            "\u001b[1m759/760\u001b[0m \u001b[32m━━━━━━━━━━━━━━━━━━━\u001b[0m\u001b[37m━\u001b[0m \u001b[1m0s\u001b[0m 50ms/step - accuracy: 0.8139 - loss: 0.7060\n",
            "Epoch 44: ReduceLROnPlateau reducing learning rate to 1.0000000474974514e-05.\n",
            "\u001b[1m760/760\u001b[0m \u001b[32m━━━━━━━━━━━━━━━━━━━━\u001b[0m\u001b[37m\u001b[0m \u001b[1m44s\u001b[0m 58ms/step - accuracy: 0.8139 - loss: 0.7060 - val_accuracy: 0.8921 - val_loss: 0.4309 - learning_rate: 1.0000e-04\n",
            "Epoch 45/100\n",
            "\u001b[1m760/760\u001b[0m \u001b[32m━━━━━━━━━━━━━━━━━━━━\u001b[0m\u001b[37m\u001b[0m \u001b[1m48s\u001b[0m 64ms/step - accuracy: 0.8377 - loss: 0.6456 - val_accuracy: 0.9000 - val_loss: 0.4173 - learning_rate: 1.0000e-05\n",
            "Epoch 46/100\n",
            "\u001b[1m760/760\u001b[0m \u001b[32m━━━━━━━━━━━━━━━━━━━━\u001b[0m\u001b[37m\u001b[0m \u001b[1m83s\u001b[0m 65ms/step - accuracy: 0.8377 - loss: 0.6299 - val_accuracy: 0.8961 - val_loss: 0.4140 - learning_rate: 1.0000e-05\n",
            "Epoch 47/100\n",
            "\u001b[1m760/760\u001b[0m \u001b[32m━━━━━━━━━━━━━━━━━━━━\u001b[0m\u001b[37m\u001b[0m \u001b[1m81s\u001b[0m 63ms/step - accuracy: 0.8168 - loss: 0.6707 - val_accuracy: 0.9039 - val_loss: 0.4041 - learning_rate: 1.0000e-05\n",
            "Epoch 48/100\n",
            "\u001b[1m760/760\u001b[0m \u001b[32m━━━━━━━━━━━━━━━━━━━━\u001b[0m\u001b[37m\u001b[0m \u001b[1m81s\u001b[0m 62ms/step - accuracy: 0.8460 - loss: 0.6108 - val_accuracy: 0.9066 - val_loss: 0.3908 - learning_rate: 1.0000e-05\n",
            "Epoch 49/100\n",
            "\u001b[1m760/760\u001b[0m \u001b[32m━━━━━━━━━━━━━━━━━━━━\u001b[0m\u001b[37m\u001b[0m \u001b[1m80s\u001b[0m 59ms/step - accuracy: 0.8280 - loss: 0.6458 - val_accuracy: 0.9079 - val_loss: 0.3900 - learning_rate: 1.0000e-05\n",
            "Epoch 50/100\n",
            "\u001b[1m760/760\u001b[0m \u001b[32m━━━━━━━━━━━━━━━━━━━━\u001b[0m\u001b[37m\u001b[0m \u001b[1m83s\u001b[0m 60ms/step - accuracy: 0.8384 - loss: 0.6053 - val_accuracy: 0.9092 - val_loss: 0.3799 - learning_rate: 1.0000e-05\n",
            "Epoch 51/100\n",
            "\u001b[1m760/760\u001b[0m \u001b[32m━━━━━━━━━━━━━━━━━━━━\u001b[0m\u001b[37m\u001b[0m \u001b[1m45s\u001b[0m 59ms/step - accuracy: 0.8477 - loss: 0.5832 - val_accuracy: 0.9092 - val_loss: 0.3787 - learning_rate: 1.0000e-05\n",
            "Epoch 52/100\n",
            "\u001b[1m760/760\u001b[0m \u001b[32m━━━━━━━━━━━━━━━━━━━━\u001b[0m\u001b[37m\u001b[0m \u001b[1m85s\u001b[0m 64ms/step - accuracy: 0.8415 - loss: 0.6017 - val_accuracy: 0.9092 - val_loss: 0.3700 - learning_rate: 1.0000e-05\n",
            "Epoch 53/100\n",
            "\u001b[1m760/760\u001b[0m \u001b[32m━━━━━━━━━━━━━━━━━━━━\u001b[0m\u001b[37m\u001b[0m \u001b[1m81s\u001b[0m 62ms/step - accuracy: 0.8307 - loss: 0.6300 - val_accuracy: 0.9079 - val_loss: 0.3785 - learning_rate: 1.0000e-05\n",
            "Epoch 54/100\n",
            "\u001b[1m760/760\u001b[0m \u001b[32m━━━━━━━━━━━━━━━━━━━━\u001b[0m\u001b[37m\u001b[0m \u001b[1m83s\u001b[0m 64ms/step - accuracy: 0.8496 - loss: 0.5847 - val_accuracy: 0.9039 - val_loss: 0.3773 - learning_rate: 1.0000e-05\n",
            "Epoch 55/100\n",
            "\u001b[1m760/760\u001b[0m \u001b[32m━━━━━━━━━━━━━━━━━━━━\u001b[0m\u001b[37m\u001b[0m \u001b[1m81s\u001b[0m 62ms/step - accuracy: 0.8390 - loss: 0.6094 - val_accuracy: 0.9066 - val_loss: 0.3781 - learning_rate: 1.0000e-05\n",
            "Epoch 56/100\n",
            "\u001b[1m760/760\u001b[0m \u001b[32m━━━━━━━━━━━━━━━━━━━━\u001b[0m\u001b[37m\u001b[0m \u001b[1m81s\u001b[0m 61ms/step - accuracy: 0.8340 - loss: 0.6160 - val_accuracy: 0.9000 - val_loss: 0.3979 - learning_rate: 1.0000e-05\n",
            "Epoch 57/100\n",
            "\u001b[1m760/760\u001b[0m \u001b[32m━━━━━━━━━━━━━━━━━━━━\u001b[0m\u001b[37m\u001b[0m \u001b[1m46s\u001b[0m 61ms/step - accuracy: 0.8603 - loss: 0.5680 - val_accuracy: 0.9079 - val_loss: 0.3682 - learning_rate: 1.0000e-05\n",
            "Epoch 58/100\n",
            "\u001b[1m760/760\u001b[0m \u001b[32m━━━━━━━━━━━━━━━━━━━━\u001b[0m\u001b[37m\u001b[0m \u001b[1m48s\u001b[0m 63ms/step - accuracy: 0.8422 - loss: 0.5710 - val_accuracy: 0.9092 - val_loss: 0.3729 - learning_rate: 1.0000e-05\n",
            "Epoch 59/100\n",
            "\u001b[1m760/760\u001b[0m \u001b[32m━━━━━━━━━━━━━━━━━━━━\u001b[0m\u001b[37m\u001b[0m \u001b[1m84s\u001b[0m 65ms/step - accuracy: 0.8484 - loss: 0.5833 - val_accuracy: 0.9145 - val_loss: 0.3672 - learning_rate: 1.0000e-05\n",
            "Epoch 60/100\n",
            "\u001b[1m760/760\u001b[0m \u001b[32m━━━━━━━━━━━━━━━━━━━━\u001b[0m\u001b[37m\u001b[0m \u001b[1m49s\u001b[0m 65ms/step - accuracy: 0.8489 - loss: 0.5874 - val_accuracy: 0.9105 - val_loss: 0.3641 - learning_rate: 1.0000e-05\n",
            "Epoch 61/100\n",
            "\u001b[1m760/760\u001b[0m \u001b[32m━━━━━━━━━━━━━━━━━━━━\u001b[0m\u001b[37m\u001b[0m \u001b[1m49s\u001b[0m 64ms/step - accuracy: 0.8439 - loss: 0.5930 - val_accuracy: 0.9053 - val_loss: 0.3777 - learning_rate: 1.0000e-05\n",
            "Epoch 62/100\n",
            "\u001b[1m760/760\u001b[0m \u001b[32m━━━━━━━━━━━━━━━━━━━━\u001b[0m\u001b[37m\u001b[0m \u001b[1m78s\u001b[0m 58ms/step - accuracy: 0.8576 - loss: 0.5742 - val_accuracy: 0.9066 - val_loss: 0.3762 - learning_rate: 1.0000e-05\n",
            "Epoch 63/100\n",
            "\u001b[1m760/760\u001b[0m \u001b[32m━━━━━━━━━━━━━━━━━━━━\u001b[0m\u001b[37m\u001b[0m \u001b[1m86s\u001b[0m 63ms/step - accuracy: 0.8572 - loss: 0.5514 - val_accuracy: 0.9039 - val_loss: 0.3751 - learning_rate: 1.0000e-05\n",
            "Epoch 64/100\n",
            "\u001b[1m760/760\u001b[0m \u001b[32m━━━━━━━━━━━━━━━━━━━━\u001b[0m\u001b[37m\u001b[0m \u001b[1m82s\u001b[0m 64ms/step - accuracy: 0.8564 - loss: 0.5613 - val_accuracy: 0.9079 - val_loss: 0.3604 - learning_rate: 1.0000e-05\n",
            "Epoch 65/100\n",
            "\u001b[1m760/760\u001b[0m \u001b[32m━━━━━━━━━━━━━━━━━━━━\u001b[0m\u001b[37m\u001b[0m \u001b[1m77s\u001b[0m 58ms/step - accuracy: 0.8434 - loss: 0.5980 - val_accuracy: 0.9066 - val_loss: 0.3654 - learning_rate: 1.0000e-05\n",
            "Epoch 66/100\n",
            "\u001b[1m760/760\u001b[0m \u001b[32m━━━━━━━━━━━━━━━━━━━━\u001b[0m\u001b[37m\u001b[0m \u001b[1m81s\u001b[0m 57ms/step - accuracy: 0.8491 - loss: 0.5815 - val_accuracy: 0.9026 - val_loss: 0.3622 - learning_rate: 1.0000e-05\n",
            "Epoch 67/100\n",
            "\u001b[1m760/760\u001b[0m \u001b[32m━━━━━━━━━━━━━━━━━━━━\u001b[0m\u001b[37m\u001b[0m \u001b[1m83s\u001b[0m 59ms/step - accuracy: 0.8545 - loss: 0.5530 - val_accuracy: 0.9079 - val_loss: 0.3601 - learning_rate: 1.0000e-05\n",
            "Epoch 68/100\n",
            "\u001b[1m760/760\u001b[0m \u001b[32m━━━━━━━━━━━━━━━━━━━━\u001b[0m\u001b[37m\u001b[0m \u001b[1m86s\u001b[0m 64ms/step - accuracy: 0.8579 - loss: 0.5571 - val_accuracy: 0.9092 - val_loss: 0.3505 - learning_rate: 1.0000e-05\n",
            "Epoch 69/100\n",
            "\u001b[1m760/760\u001b[0m \u001b[32m━━━━━━━━━━━━━━━━━━━━\u001b[0m\u001b[37m\u001b[0m \u001b[1m83s\u001b[0m 65ms/step - accuracy: 0.8457 - loss: 0.5986 - val_accuracy: 0.9132 - val_loss: 0.3487 - learning_rate: 1.0000e-05\n",
            "Epoch 70/100\n",
            "\u001b[1m760/760\u001b[0m \u001b[32m━━━━━━━━━━━━━━━━━━━━\u001b[0m\u001b[37m\u001b[0m \u001b[1m76s\u001b[0m 57ms/step - accuracy: 0.8479 - loss: 0.5636 - val_accuracy: 0.9092 - val_loss: 0.3521 - learning_rate: 1.0000e-05\n",
            "Epoch 71/100\n",
            "\u001b[1m760/760\u001b[0m \u001b[32m━━━━━━━━━━━━━━━━━━━━\u001b[0m\u001b[37m\u001b[0m \u001b[1m81s\u001b[0m 56ms/step - accuracy: 0.8569 - loss: 0.5731 - val_accuracy: 0.9092 - val_loss: 0.3577 - learning_rate: 1.0000e-05\n",
            "Epoch 72/100\n",
            "\u001b[1m760/760\u001b[0m \u001b[32m━━━━━━━━━━━━━━━━━━━━\u001b[0m\u001b[37m\u001b[0m \u001b[1m86s\u001b[0m 62ms/step - accuracy: 0.8511 - loss: 0.5712 - val_accuracy: 0.9145 - val_loss: 0.3506 - learning_rate: 1.0000e-05\n",
            "Epoch 73/100\n",
            "\u001b[1m760/760\u001b[0m \u001b[32m━━━━━━━━━━━━━━━━━━━━\u001b[0m\u001b[37m\u001b[0m \u001b[1m84s\u001b[0m 64ms/step - accuracy: 0.8598 - loss: 0.5582 - val_accuracy: 0.9145 - val_loss: 0.3474 - learning_rate: 1.0000e-05\n",
            "Epoch 74/100\n",
            "\u001b[1m760/760\u001b[0m \u001b[32m━━━━━━━━━━━━━━━━━━━━\u001b[0m\u001b[37m\u001b[0m \u001b[1m80s\u001b[0m 61ms/step - accuracy: 0.8486 - loss: 0.5672 - val_accuracy: 0.9132 - val_loss: 0.3524 - learning_rate: 1.0000e-05\n",
            "Epoch 75/100\n",
            "\u001b[1m760/760\u001b[0m \u001b[32m━━━━━━━━━━━━━━━━━━━━\u001b[0m\u001b[37m\u001b[0m \u001b[1m78s\u001b[0m 56ms/step - accuracy: 0.8631 - loss: 0.5478 - val_accuracy: 0.9105 - val_loss: 0.3491 - learning_rate: 1.0000e-05\n",
            "Epoch 76/100\n",
            "\u001b[1m760/760\u001b[0m \u001b[32m━━━━━━━━━━━━━━━━━━━━\u001b[0m\u001b[37m\u001b[0m \u001b[1m82s\u001b[0m 56ms/step - accuracy: 0.8621 - loss: 0.5400 - val_accuracy: 0.9118 - val_loss: 0.3479 - learning_rate: 1.0000e-05\n",
            "Epoch 77/100\n",
            "\u001b[1m760/760\u001b[0m \u001b[32m━━━━━━━━━━━━━━━━━━━━\u001b[0m\u001b[37m\u001b[0m \u001b[1m86s\u001b[0m 62ms/step - accuracy: 0.8575 - loss: 0.5674 - val_accuracy: 0.9105 - val_loss: 0.3503 - learning_rate: 1.0000e-05\n",
            "Epoch 78/100\n",
            "\u001b[1m760/760\u001b[0m \u001b[32m━━━━━━━━━━━━━━━━━━━━\u001b[0m\u001b[37m\u001b[0m \u001b[1m82s\u001b[0m 62ms/step - accuracy: 0.8602 - loss: 0.5419 - val_accuracy: 0.9118 - val_loss: 0.3518 - learning_rate: 1.0000e-05\n",
            "Epoch 79/100\n",
            "\u001b[1m760/760\u001b[0m \u001b[32m━━━━━━━━━━━━━━━━━━━━\u001b[0m\u001b[37m\u001b[0m \u001b[1m79s\u001b[0m 59ms/step - accuracy: 0.8615 - loss: 0.5400 - val_accuracy: 0.9118 - val_loss: 0.3565 - learning_rate: 1.0000e-05\n",
            "Epoch 80/100\n",
            "\u001b[1m760/760\u001b[0m \u001b[32m━━━━━━━━━━━━━━━━━━━━\u001b[0m\u001b[37m\u001b[0m \u001b[1m85s\u001b[0m 63ms/step - accuracy: 0.8494 - loss: 0.5846 - val_accuracy: 0.8908 - val_loss: 0.4258 - learning_rate: 1.0000e-05\n",
            "Epoch 81/100\n",
            "\u001b[1m760/760\u001b[0m \u001b[32m━━━━━━━━━━━━━━━━━━━━\u001b[0m\u001b[37m\u001b[0m \u001b[1m0s\u001b[0m 50ms/step - accuracy: 0.8631 - loss: 0.5217\n",
            "Epoch 81: ReduceLROnPlateau reducing learning rate to 1.0000000656873453e-06.\n",
            "\u001b[1m760/760\u001b[0m \u001b[32m━━━━━━━━━━━━━━━━━━━━\u001b[0m\u001b[37m\u001b[0m \u001b[1m48s\u001b[0m 63ms/step - accuracy: 0.8631 - loss: 0.5217 - val_accuracy: 0.9079 - val_loss: 0.3604 - learning_rate: 1.0000e-05\n",
            "Epoch 82/100\n",
            "\u001b[1m760/760\u001b[0m \u001b[32m━━━━━━━━━━━━━━━━━━━━\u001b[0m\u001b[37m\u001b[0m \u001b[1m79s\u001b[0m 59ms/step - accuracy: 0.8598 - loss: 0.5393 - val_accuracy: 0.9105 - val_loss: 0.3565 - learning_rate: 1.0000e-06\n",
            "Epoch 83/100\n",
            "\u001b[1m760/760\u001b[0m \u001b[32m━━━━━━━━━━━━━━━━━━━━\u001b[0m\u001b[37m\u001b[0m \u001b[1m81s\u001b[0m 57ms/step - accuracy: 0.8630 - loss: 0.5439 - val_accuracy: 0.9079 - val_loss: 0.3568 - learning_rate: 1.0000e-06\n",
            "Epoch 84/100\n",
            "\u001b[1m760/760\u001b[0m \u001b[32m━━━━━━━━━━━━━━━━━━━━\u001b[0m\u001b[37m\u001b[0m \u001b[1m49s\u001b[0m 64ms/step - accuracy: 0.8599 - loss: 0.5332 - val_accuracy: 0.9079 - val_loss: 0.3530 - learning_rate: 1.0000e-06\n",
            "Epoch 85/100\n",
            "\u001b[1m760/760\u001b[0m \u001b[32m━━━━━━━━━━━━━━━━━━━━\u001b[0m\u001b[37m\u001b[0m \u001b[1m76s\u001b[0m 57ms/step - accuracy: 0.8549 - loss: 0.5753 - val_accuracy: 0.9092 - val_loss: 0.3523 - learning_rate: 1.0000e-06\n",
            "Epoch 86/100\n",
            "\u001b[1m760/760\u001b[0m \u001b[32m━━━━━━━━━━━━━━━━━━━━\u001b[0m\u001b[37m\u001b[0m \u001b[1m48s\u001b[0m 64ms/step - accuracy: 0.8648 - loss: 0.5397 - val_accuracy: 0.9105 - val_loss: 0.3523 - learning_rate: 1.0000e-06\n",
            "Epoch 87/100\n",
            "\u001b[1m760/760\u001b[0m \u001b[32m━━━━━━━━━━━━━━━━━━━━\u001b[0m\u001b[37m\u001b[0m \u001b[1m81s\u001b[0m 62ms/step - accuracy: 0.8716 - loss: 0.5293 - val_accuracy: 0.9105 - val_loss: 0.3491 - learning_rate: 1.0000e-06\n",
            "Epoch 88/100\n",
            "\u001b[1m760/760\u001b[0m \u001b[32m━━━━━━━━━━━━━━━━━━━━\u001b[0m\u001b[37m\u001b[0m \u001b[1m48s\u001b[0m 63ms/step - accuracy: 0.8651 - loss: 0.5257 - val_accuracy: 0.9092 - val_loss: 0.3534 - learning_rate: 1.0000e-06\n"
          ]
        },
        {
          "output_type": "display_data",
          "data": {
            "text/plain": [
              "<Figure size 1200x400 with 2 Axes>"
            ],
            "image/png": "[encoded data removed]"
          },
          "metadata": {}
        }
      ]
    },
    {
      "cell_type": "markdown",
      "source": [
        "### Training of EfficientNetB0"
      ],
      "metadata": {
        "id": "NWX9K_lYYCYZ"
      }
    },
    {
      "cell_type": "code",
      "source": [
        "\n",
        "early_stop = EarlyStopping(monitor='val_loss', patience=15, restore_best_weights=True)\n",
        "ckpt = ModelCheckpoint('best_efficientnetb0.keras', save_best_only=True, monitor='val_loss')\n",
        "\n",
        "reduce_lr = ReduceLROnPlateau(monitor='val_loss', factor=0.1, patience=8, min_lr=1e-6, verbose = 1)\n",
        "\n",
        "history = model_EfficientNetB0.fit(\n",
        "    X_train, y_train,\n",
        "    validation_data=(X_val, y_val),\n",
        "    batch_size=5, epochs=100,\n",
        "    callbacks=[early_stop, ckpt, reduce_lr], verbose=1\n",
        ")\n",
        "\n",
        "model_EfficientNetB0.save('final_efficientnetb0.keras')\n",
        "\n",
        "plt.figure(figsize=(12,4))\n",
        "plt.subplot(1,2,1)\n",
        "plt.plot(history.history['loss'], label='Train Loss')\n",
        "plt.plot(history.history['val_loss'], label='Val Loss')\n",
        "plt.xlabel('Epoch'); plt.ylabel('Loss'); plt.legend(); plt.title('EfficientNetB0 Loss')\n",
        "\n",
        "plt.subplot(1,2,2)\n",
        "plt.plot(history.history['accuracy'], label='Train Acc')\n",
        "plt.plot(history.history['val_accuracy'], label='Val Acc')\n",
        "plt.xlabel('Epoch'); plt.ylabel('Accuracy'); plt.legend(); plt.title('EfficientNetB0 Accuracy')\n",
        "plt.show()\n"
      ],
      "metadata": {
        "id": "Kc8XjtY55_8_",
        "colab": {
          "base_uri": "https://localhost:8080/",
          "height": 1000
        },
        "outputId": "ec819db7-e81c-4ae6-acf6-6ed03e6c13d7"
      },
      "execution_count": null,
      "outputs": [
        {
          "output_type": "stream",
          "name": "stdout",
          "text": [
            "Epoch 1/100\n",
            "\u001b[1m760/760\u001b[0m \u001b[32m━━━━━━━━━━━━━━━━━━━━\u001b[0m\u001b[37m\u001b[0m \u001b[1m35s\u001b[0m 31ms/step - accuracy: 0.5079 - loss: 3.5503 - val_accuracy: 0.7842 - val_loss: 1.8926 - learning_rate: 0.0010\n",
            "Epoch 2/100\n",
            "\u001b[1m760/760\u001b[0m \u001b[32m━━━━━━━━━━━━━━━━━━━━\u001b[0m\u001b[37m\u001b[0m \u001b[1m19s\u001b[0m 25ms/step - accuracy: 0.7003 - loss: 2.0128 - val_accuracy: 0.7961 - val_loss: 1.4285 - learning_rate: 0.0010\n",
            "Epoch 3/100\n",
            "\u001b[1m760/760\u001b[0m \u001b[32m━━━━━━━━━━━━━━━━━━━━\u001b[0m\u001b[37m\u001b[0m \u001b[1m20s\u001b[0m 25ms/step - accuracy: 0.7011 - loss: 1.6504 - val_accuracy: 0.8105 - val_loss: 1.2840 - learning_rate: 0.0010\n",
            "Epoch 4/100\n",
            "\u001b[1m760/760\u001b[0m \u001b[32m━━━━━━━━━━━━━━━━━━━━\u001b[0m\u001b[37m\u001b[0m \u001b[1m19s\u001b[0m 25ms/step - accuracy: 0.6931 - loss: 1.5634 - val_accuracy: 0.8303 - val_loss: 1.1277 - learning_rate: 0.0010\n",
            "Epoch 5/100\n",
            "\u001b[1m760/760\u001b[0m \u001b[32m━━━━━━━━━━━━━━━━━━━━\u001b[0m\u001b[37m\u001b[0m \u001b[1m19s\u001b[0m 25ms/step - accuracy: 0.7074 - loss: 1.4604 - val_accuracy: 0.8316 - val_loss: 1.1001 - learning_rate: 0.0010\n",
            "Epoch 6/100\n",
            "\u001b[1m760/760\u001b[0m \u001b[32m━━━━━━━━━━━━━━━━━━━━\u001b[0m\u001b[37m\u001b[0m \u001b[1m20s\u001b[0m 25ms/step - accuracy: 0.7116 - loss: 1.4145 - val_accuracy: 0.7934 - val_loss: 1.1524 - learning_rate: 0.0010\n",
            "Epoch 7/100\n",
            "\u001b[1m760/760\u001b[0m \u001b[32m━━━━━━━━━━━━━━━━━━━━\u001b[0m\u001b[37m\u001b[0m \u001b[1m22s\u001b[0m 27ms/step - accuracy: 0.7016 - loss: 1.4225 - val_accuracy: 0.8158 - val_loss: 1.0650 - learning_rate: 0.0010\n",
            "Epoch 8/100\n",
            "\u001b[1m760/760\u001b[0m \u001b[32m━━━━━━━━━━━━━━━━━━━━\u001b[0m\u001b[37m\u001b[0m \u001b[1m19s\u001b[0m 25ms/step - accuracy: 0.7117 - loss: 1.3720 - val_accuracy: 0.8474 - val_loss: 1.0286 - learning_rate: 0.0010\n",
            "Epoch 9/100\n",
            "\u001b[1m760/760\u001b[0m \u001b[32m━━━━━━━━━━━━━━━━━━━━\u001b[0m\u001b[37m\u001b[0m \u001b[1m19s\u001b[0m 25ms/step - accuracy: 0.7199 - loss: 1.3725 - val_accuracy: 0.8171 - val_loss: 1.0255 - learning_rate: 0.0010\n",
            "Epoch 10/100\n",
            "\u001b[1m760/760\u001b[0m \u001b[32m━━━━━━━━━━━━━━━━━━━━\u001b[0m\u001b[37m\u001b[0m \u001b[1m19s\u001b[0m 23ms/step - accuracy: 0.6941 - loss: 1.3943 - val_accuracy: 0.8079 - val_loss: 1.1258 - learning_rate: 0.0010\n",
            "Epoch 11/100\n",
            "\u001b[1m760/760\u001b[0m \u001b[32m━━━━━━━━━━━━━━━━━━━━\u001b[0m\u001b[37m\u001b[0m \u001b[1m19s\u001b[0m 25ms/step - accuracy: 0.7346 - loss: 1.3365 - val_accuracy: 0.8197 - val_loss: 1.0471 - learning_rate: 0.0010\n",
            "Epoch 12/100\n",
            "\u001b[1m760/760\u001b[0m \u001b[32m━━━━━━━━━━━━━━━━━━━━\u001b[0m\u001b[37m\u001b[0m \u001b[1m21s\u001b[0m 26ms/step - accuracy: 0.7153 - loss: 1.3529 - val_accuracy: 0.8408 - val_loss: 0.9945 - learning_rate: 0.0010\n",
            "Epoch 13/100\n",
            "\u001b[1m760/760\u001b[0m \u001b[32m━━━━━━━━━━━━━━━━━━━━\u001b[0m\u001b[37m\u001b[0m \u001b[1m19s\u001b[0m 25ms/step - accuracy: 0.7134 - loss: 1.3444 - val_accuracy: 0.8276 - val_loss: 1.0215 - learning_rate: 0.0010\n",
            "Epoch 14/100\n",
            "\u001b[1m760/760\u001b[0m \u001b[32m━━━━━━━━━━━━━━━━━━━━\u001b[0m\u001b[37m\u001b[0m \u001b[1m20s\u001b[0m 25ms/step - accuracy: 0.7160 - loss: 1.3225 - val_accuracy: 0.8184 - val_loss: 0.9982 - learning_rate: 0.0010\n",
            "Epoch 15/100\n",
            "\u001b[1m760/760\u001b[0m \u001b[32m━━━━━━━━━━━━━━━━━━━━\u001b[0m\u001b[37m\u001b[0m \u001b[1m19s\u001b[0m 25ms/step - accuracy: 0.7211 - loss: 1.3164 - val_accuracy: 0.8145 - val_loss: 0.9920 - learning_rate: 0.0010\n",
            "Epoch 16/100\n",
            "\u001b[1m760/760\u001b[0m \u001b[32m━━━━━━━━━━━━━━━━━━━━\u001b[0m\u001b[37m\u001b[0m \u001b[1m19s\u001b[0m 25ms/step - accuracy: 0.7122 - loss: 1.3169 - val_accuracy: 0.8355 - val_loss: 0.9232 - learning_rate: 0.0010\n",
            "Epoch 17/100\n",
            "\u001b[1m760/760\u001b[0m \u001b[32m━━━━━━━━━━━━━━━━━━━━\u001b[0m\u001b[37m\u001b[0m \u001b[1m21s\u001b[0m 25ms/step - accuracy: 0.7152 - loss: 1.2933 - val_accuracy: 0.8303 - val_loss: 0.9742 - learning_rate: 0.0010\n",
            "Epoch 18/100\n",
            "\u001b[1m760/760\u001b[0m \u001b[32m━━━━━━━━━━━━━━━━━━━━\u001b[0m\u001b[37m\u001b[0m \u001b[1m19s\u001b[0m 25ms/step - accuracy: 0.7160 - loss: 1.3069 - val_accuracy: 0.8171 - val_loss: 0.9653 - learning_rate: 0.0010\n",
            "Epoch 19/100\n",
            "\u001b[1m760/760\u001b[0m \u001b[32m━━━━━━━━━━━━━━━━━━━━\u001b[0m\u001b[37m\u001b[0m \u001b[1m19s\u001b[0m 25ms/step - accuracy: 0.7237 - loss: 1.2843 - val_accuracy: 0.8105 - val_loss: 1.0337 - learning_rate: 0.0010\n",
            "Epoch 20/100\n",
            "\u001b[1m760/760\u001b[0m \u001b[32m━━━━━━━━━━━━━━━━━━━━\u001b[0m\u001b[37m\u001b[0m \u001b[1m21s\u001b[0m 25ms/step - accuracy: 0.7102 - loss: 1.3456 - val_accuracy: 0.8368 - val_loss: 0.9805 - learning_rate: 0.0010\n",
            "Epoch 21/100\n",
            "\u001b[1m760/760\u001b[0m \u001b[32m━━━━━━━━━━━━━━━━━━━━\u001b[0m\u001b[37m\u001b[0m \u001b[1m21s\u001b[0m 26ms/step - accuracy: 0.6956 - loss: 1.3447 - val_accuracy: 0.8092 - val_loss: 1.0198 - learning_rate: 0.0010\n",
            "Epoch 22/100\n",
            "\u001b[1m760/760\u001b[0m \u001b[32m━━━━━━━━━━━━━━━━━━━━\u001b[0m\u001b[37m\u001b[0m \u001b[1m20s\u001b[0m 25ms/step - accuracy: 0.7158 - loss: 1.3181 - val_accuracy: 0.8408 - val_loss: 0.9452 - learning_rate: 0.0010\n",
            "Epoch 23/100\n",
            "\u001b[1m760/760\u001b[0m \u001b[32m━━━━━━━━━━━━━━━━━━━━\u001b[0m\u001b[37m\u001b[0m \u001b[1m21s\u001b[0m 26ms/step - accuracy: 0.7048 - loss: 1.2935 - val_accuracy: 0.8145 - val_loss: 0.9380 - learning_rate: 0.0010\n",
            "Epoch 24/100\n",
            "\u001b[1m758/760\u001b[0m \u001b[32m━━━━━━━━━━━━━━━━━━━\u001b[0m\u001b[37m━\u001b[0m \u001b[1m0s\u001b[0m 22ms/step - accuracy: 0.7215 - loss: 1.2318\n",
            "Epoch 24: ReduceLROnPlateau reducing learning rate to 0.00010000000474974513.\n",
            "\u001b[1m760/760\u001b[0m \u001b[32m━━━━━━━━━━━━━━━━━━━━\u001b[0m\u001b[37m\u001b[0m \u001b[1m23s\u001b[0m 29ms/step - accuracy: 0.7215 - loss: 1.2319 - val_accuracy: 0.8066 - val_loss: 1.0018 - learning_rate: 0.0010\n",
            "Epoch 25/100\n",
            "\u001b[1m760/760\u001b[0m \u001b[32m━━━━━━━━━━━━━━━━━━━━\u001b[0m\u001b[37m\u001b[0m \u001b[1m20s\u001b[0m 27ms/step - accuracy: 0.7438 - loss: 1.1874 - val_accuracy: 0.8474 - val_loss: 0.8381 - learning_rate: 1.0000e-04\n",
            "Epoch 26/100\n",
            "\u001b[1m760/760\u001b[0m \u001b[32m━━━━━━━━━━━━━━━━━━━━\u001b[0m\u001b[37m\u001b[0m \u001b[1m21s\u001b[0m 27ms/step - accuracy: 0.7597 - loss: 1.1057 - val_accuracy: 0.8539 - val_loss: 0.7748 - learning_rate: 1.0000e-04\n",
            "Epoch 27/100\n",
            "\u001b[1m760/760\u001b[0m \u001b[32m━━━━━━━━━━━━━━━━━━━━\u001b[0m\u001b[37m\u001b[0m \u001b[1m21s\u001b[0m 27ms/step - accuracy: 0.7578 - loss: 1.0377 - val_accuracy: 0.8737 - val_loss: 0.7164 - learning_rate: 1.0000e-04\n",
            "Epoch 28/100\n",
            "\u001b[1m760/760\u001b[0m \u001b[32m━━━━━━━━━━━━━━━━━━━━\u001b[0m\u001b[37m\u001b[0m \u001b[1m40s\u001b[0m 26ms/step - accuracy: 0.7916 - loss: 0.9642 - val_accuracy: 0.8645 - val_loss: 0.6685 - learning_rate: 1.0000e-04\n",
            "Epoch 29/100\n",
            "\u001b[1m760/760\u001b[0m \u001b[32m━━━━━━━━━━━━━━━━━━━━\u001b[0m\u001b[37m\u001b[0m \u001b[1m21s\u001b[0m 26ms/step - accuracy: 0.7803 - loss: 0.9235 - val_accuracy: 0.8632 - val_loss: 0.6365 - learning_rate: 1.0000e-04\n",
            "Epoch 30/100\n",
            "\u001b[1m760/760\u001b[0m \u001b[32m━━━━━━━━━━━━━━━━━━━━\u001b[0m\u001b[37m\u001b[0m \u001b[1m20s\u001b[0m 27ms/step - accuracy: 0.8046 - loss: 0.8695 - val_accuracy: 0.8763 - val_loss: 0.6141 - learning_rate: 1.0000e-04\n",
            "Epoch 31/100\n",
            "\u001b[1m760/760\u001b[0m \u001b[32m━━━━━━━━━━━━━━━━━━━━\u001b[0m\u001b[37m\u001b[0m \u001b[1m20s\u001b[0m 26ms/step - accuracy: 0.7953 - loss: 0.8626 - val_accuracy: 0.8803 - val_loss: 0.5779 - learning_rate: 1.0000e-04\n",
            "Epoch 32/100\n",
            "\u001b[1m760/760\u001b[0m \u001b[32m━━━━━━━━━━━━━━━━━━━━\u001b[0m\u001b[37m\u001b[0m \u001b[1m21s\u001b[0m 28ms/step - accuracy: 0.8048 - loss: 0.8391 - val_accuracy: 0.8789 - val_loss: 0.5540 - learning_rate: 1.0000e-04\n",
            "Epoch 33/100\n",
            "\u001b[1m760/760\u001b[0m \u001b[32m━━━━━━━━━━━━━━━━━━━━\u001b[0m\u001b[37m\u001b[0m \u001b[1m20s\u001b[0m 27ms/step - accuracy: 0.8173 - loss: 0.7878 - val_accuracy: 0.8868 - val_loss: 0.5469 - learning_rate: 1.0000e-04\n",
            "Epoch 34/100\n",
            "\u001b[1m760/760\u001b[0m \u001b[32m━━━━━━━━━━━━━━━━━━━━\u001b[0m\u001b[37m\u001b[0m \u001b[1m21s\u001b[0m 28ms/step - accuracy: 0.8076 - loss: 0.7742 - val_accuracy: 0.8895 - val_loss: 0.5146 - learning_rate: 1.0000e-04\n",
            "Epoch 35/100\n",
            "\u001b[1m760/760\u001b[0m \u001b[32m━━━━━━━━━━━━━━━━━━━━\u001b[0m\u001b[37m\u001b[0m \u001b[1m20s\u001b[0m 26ms/step - accuracy: 0.8081 - loss: 0.7605 - val_accuracy: 0.8882 - val_loss: 0.5085 - learning_rate: 1.0000e-04\n",
            "Epoch 36/100\n",
            "\u001b[1m760/760\u001b[0m \u001b[32m━━━━━━━━━━━━━━━━━━━━\u001b[0m\u001b[37m\u001b[0m \u001b[1m20s\u001b[0m 26ms/step - accuracy: 0.8138 - loss: 0.7359 - val_accuracy: 0.8789 - val_loss: 0.5175 - learning_rate: 1.0000e-04\n",
            "Epoch 37/100\n",
            "\u001b[1m760/760\u001b[0m \u001b[32m━━━━━━━━━━━━━━━━━━━━\u001b[0m\u001b[37m\u001b[0m \u001b[1m20s\u001b[0m 26ms/step - accuracy: 0.8275 - loss: 0.7090 - val_accuracy: 0.8855 - val_loss: 0.4913 - learning_rate: 1.0000e-04\n",
            "Epoch 38/100\n",
            "\u001b[1m760/760\u001b[0m \u001b[32m━━━━━━━━━━━━━━━━━━━━\u001b[0m\u001b[37m\u001b[0m \u001b[1m20s\u001b[0m 26ms/step - accuracy: 0.8284 - loss: 0.6905 - val_accuracy: 0.8961 - val_loss: 0.4582 - learning_rate: 1.0000e-04\n",
            "Epoch 39/100\n",
            "\u001b[1m760/760\u001b[0m \u001b[32m━━━━━━━━━━━━━━━━━━━━\u001b[0m\u001b[37m\u001b[0m \u001b[1m20s\u001b[0m 26ms/step - accuracy: 0.8268 - loss: 0.6854 - val_accuracy: 0.9066 - val_loss: 0.4473 - learning_rate: 1.0000e-04\n",
            "Epoch 40/100\n",
            "\u001b[1m760/760\u001b[0m \u001b[32m━━━━━━━━━━━━━━━━━━━━\u001b[0m\u001b[37m\u001b[0m \u001b[1m19s\u001b[0m 24ms/step - accuracy: 0.8342 - loss: 0.6830 - val_accuracy: 0.9053 - val_loss: 0.4418 - learning_rate: 1.0000e-04\n",
            "Epoch 41/100\n",
            "\u001b[1m760/760\u001b[0m \u001b[32m━━━━━━━━━━━━━━━━━━━━\u001b[0m\u001b[37m\u001b[0m \u001b[1m20s\u001b[0m 24ms/step - accuracy: 0.8152 - loss: 0.6894 - val_accuracy: 0.8974 - val_loss: 0.4440 - learning_rate: 1.0000e-04\n",
            "Epoch 42/100\n",
            "\u001b[1m760/760\u001b[0m \u001b[32m━━━━━━━━━━━━━━━━━━━━\u001b[0m\u001b[37m\u001b[0m \u001b[1m21s\u001b[0m 25ms/step - accuracy: 0.8291 - loss: 0.6690 - val_accuracy: 0.9105 - val_loss: 0.4120 - learning_rate: 1.0000e-04\n",
            "Epoch 43/100\n",
            "\u001b[1m760/760\u001b[0m \u001b[32m━━━━━━━━━━━━━━━━━━━━\u001b[0m\u001b[37m\u001b[0m \u001b[1m20s\u001b[0m 24ms/step - accuracy: 0.8415 - loss: 0.6420 - val_accuracy: 0.8961 - val_loss: 0.4303 - learning_rate: 1.0000e-04\n",
            "Epoch 44/100\n",
            "\u001b[1m760/760\u001b[0m \u001b[32m━━━━━━━━━━━━━━━━━━━━\u001b[0m\u001b[37m\u001b[0m \u001b[1m21s\u001b[0m 26ms/step - accuracy: 0.8291 - loss: 0.6781 - val_accuracy: 0.9118 - val_loss: 0.4179 - learning_rate: 1.0000e-04\n",
            "Epoch 45/100\n",
            "\u001b[1m760/760\u001b[0m \u001b[32m━━━━━━━━━━━━━━━━━━━━\u001b[0m\u001b[37m\u001b[0m \u001b[1m21s\u001b[0m 26ms/step - accuracy: 0.8284 - loss: 0.6704 - val_accuracy: 0.9184 - val_loss: 0.3908 - learning_rate: 1.0000e-04\n",
            "Epoch 46/100\n",
            "\u001b[1m760/760\u001b[0m \u001b[32m━━━━━━━━━━━━━━━━━━━━\u001b[0m\u001b[37m\u001b[0m \u001b[1m19s\u001b[0m 25ms/step - accuracy: 0.8469 - loss: 0.6266 - val_accuracy: 0.9013 - val_loss: 0.4219 - learning_rate: 1.0000e-04\n",
            "Epoch 47/100\n",
            "\u001b[1m760/760\u001b[0m \u001b[32m━━━━━━━━━━━━━━━━━━━━\u001b[0m\u001b[37m\u001b[0m \u001b[1m19s\u001b[0m 25ms/step - accuracy: 0.8382 - loss: 0.6384 - val_accuracy: 0.9000 - val_loss: 0.4187 - learning_rate: 1.0000e-04\n",
            "Epoch 48/100\n",
            "\u001b[1m760/760\u001b[0m \u001b[32m━━━━━━━━━━━━━━━━━━━━\u001b[0m\u001b[37m\u001b[0m \u001b[1m19s\u001b[0m 25ms/step - accuracy: 0.8394 - loss: 0.6342 - val_accuracy: 0.9026 - val_loss: 0.4115 - learning_rate: 1.0000e-04\n",
            "Epoch 49/100\n",
            "\u001b[1m760/760\u001b[0m \u001b[32m━━━━━━━━━━━━━━━━━━━━\u001b[0m\u001b[37m\u001b[0m \u001b[1m19s\u001b[0m 25ms/step - accuracy: 0.8329 - loss: 0.6437 - val_accuracy: 0.9079 - val_loss: 0.3968 - learning_rate: 1.0000e-04\n",
            "Epoch 50/100\n",
            "\u001b[1m760/760\u001b[0m \u001b[32m━━━━━━━━━━━━━━━━━━━━\u001b[0m\u001b[37m\u001b[0m \u001b[1m19s\u001b[0m 25ms/step - accuracy: 0.8496 - loss: 0.5934 - val_accuracy: 0.9118 - val_loss: 0.4036 - learning_rate: 1.0000e-04\n",
            "Epoch 51/100\n",
            "\u001b[1m760/760\u001b[0m \u001b[32m━━━━━━━━━━━━━━━━━━━━\u001b[0m\u001b[37m\u001b[0m \u001b[1m21s\u001b[0m 25ms/step - accuracy: 0.8471 - loss: 0.6026 - val_accuracy: 0.9079 - val_loss: 0.4044 - learning_rate: 1.0000e-04\n",
            "Epoch 52/100\n",
            "\u001b[1m760/760\u001b[0m \u001b[32m━━━━━━━━━━━━━━━━━━━━\u001b[0m\u001b[37m\u001b[0m \u001b[1m22s\u001b[0m 27ms/step - accuracy: 0.8508 - loss: 0.6202 - val_accuracy: 0.9145 - val_loss: 0.3883 - learning_rate: 1.0000e-04\n",
            "Epoch 53/100\n",
            "\u001b[1m760/760\u001b[0m \u001b[32m━━━━━━━━━━━━━━━━━━━━\u001b[0m\u001b[37m\u001b[0m \u001b[1m23s\u001b[0m 30ms/step - accuracy: 0.8466 - loss: 0.6036 - val_accuracy: 0.9197 - val_loss: 0.3760 - learning_rate: 1.0000e-04\n",
            "Epoch 54/100\n",
            "\u001b[1m760/760\u001b[0m \u001b[32m━━━━━━━━━━━━━━━━━━━━\u001b[0m\u001b[37m\u001b[0m \u001b[1m38s\u001b[0m 25ms/step - accuracy: 0.8602 - loss: 0.5723 - val_accuracy: 0.9158 - val_loss: 0.4140 - learning_rate: 1.0000e-04\n",
            "Epoch 55/100\n",
            "\u001b[1m760/760\u001b[0m \u001b[32m━━━━━━━━━━━━━━━━━━━━\u001b[0m\u001b[37m\u001b[0m \u001b[1m21s\u001b[0m 27ms/step - accuracy: 0.8498 - loss: 0.5982 - val_accuracy: 0.9263 - val_loss: 0.3728 - learning_rate: 1.0000e-04\n",
            "Epoch 56/100\n",
            "\u001b[1m760/760\u001b[0m \u001b[32m━━━━━━━━━━━━━━━━━━━━\u001b[0m\u001b[37m\u001b[0m \u001b[1m19s\u001b[0m 25ms/step - accuracy: 0.8424 - loss: 0.6126 - val_accuracy: 0.9158 - val_loss: 0.4044 - learning_rate: 1.0000e-04\n",
            "Epoch 57/100\n",
            "\u001b[1m760/760\u001b[0m \u001b[32m━━━━━━━━━━━━━━━━━━━━\u001b[0m\u001b[37m\u001b[0m \u001b[1m20s\u001b[0m 25ms/step - accuracy: 0.8413 - loss: 0.6042 - val_accuracy: 0.9224 - val_loss: 0.3821 - learning_rate: 1.0000e-04\n",
            "Epoch 58/100\n",
            "\u001b[1m760/760\u001b[0m \u001b[32m━━━━━━━━━━━━━━━━━━━━\u001b[0m\u001b[37m\u001b[0m \u001b[1m19s\u001b[0m 25ms/step - accuracy: 0.8310 - loss: 0.6373 - val_accuracy: 0.9145 - val_loss: 0.3932 - learning_rate: 1.0000e-04\n",
            "Epoch 59/100\n",
            "\u001b[1m760/760\u001b[0m \u001b[32m━━━━━━━━━━━━━━━━━━━━\u001b[0m\u001b[37m\u001b[0m \u001b[1m21s\u001b[0m 25ms/step - accuracy: 0.8659 - loss: 0.5357 - val_accuracy: 0.9237 - val_loss: 0.3631 - learning_rate: 1.0000e-04\n",
            "Epoch 60/100\n",
            "\u001b[1m760/760\u001b[0m \u001b[32m━━━━━━━━━━━━━━━━━━━━\u001b[0m\u001b[37m\u001b[0m \u001b[1m19s\u001b[0m 25ms/step - accuracy: 0.8603 - loss: 0.5819 - val_accuracy: 0.9211 - val_loss: 0.3643 - learning_rate: 1.0000e-04\n",
            "Epoch 61/100\n",
            "\u001b[1m760/760\u001b[0m \u001b[32m━━━━━━━━━━━━━━━━━━━━\u001b[0m\u001b[37m\u001b[0m \u001b[1m19s\u001b[0m 25ms/step - accuracy: 0.8563 - loss: 0.5563 - val_accuracy: 0.9276 - val_loss: 0.3535 - learning_rate: 1.0000e-04\n",
            "Epoch 62/100\n",
            "\u001b[1m760/760\u001b[0m \u001b[32m━━━━━━━━━━━━━━━━━━━━\u001b[0m\u001b[37m\u001b[0m \u001b[1m20s\u001b[0m 24ms/step - accuracy: 0.8719 - loss: 0.5443 - val_accuracy: 0.9132 - val_loss: 0.3827 - learning_rate: 1.0000e-04\n",
            "Epoch 63/100\n",
            "\u001b[1m760/760\u001b[0m \u001b[32m━━━━━━━━━━━━━━━━━━━━\u001b[0m\u001b[37m\u001b[0m \u001b[1m20s\u001b[0m 26ms/step - accuracy: 0.8645 - loss: 0.5521 - val_accuracy: 0.9224 - val_loss: 0.3580 - learning_rate: 1.0000e-04\n",
            "Epoch 64/100\n",
            "\u001b[1m760/760\u001b[0m \u001b[32m━━━━━━━━━━━━━━━━━━━━\u001b[0m\u001b[37m\u001b[0m \u001b[1m19s\u001b[0m 25ms/step - accuracy: 0.8653 - loss: 0.5637 - val_accuracy: 0.9092 - val_loss: 0.3855 - learning_rate: 1.0000e-04\n",
            "Epoch 65/100\n",
            "\u001b[1m760/760\u001b[0m \u001b[32m━━━━━━━━━━━━━━━━━━━━\u001b[0m\u001b[37m\u001b[0m \u001b[1m21s\u001b[0m 25ms/step - accuracy: 0.8596 - loss: 0.5715 - val_accuracy: 0.9118 - val_loss: 0.3804 - learning_rate: 1.0000e-04\n",
            "Epoch 66/100\n",
            "\u001b[1m760/760\u001b[0m \u001b[32m━━━━━━━━━━━━━━━━━━━━\u001b[0m\u001b[37m\u001b[0m \u001b[1m20s\u001b[0m 26ms/step - accuracy: 0.8374 - loss: 0.6032 - val_accuracy: 0.9158 - val_loss: 0.3496 - learning_rate: 1.0000e-04\n",
            "Epoch 67/100\n",
            "\u001b[1m760/760\u001b[0m \u001b[32m━━━━━━━━━━━━━━━━━━━━\u001b[0m\u001b[37m\u001b[0m \u001b[1m19s\u001b[0m 25ms/step - accuracy: 0.8723 - loss: 0.5375 - val_accuracy: 0.9145 - val_loss: 0.3505 - learning_rate: 1.0000e-04\n",
            "Epoch 68/100\n",
            "\u001b[1m760/760\u001b[0m \u001b[32m━━━━━━━━━━━━━━━━━━━━\u001b[0m\u001b[37m\u001b[0m \u001b[1m19s\u001b[0m 25ms/step - accuracy: 0.8524 - loss: 0.5676 - val_accuracy: 0.9250 - val_loss: 0.3638 - learning_rate: 1.0000e-04\n",
            "Epoch 69/100\n",
            "\u001b[1m760/760\u001b[0m \u001b[32m━━━━━━━━━━━━━━━━━━━━\u001b[0m\u001b[37m\u001b[0m \u001b[1m20s\u001b[0m 26ms/step - accuracy: 0.8591 - loss: 0.5632 - val_accuracy: 0.9197 - val_loss: 0.3445 - learning_rate: 1.0000e-04\n",
            "Epoch 70/100\n",
            "\u001b[1m760/760\u001b[0m \u001b[32m━━━━━━━━━━━━━━━━━━━━\u001b[0m\u001b[37m\u001b[0m \u001b[1m19s\u001b[0m 25ms/step - accuracy: 0.8633 - loss: 0.5621 - val_accuracy: 0.9224 - val_loss: 0.3608 - learning_rate: 1.0000e-04\n",
            "Epoch 71/100\n",
            "\u001b[1m760/760\u001b[0m \u001b[32m━━━━━━━━━━━━━━━━━━━━\u001b[0m\u001b[37m\u001b[0m \u001b[1m22s\u001b[0m 27ms/step - accuracy: 0.8549 - loss: 0.5866 - val_accuracy: 0.9211 - val_loss: 0.3431 - learning_rate: 1.0000e-04\n",
            "Epoch 72/100\n",
            "\u001b[1m760/760\u001b[0m \u001b[32m━━━━━━━━━━━━━━━━━━━━\u001b[0m\u001b[37m\u001b[0m \u001b[1m20s\u001b[0m 26ms/step - accuracy: 0.8538 - loss: 0.5744 - val_accuracy: 0.9276 - val_loss: 0.3273 - learning_rate: 1.0000e-04\n",
            "Epoch 73/100\n",
            "\u001b[1m760/760\u001b[0m \u001b[32m━━━━━━━━━━━━━━━━━━━━\u001b[0m\u001b[37m\u001b[0m \u001b[1m19s\u001b[0m 24ms/step - accuracy: 0.8409 - loss: 0.6085 - val_accuracy: 0.9237 - val_loss: 0.3369 - learning_rate: 1.0000e-04\n",
            "Epoch 74/100\n",
            "\u001b[1m760/760\u001b[0m \u001b[32m━━━━━━━━━━━━━━━━━━━━\u001b[0m\u001b[37m\u001b[0m \u001b[1m21s\u001b[0m 25ms/step - accuracy: 0.8533 - loss: 0.5580 - val_accuracy: 0.9342 - val_loss: 0.3308 - learning_rate: 1.0000e-04\n",
            "Epoch 75/100\n",
            "\u001b[1m760/760\u001b[0m \u001b[32m━━━━━━━━━━━━━━━━━━━━\u001b[0m\u001b[37m\u001b[0m \u001b[1m21s\u001b[0m 26ms/step - accuracy: 0.8583 - loss: 0.5699 - val_accuracy: 0.9421 - val_loss: 0.3121 - learning_rate: 1.0000e-04\n",
            "Epoch 76/100\n",
            "\u001b[1m760/760\u001b[0m \u001b[32m━━━━━━━━━━━━━━━━━━━━\u001b[0m\u001b[37m\u001b[0m \u001b[1m19s\u001b[0m 25ms/step - accuracy: 0.8573 - loss: 0.5502 - val_accuracy: 0.9316 - val_loss: 0.3162 - learning_rate: 1.0000e-04\n",
            "Epoch 77/100\n",
            "\u001b[1m760/760\u001b[0m \u001b[32m━━━━━━━━━━━━━━━━━━━━\u001b[0m\u001b[37m\u001b[0m \u001b[1m22s\u001b[0m 26ms/step - accuracy: 0.8616 - loss: 0.5618 - val_accuracy: 0.9526 - val_loss: 0.2996 - learning_rate: 1.0000e-04\n",
            "Epoch 78/100\n",
            "\u001b[1m760/760\u001b[0m \u001b[32m━━━━━━━━━━━━━━━━━━━━\u001b[0m\u001b[37m\u001b[0m \u001b[1m19s\u001b[0m 25ms/step - accuracy: 0.8629 - loss: 0.5645 - val_accuracy: 0.9197 - val_loss: 0.3507 - learning_rate: 1.0000e-04\n",
            "Epoch 79/100\n",
            "\u001b[1m760/760\u001b[0m \u001b[32m━━━━━━━━━━━━━━━━━━━━\u001b[0m\u001b[37m\u001b[0m \u001b[1m20s\u001b[0m 25ms/step - accuracy: 0.8736 - loss: 0.5267 - val_accuracy: 0.9105 - val_loss: 0.3702 - learning_rate: 1.0000e-04\n",
            "Epoch 80/100\n",
            "\u001b[1m760/760\u001b[0m \u001b[32m━━━━━━━━━━━━━━━━━━━━\u001b[0m\u001b[37m\u001b[0m \u001b[1m20s\u001b[0m 25ms/step - accuracy: 0.8580 - loss: 0.5575 - val_accuracy: 0.9263 - val_loss: 0.3254 - learning_rate: 1.0000e-04\n",
            "Epoch 81/100\n",
            "\u001b[1m760/760\u001b[0m \u001b[32m━━━━━━━━━━━━━━━━━━━━\u001b[0m\u001b[37m\u001b[0m \u001b[1m19s\u001b[0m 24ms/step - accuracy: 0.8670 - loss: 0.5442 - val_accuracy: 0.9184 - val_loss: 0.3398 - learning_rate: 1.0000e-04\n",
            "Epoch 82/100\n",
            "\u001b[1m760/760\u001b[0m \u001b[32m━━━━━━━━━━━━━━━━━━━━\u001b[0m\u001b[37m\u001b[0m \u001b[1m21s\u001b[0m 25ms/step - accuracy: 0.8725 - loss: 0.5287 - val_accuracy: 0.9263 - val_loss: 0.3440 - learning_rate: 1.0000e-04\n",
            "Epoch 83/100\n",
            "\u001b[1m760/760\u001b[0m \u001b[32m━━━━━━━━━━━━━━━━━━━━\u001b[0m\u001b[37m\u001b[0m \u001b[1m19s\u001b[0m 25ms/step - accuracy: 0.8544 - loss: 0.5611 - val_accuracy: 0.9250 - val_loss: 0.3321 - learning_rate: 1.0000e-04\n",
            "Epoch 84/100\n",
            "\u001b[1m760/760\u001b[0m \u001b[32m━━━━━━━━━━━━━━━━━━━━\u001b[0m\u001b[37m\u001b[0m \u001b[1m20s\u001b[0m 24ms/step - accuracy: 0.8666 - loss: 0.5465 - val_accuracy: 0.9237 - val_loss: 0.3374 - learning_rate: 1.0000e-04\n",
            "Epoch 85/100\n",
            "\u001b[1m759/760\u001b[0m \u001b[32m━━━━━━━━━━━━━━━━━━━\u001b[0m\u001b[37m━\u001b[0m \u001b[1m0s\u001b[0m 22ms/step - accuracy: 0.8522 - loss: 0.5924\n",
            "Epoch 85: ReduceLROnPlateau reducing learning rate to 1.0000000474974514e-05.\n",
            "\u001b[1m760/760\u001b[0m \u001b[32m━━━━━━━━━━━━━━━━━━━━\u001b[0m\u001b[37m\u001b[0m \u001b[1m21s\u001b[0m 25ms/step - accuracy: 0.8522 - loss: 0.5924 - val_accuracy: 0.9263 - val_loss: 0.3377 - learning_rate: 1.0000e-04\n",
            "Epoch 86/100\n",
            "\u001b[1m760/760\u001b[0m \u001b[32m━━━━━━━━━━━━━━━━━━━━\u001b[0m\u001b[37m\u001b[0m \u001b[1m19s\u001b[0m 25ms/step - accuracy: 0.8651 - loss: 0.5393 - val_accuracy: 0.9342 - val_loss: 0.3246 - learning_rate: 1.0000e-05\n",
            "Epoch 87/100\n",
            "\u001b[1m760/760\u001b[0m \u001b[32m━━━━━━━━━━━━━━━━━━━━\u001b[0m\u001b[37m\u001b[0m \u001b[1m19s\u001b[0m 25ms/step - accuracy: 0.8813 - loss: 0.5088 - val_accuracy: 0.9355 - val_loss: 0.3192 - learning_rate: 1.0000e-05\n",
            "Epoch 88/100\n",
            "\u001b[1m760/760\u001b[0m \u001b[32m━━━━━━━━━━━━━━━━━━━━\u001b[0m\u001b[37m\u001b[0m \u001b[1m20s\u001b[0m 26ms/step - accuracy: 0.8725 - loss: 0.5170 - val_accuracy: 0.9316 - val_loss: 0.3200 - learning_rate: 1.0000e-05\n",
            "Epoch 89/100\n",
            "\u001b[1m760/760\u001b[0m \u001b[32m━━━━━━━━━━━━━━━━━━━━\u001b[0m\u001b[37m\u001b[0m \u001b[1m19s\u001b[0m 25ms/step - accuracy: 0.8744 - loss: 0.5174 - val_accuracy: 0.9368 - val_loss: 0.3098 - learning_rate: 1.0000e-05\n",
            "Epoch 90/100\n",
            "\u001b[1m760/760\u001b[0m \u001b[32m━━━━━━━━━━━━━━━━━━━━\u001b[0m\u001b[37m\u001b[0m \u001b[1m19s\u001b[0m 25ms/step - accuracy: 0.8830 - loss: 0.4885 - val_accuracy: 0.9382 - val_loss: 0.3077 - learning_rate: 1.0000e-05\n",
            "Epoch 91/100\n",
            "\u001b[1m760/760\u001b[0m \u001b[32m━━━━━━━━━━━━━━━━━━━━\u001b[0m\u001b[37m\u001b[0m \u001b[1m20s\u001b[0m 26ms/step - accuracy: 0.8791 - loss: 0.4837 - val_accuracy: 0.9408 - val_loss: 0.2977 - learning_rate: 1.0000e-05\n",
            "Epoch 92/100\n",
            "\u001b[1m760/760\u001b[0m \u001b[32m━━━━━━━━━━━━━━━━━━━━\u001b[0m\u001b[37m\u001b[0m \u001b[1m20s\u001b[0m 26ms/step - accuracy: 0.8872 - loss: 0.4836 - val_accuracy: 0.9395 - val_loss: 0.2968 - learning_rate: 1.0000e-05\n",
            "Epoch 93/100\n",
            "\u001b[1m760/760\u001b[0m \u001b[32m━━━━━━━━━━━━━━━━━━━━\u001b[0m\u001b[37m\u001b[0m \u001b[1m20s\u001b[0m 26ms/step - accuracy: 0.8853 - loss: 0.4757 - val_accuracy: 0.9355 - val_loss: 0.3047 - learning_rate: 1.0000e-05\n",
            "Epoch 94/100\n",
            "\u001b[1m760/760\u001b[0m \u001b[32m━━━━━━━━━━━━━━━━━━━━\u001b[0m\u001b[37m\u001b[0m \u001b[1m20s\u001b[0m 26ms/step - accuracy: 0.8795 - loss: 0.5020 - val_accuracy: 0.9329 - val_loss: 0.2954 - learning_rate: 1.0000e-05\n",
            "Epoch 95/100\n",
            "\u001b[1m760/760\u001b[0m \u001b[32m━━━━━━━━━━━━━━━━━━━━\u001b[0m\u001b[37m\u001b[0m \u001b[1m20s\u001b[0m 26ms/step - accuracy: 0.8830 - loss: 0.4875 - val_accuracy: 0.9434 - val_loss: 0.2943 - learning_rate: 1.0000e-05\n",
            "Epoch 96/100\n",
            "\u001b[1m760/760\u001b[0m \u001b[32m━━━━━━━━━━━━━━━━━━━━\u001b[0m\u001b[37m\u001b[0m \u001b[1m19s\u001b[0m 25ms/step - accuracy: 0.8843 - loss: 0.4652 - val_accuracy: 0.9421 - val_loss: 0.2953 - learning_rate: 1.0000e-05\n",
            "Epoch 97/100\n",
            "\u001b[1m760/760\u001b[0m \u001b[32m━━━━━━━━━━━━━━━━━━━━\u001b[0m\u001b[37m\u001b[0m \u001b[1m20s\u001b[0m 25ms/step - accuracy: 0.8963 - loss: 0.4771 - val_accuracy: 0.9382 - val_loss: 0.2997 - learning_rate: 1.0000e-05\n",
            "Epoch 98/100\n",
            "\u001b[1m760/760\u001b[0m \u001b[32m━━━━━━━━━━━━━━━━━━━━\u001b[0m\u001b[37m\u001b[0m \u001b[1m20s\u001b[0m 26ms/step - accuracy: 0.8927 - loss: 0.4601 - val_accuracy: 0.9395 - val_loss: 0.3039 - learning_rate: 1.0000e-05\n",
            "Epoch 99/100\n",
            "\u001b[1m760/760\u001b[0m \u001b[32m━━━━━━━━━━━━━━━━━━━━\u001b[0m\u001b[37m\u001b[0m \u001b[1m19s\u001b[0m 24ms/step - accuracy: 0.8886 - loss: 0.4576 - val_accuracy: 0.9316 - val_loss: 0.3080 - learning_rate: 1.0000e-05\n",
            "Epoch 100/100\n",
            "\u001b[1m760/760\u001b[0m \u001b[32m━━━━━━━━━━━━━━━━━━━━\u001b[0m\u001b[37m\u001b[0m \u001b[1m18s\u001b[0m 24ms/step - accuracy: 0.8984 - loss: 0.4299 - val_accuracy: 0.9395 - val_loss: 0.3002 - learning_rate: 1.0000e-05\n"
          ]
        },
        {
          "output_type": "display_data",
          "data": {
            "text/plain": [
              "<Figure size 1200x400 with 2 Axes>"
            ],
            "image/png": "[encoded data removed]"
          },
          "metadata": {}
        }
      ]
    },
    {
      "cell_type": "markdown",
      "source": [
        "### Training of Model Vgg16"
      ],
      "metadata": {
        "id": "nvcX5MIpYGd3"
      }
    },
    {
      "cell_type": "code",
      "source": [
        "early_stop = EarlyStopping(monitor='val_loss', patience=15, restore_best_weights=True)\n",
        "ckpt = ModelCheckpoint('best_vgg16.keras', save_best_only=True, monitor='val_loss')\n",
        "\n",
        "reduce_lr = ReduceLROnPlateau(monitor='val_loss', factor=0.1, patience=8, min_lr=1e-6, verbose = 1)\n",
        "\n",
        "history = model_vgg16.fit(\n",
        "    X_train, y_train,\n",
        "    validation_data=(X_val, y_val),\n",
        "    batch_size=5, epochs=100,\n",
        "    callbacks=[early_stop, ckpt, reduce_lr], verbose=1\n",
        ")\n",
        "\n",
        "model_vgg16.save('final_vgg16.keras')\n",
        "\n",
        "plt.figure(figsize=(12,4))\n",
        "plt.subplot(1,2,1)\n",
        "plt.plot(history.history['loss'], label='Train Loss')\n",
        "plt.plot(history.history['val_loss'], label='Val Loss')\n",
        "plt.xlabel('Epoch'); plt.ylabel('Loss'); plt.legend(); plt.title('VGG16 Loss')\n",
        "\n",
        "plt.subplot(1,2,2)\n",
        "plt.plot(history.history['accuracy'], label='Train Acc')\n",
        "plt.plot(history.history['val_accuracy'], label='Val Acc')\n",
        "plt.xlabel('Epoch'); plt.ylabel('Accuracy'); plt.legend(); plt.title('VGG16 Accuracy')\n",
        "plt.show()\n"
      ],
      "metadata": {
        "id": "1r8WCTvG6EZk",
        "colab": {
          "base_uri": "https://localhost:8080/",
          "height": 1000
        },
        "outputId": "eaa206d3-e93f-4050-ba76-b977419330ce"
      },
      "execution_count": null,
      "outputs": [
        {
          "output_type": "stream",
          "name": "stdout",
          "text": [
            "Epoch 1/100\n",
            "\u001b[1m760/760\u001b[0m \u001b[32m━━━━━━━━━━━━━━━━━━━━\u001b[0m\u001b[37m\u001b[0m \u001b[1m38s\u001b[0m 45ms/step - accuracy: 0.4147 - loss: 3.2750 - val_accuracy: 0.7079 - val_loss: 1.8162 - learning_rate: 0.0010\n",
            "Epoch 2/100\n",
            "\u001b[1m760/760\u001b[0m \u001b[32m━━━━━━━━━━━━━━━━━━━━\u001b[0m\u001b[37m\u001b[0m \u001b[1m39s\u001b[0m 43ms/step - accuracy: 0.6244 - loss: 1.9110 - val_accuracy: 0.7487 - val_loss: 1.3688 - learning_rate: 0.0010\n",
            "Epoch 3/100\n",
            "\u001b[1m760/760\u001b[0m \u001b[32m━━━━━━━━━━━━━━━━━━━━\u001b[0m\u001b[37m\u001b[0m \u001b[1m41s\u001b[0m 43ms/step - accuracy: 0.6188 - loss: 1.6372 - val_accuracy: 0.7632 - val_loss: 1.1394 - learning_rate: 0.0010\n",
            "Epoch 4/100\n",
            "\u001b[1m760/760\u001b[0m \u001b[32m━━━━━━━━━━━━━━━━━━━━\u001b[0m\u001b[37m\u001b[0m \u001b[1m41s\u001b[0m 43ms/step - accuracy: 0.6408 - loss: 1.4797 - val_accuracy: 0.7645 - val_loss: 1.0717 - learning_rate: 0.0010\n",
            "Epoch 5/100\n",
            "\u001b[1m760/760\u001b[0m \u001b[32m━━━━━━━━━━━━━━━━━━━━\u001b[0m\u001b[37m\u001b[0m \u001b[1m41s\u001b[0m 44ms/step - accuracy: 0.6442 - loss: 1.4106 - val_accuracy: 0.7724 - val_loss: 0.9924 - learning_rate: 0.0010\n",
            "Epoch 6/100\n",
            "\u001b[1m760/760\u001b[0m \u001b[32m━━━━━━━━━━━━━━━━━━━━\u001b[0m\u001b[37m\u001b[0m \u001b[1m41s\u001b[0m 43ms/step - accuracy: 0.6408 - loss: 1.3790 - val_accuracy: 0.7526 - val_loss: 1.1345 - learning_rate: 0.0010\n",
            "Epoch 7/100\n",
            "\u001b[1m760/760\u001b[0m \u001b[32m━━━━━━━━━━━━━━━━━━━━\u001b[0m\u001b[37m\u001b[0m \u001b[1m41s\u001b[0m 43ms/step - accuracy: 0.6474 - loss: 1.3438 - val_accuracy: 0.7408 - val_loss: 1.0111 - learning_rate: 0.0010\n",
            "Epoch 8/100\n",
            "\u001b[1m760/760\u001b[0m \u001b[32m━━━━━━━━━━━━━━━━━━━━\u001b[0m\u001b[37m\u001b[0m \u001b[1m33s\u001b[0m 43ms/step - accuracy: 0.6340 - loss: 1.3428 - val_accuracy: 0.7697 - val_loss: 0.9407 - learning_rate: 0.0010\n",
            "Epoch 9/100\n",
            "\u001b[1m760/760\u001b[0m \u001b[32m━━━━━━━━━━━━━━━━━━━━\u001b[0m\u001b[37m\u001b[0m \u001b[1m41s\u001b[0m 44ms/step - accuracy: 0.6636 - loss: 1.3157 - val_accuracy: 0.7816 - val_loss: 0.9043 - learning_rate: 0.0010\n",
            "Epoch 10/100\n",
            "\u001b[1m760/760\u001b[0m \u001b[32m━━━━━━━━━━━━━━━━━━━━\u001b[0m\u001b[37m\u001b[0m \u001b[1m41s\u001b[0m 43ms/step - accuracy: 0.6567 - loss: 1.2886 - val_accuracy: 0.7605 - val_loss: 0.9656 - learning_rate: 0.0010\n",
            "Epoch 11/100\n",
            "\u001b[1m760/760\u001b[0m \u001b[32m━━━━━━━━━━━━━━━━━━━━\u001b[0m\u001b[37m\u001b[0m \u001b[1m41s\u001b[0m 43ms/step - accuracy: 0.6470 - loss: 1.2946 - val_accuracy: 0.7816 - val_loss: 0.9182 - learning_rate: 0.0010\n",
            "Epoch 12/100\n",
            "\u001b[1m760/760\u001b[0m \u001b[32m━━━━━━━━━━━━━━━━━━━━\u001b[0m\u001b[37m\u001b[0m \u001b[1m41s\u001b[0m 43ms/step - accuracy: 0.6422 - loss: 1.2868 - val_accuracy: 0.7158 - val_loss: 1.1102 - learning_rate: 0.0010\n",
            "Epoch 13/100\n",
            "\u001b[1m760/760\u001b[0m \u001b[32m━━━━━━━━━━━━━━━━━━━━\u001b[0m\u001b[37m\u001b[0m \u001b[1m41s\u001b[0m 44ms/step - accuracy: 0.6353 - loss: 1.3042 - val_accuracy: 0.7842 - val_loss: 0.8838 - learning_rate: 0.0010\n",
            "Epoch 14/100\n",
            "\u001b[1m760/760\u001b[0m \u001b[32m━━━━━━━━━━━━━━━━━━━━\u001b[0m\u001b[37m\u001b[0m \u001b[1m41s\u001b[0m 43ms/step - accuracy: 0.6572 - loss: 1.2693 - val_accuracy: 0.7605 - val_loss: 0.9613 - learning_rate: 0.0010\n",
            "Epoch 15/100\n",
            "\u001b[1m760/760\u001b[0m \u001b[32m━━━━━━━━━━━━━━━━━━━━\u001b[0m\u001b[37m\u001b[0m \u001b[1m41s\u001b[0m 43ms/step - accuracy: 0.6175 - loss: 1.3304 - val_accuracy: 0.7737 - val_loss: 0.8931 - learning_rate: 0.0010\n",
            "Epoch 16/100\n",
            "\u001b[1m760/760\u001b[0m \u001b[32m━━━━━━━━━━━━━━━━━━━━\u001b[0m\u001b[37m\u001b[0m \u001b[1m33s\u001b[0m 43ms/step - accuracy: 0.6380 - loss: 1.2918 - val_accuracy: 0.7632 - val_loss: 0.8863 - learning_rate: 0.0010\n",
            "Epoch 17/100\n",
            "\u001b[1m760/760\u001b[0m \u001b[32m━━━━━━━━━━━━━━━━━━━━\u001b[0m\u001b[37m\u001b[0m \u001b[1m41s\u001b[0m 43ms/step - accuracy: 0.6442 - loss: 1.2600 - val_accuracy: 0.7697 - val_loss: 0.9055 - learning_rate: 0.0010\n",
            "Epoch 18/100\n",
            "\u001b[1m760/760\u001b[0m \u001b[32m━━━━━━━━━━━━━━━━━━━━\u001b[0m\u001b[37m\u001b[0m \u001b[1m33s\u001b[0m 43ms/step - accuracy: 0.6433 - loss: 1.2772 - val_accuracy: 0.7605 - val_loss: 0.9197 - learning_rate: 0.0010\n",
            "Epoch 19/100\n",
            "\u001b[1m760/760\u001b[0m \u001b[32m━━━━━━━━━━━━━━━━━━━━\u001b[0m\u001b[37m\u001b[0m \u001b[1m32s\u001b[0m 42ms/step - accuracy: 0.6312 - loss: 1.3032 - val_accuracy: 0.7539 - val_loss: 0.9203 - learning_rate: 0.0010\n",
            "Epoch 20/100\n",
            "\u001b[1m760/760\u001b[0m \u001b[32m━━━━━━━━━━━━━━━━━━━━\u001b[0m\u001b[37m\u001b[0m \u001b[1m42s\u001b[0m 43ms/step - accuracy: 0.6295 - loss: 1.3019 - val_accuracy: 0.7724 - val_loss: 0.8536 - learning_rate: 0.0010\n",
            "Epoch 21/100\n",
            "\u001b[1m760/760\u001b[0m \u001b[32m━━━━━━━━━━━━━━━━━━━━\u001b[0m\u001b[37m\u001b[0m \u001b[1m32s\u001b[0m 42ms/step - accuracy: 0.6398 - loss: 1.2923 - val_accuracy: 0.7408 - val_loss: 0.9841 - learning_rate: 0.0010\n",
            "Epoch 22/100\n",
            "\u001b[1m760/760\u001b[0m \u001b[32m━━━━━━━━━━━━━━━━━━━━\u001b[0m\u001b[37m\u001b[0m \u001b[1m41s\u001b[0m 42ms/step - accuracy: 0.6371 - loss: 1.2955 - val_accuracy: 0.7579 - val_loss: 0.8727 - learning_rate: 0.0010\n",
            "Epoch 23/100\n",
            "\u001b[1m760/760\u001b[0m \u001b[32m━━━━━━━━━━━━━━━━━━━━\u001b[0m\u001b[37m\u001b[0m \u001b[1m41s\u001b[0m 43ms/step - accuracy: 0.6352 - loss: 1.2691 - val_accuracy: 0.7618 - val_loss: 0.8411 - learning_rate: 0.0010\n",
            "Epoch 24/100\n",
            "\u001b[1m760/760\u001b[0m \u001b[32m━━━━━━━━━━━━━━━━━━━━\u001b[0m\u001b[37m\u001b[0m \u001b[1m41s\u001b[0m 42ms/step - accuracy: 0.6315 - loss: 1.2907 - val_accuracy: 0.7579 - val_loss: 0.8716 - learning_rate: 0.0010\n",
            "Epoch 25/100\n",
            "\u001b[1m760/760\u001b[0m \u001b[32m━━━━━━━━━━━━━━━━━━━━\u001b[0m\u001b[37m\u001b[0m \u001b[1m41s\u001b[0m 43ms/step - accuracy: 0.6371 - loss: 1.2457 - val_accuracy: 0.7803 - val_loss: 0.8773 - learning_rate: 0.0010\n",
            "Epoch 26/100\n",
            "\u001b[1m760/760\u001b[0m \u001b[32m━━━━━━━━━━━━━━━━━━━━\u001b[0m\u001b[37m\u001b[0m \u001b[1m32s\u001b[0m 42ms/step - accuracy: 0.6408 - loss: 1.2636 - val_accuracy: 0.7592 - val_loss: 0.9206 - learning_rate: 0.0010\n",
            "Epoch 27/100\n",
            "\u001b[1m760/760\u001b[0m \u001b[32m━━━━━━━━━━━━━━━━━━━━\u001b[0m\u001b[37m\u001b[0m \u001b[1m41s\u001b[0m 42ms/step - accuracy: 0.6319 - loss: 1.2567 - val_accuracy: 0.7592 - val_loss: 0.9047 - learning_rate: 0.0010\n",
            "Epoch 28/100\n",
            "\u001b[1m760/760\u001b[0m \u001b[32m━━━━━━━━━━━━━━━━━━━━\u001b[0m\u001b[37m\u001b[0m \u001b[1m32s\u001b[0m 42ms/step - accuracy: 0.6318 - loss: 1.2607 - val_accuracy: 0.7184 - val_loss: 1.0312 - learning_rate: 0.0010\n",
            "Epoch 29/100\n",
            "\u001b[1m760/760\u001b[0m \u001b[32m━━━━━━━━━━━━━━━━━━━━\u001b[0m\u001b[37m\u001b[0m \u001b[1m41s\u001b[0m 42ms/step - accuracy: 0.6223 - loss: 1.2849 - val_accuracy: 0.7737 - val_loss: 0.8668 - learning_rate: 0.0010\n",
            "Epoch 30/100\n",
            "\u001b[1m760/760\u001b[0m \u001b[32m━━━━━━━━━━━━━━━━━━━━\u001b[0m\u001b[37m\u001b[0m \u001b[1m41s\u001b[0m 42ms/step - accuracy: 0.6264 - loss: 1.2691 - val_accuracy: 0.7750 - val_loss: 0.8476 - learning_rate: 0.0010\n",
            "Epoch 31/100\n",
            "\u001b[1m759/760\u001b[0m \u001b[32m━━━━━━━━━━━━━━━━━━━\u001b[0m\u001b[37m━\u001b[0m \u001b[1m0s\u001b[0m 35ms/step - accuracy: 0.6378 - loss: 1.2419\n",
            "Epoch 31: ReduceLROnPlateau reducing learning rate to 0.00010000000474974513.\n",
            "\u001b[1m760/760\u001b[0m \u001b[32m━━━━━━━━━━━━━━━━━━━━\u001b[0m\u001b[37m\u001b[0m \u001b[1m41s\u001b[0m 42ms/step - accuracy: 0.6377 - loss: 1.2420 - val_accuracy: 0.7789 - val_loss: 0.8442 - learning_rate: 0.0010\n",
            "Epoch 32/100\n",
            "\u001b[1m760/760\u001b[0m \u001b[32m━━━━━━━━━━━━━━━━━━━━\u001b[0m\u001b[37m\u001b[0m \u001b[1m41s\u001b[0m 43ms/step - accuracy: 0.6522 - loss: 1.1893 - val_accuracy: 0.7987 - val_loss: 0.7472 - learning_rate: 1.0000e-04\n",
            "Epoch 33/100\n",
            "\u001b[1m760/760\u001b[0m \u001b[32m━━━━━━━━━━━━━━━━━━━━\u001b[0m\u001b[37m\u001b[0m \u001b[1m32s\u001b[0m 42ms/step - accuracy: 0.6558 - loss: 1.1915 - val_accuracy: 0.8105 - val_loss: 0.7259 - learning_rate: 1.0000e-04\n",
            "Epoch 34/100\n",
            "\u001b[1m760/760\u001b[0m \u001b[32m━━━━━━━━━━━━━━━━━━━━\u001b[0m\u001b[37m\u001b[0m \u001b[1m32s\u001b[0m 42ms/step - accuracy: 0.6778 - loss: 1.1145 - val_accuracy: 0.8158 - val_loss: 0.6962 - learning_rate: 1.0000e-04\n",
            "Epoch 35/100\n",
            "\u001b[1m760/760\u001b[0m \u001b[32m━━━━━━━━━━━━━━━━━━━━\u001b[0m\u001b[37m\u001b[0m \u001b[1m41s\u001b[0m 43ms/step - accuracy: 0.6742 - loss: 1.0987 - val_accuracy: 0.8145 - val_loss: 0.6796 - learning_rate: 1.0000e-04\n",
            "Epoch 36/100\n",
            "\u001b[1m760/760\u001b[0m \u001b[32m━━━━━━━━━━━━━━━━━━━━\u001b[0m\u001b[37m\u001b[0m \u001b[1m41s\u001b[0m 42ms/step - accuracy: 0.6787 - loss: 1.1218 - val_accuracy: 0.8145 - val_loss: 0.6711 - learning_rate: 1.0000e-04\n",
            "Epoch 37/100\n",
            "\u001b[1m760/760\u001b[0m \u001b[32m━━━━━━━━━━━━━━━━━━━━\u001b[0m\u001b[37m\u001b[0m \u001b[1m41s\u001b[0m 43ms/step - accuracy: 0.6799 - loss: 1.1051 - val_accuracy: 0.8276 - val_loss: 0.6540 - learning_rate: 1.0000e-04\n",
            "Epoch 38/100\n",
            "\u001b[1m760/760\u001b[0m \u001b[32m━━━━━━━━━━━━━━━━━━━━\u001b[0m\u001b[37m\u001b[0m \u001b[1m41s\u001b[0m 42ms/step - accuracy: 0.6810 - loss: 1.0857 - val_accuracy: 0.8184 - val_loss: 0.6587 - learning_rate: 1.0000e-04\n",
            "Epoch 39/100\n",
            "\u001b[1m760/760\u001b[0m \u001b[32m━━━━━━━━━━━━━━━━━━━━\u001b[0m\u001b[37m\u001b[0m \u001b[1m41s\u001b[0m 42ms/step - accuracy: 0.6863 - loss: 1.0534 - val_accuracy: 0.8250 - val_loss: 0.6577 - learning_rate: 1.0000e-04\n",
            "Epoch 40/100\n",
            "\u001b[1m760/760\u001b[0m \u001b[32m━━━━━━━━━━━━━━━━━━━━\u001b[0m\u001b[37m\u001b[0m \u001b[1m41s\u001b[0m 43ms/step - accuracy: 0.6836 - loss: 1.0498 - val_accuracy: 0.8316 - val_loss: 0.6186 - learning_rate: 1.0000e-04\n",
            "Epoch 41/100\n",
            "\u001b[1m760/760\u001b[0m \u001b[32m━━━━━━━━━━━━━━━━━━━━\u001b[0m\u001b[37m\u001b[0m \u001b[1m40s\u001b[0m 42ms/step - accuracy: 0.6929 - loss: 1.0472 - val_accuracy: 0.8382 - val_loss: 0.6320 - learning_rate: 1.0000e-04\n",
            "Epoch 42/100\n",
            "\u001b[1m760/760\u001b[0m \u001b[32m━━━━━━━━━━━━━━━━━━━━\u001b[0m\u001b[37m\u001b[0m \u001b[1m32s\u001b[0m 42ms/step - accuracy: 0.6993 - loss: 1.0046 - val_accuracy: 0.8184 - val_loss: 0.6288 - learning_rate: 1.0000e-04\n",
            "Epoch 43/100\n",
            "\u001b[1m760/760\u001b[0m \u001b[32m━━━━━━━━━━━━━━━━━━━━\u001b[0m\u001b[37m\u001b[0m \u001b[1m42s\u001b[0m 43ms/step - accuracy: 0.7027 - loss: 0.9907 - val_accuracy: 0.8355 - val_loss: 0.6017 - learning_rate: 1.0000e-04\n",
            "Epoch 44/100\n",
            "\u001b[1m760/760\u001b[0m \u001b[32m━━━━━━━━━━━━━━━━━━━━\u001b[0m\u001b[37m\u001b[0m \u001b[1m41s\u001b[0m 42ms/step - accuracy: 0.6804 - loss: 1.0666 - val_accuracy: 0.8342 - val_loss: 0.6054 - learning_rate: 1.0000e-04\n",
            "Epoch 45/100\n",
            "\u001b[1m760/760\u001b[0m \u001b[32m━━━━━━━━━━━━━━━━━━━━\u001b[0m\u001b[37m\u001b[0m \u001b[1m41s\u001b[0m 43ms/step - accuracy: 0.7208 - loss: 0.9916 - val_accuracy: 0.8382 - val_loss: 0.5980 - learning_rate: 1.0000e-04\n",
            "Epoch 46/100\n",
            "\u001b[1m760/760\u001b[0m \u001b[32m━━━━━━━━━━━━━━━━━━━━\u001b[0m\u001b[37m\u001b[0m \u001b[1m32s\u001b[0m 43ms/step - accuracy: 0.7067 - loss: 0.9772 - val_accuracy: 0.8211 - val_loss: 0.6236 - learning_rate: 1.0000e-04\n",
            "Epoch 47/100\n",
            "\u001b[1m760/760\u001b[0m \u001b[32m━━━━━━━━━━━━━━━━━━━━\u001b[0m\u001b[37m\u001b[0m \u001b[1m41s\u001b[0m 42ms/step - accuracy: 0.7072 - loss: 0.9818 - val_accuracy: 0.8316 - val_loss: 0.6058 - learning_rate: 1.0000e-04\n",
            "Epoch 48/100\n",
            "\u001b[1m760/760\u001b[0m \u001b[32m━━━━━━━━━━━━━━━━━━━━\u001b[0m\u001b[37m\u001b[0m \u001b[1m41s\u001b[0m 42ms/step - accuracy: 0.6971 - loss: 0.9980 - val_accuracy: 0.8395 - val_loss: 0.6038 - learning_rate: 1.0000e-04\n",
            "Epoch 49/100\n",
            "\u001b[1m760/760\u001b[0m \u001b[32m━━━━━━━━━━━━━━━━━━━━\u001b[0m\u001b[37m\u001b[0m \u001b[1m32s\u001b[0m 42ms/step - accuracy: 0.7061 - loss: 0.9953 - val_accuracy: 0.8355 - val_loss: 0.5903 - learning_rate: 1.0000e-04\n",
            "Epoch 50/100\n",
            "\u001b[1m760/760\u001b[0m \u001b[32m━━━━━━━━━━━━━━━━━━━━\u001b[0m\u001b[37m\u001b[0m \u001b[1m32s\u001b[0m 42ms/step - accuracy: 0.7114 - loss: 0.9804 - val_accuracy: 0.8355 - val_loss: 0.5870 - learning_rate: 1.0000e-04\n",
            "Epoch 51/100\n",
            "\u001b[1m760/760\u001b[0m \u001b[32m━━━━━━━━━━━━━━━━━━━━\u001b[0m\u001b[37m\u001b[0m \u001b[1m42s\u001b[0m 43ms/step - accuracy: 0.7332 - loss: 0.9126 - val_accuracy: 0.8434 - val_loss: 0.5573 - learning_rate: 1.0000e-04\n",
            "Epoch 52/100\n",
            "\u001b[1m760/760\u001b[0m \u001b[32m━━━━━━━━━━━━━━━━━━━━\u001b[0m\u001b[37m\u001b[0m \u001b[1m40s\u001b[0m 42ms/step - accuracy: 0.7140 - loss: 0.9715 - val_accuracy: 0.8434 - val_loss: 0.5601 - learning_rate: 1.0000e-04\n",
            "Epoch 53/100\n",
            "\u001b[1m760/760\u001b[0m \u001b[32m━━━━━━━━━━━━━━━━━━━━\u001b[0m\u001b[37m\u001b[0m \u001b[1m41s\u001b[0m 43ms/step - accuracy: 0.7096 - loss: 0.9833 - val_accuracy: 0.8526 - val_loss: 0.5371 - learning_rate: 1.0000e-04\n",
            "Epoch 54/100\n",
            "\u001b[1m760/760\u001b[0m \u001b[32m━━━━━━━━━━━━━━━━━━━━\u001b[0m\u001b[37m\u001b[0m \u001b[1m41s\u001b[0m 42ms/step - accuracy: 0.7155 - loss: 0.9415 - val_accuracy: 0.8513 - val_loss: 0.5460 - learning_rate: 1.0000e-04\n",
            "Epoch 55/100\n",
            "\u001b[1m760/760\u001b[0m \u001b[32m━━━━━━━━━━━━━━━━━━━━\u001b[0m\u001b[37m\u001b[0m \u001b[1m32s\u001b[0m 42ms/step - accuracy: 0.7131 - loss: 0.9326 - val_accuracy: 0.8434 - val_loss: 0.5389 - learning_rate: 1.0000e-04\n",
            "Epoch 56/100\n",
            "\u001b[1m760/760\u001b[0m \u001b[32m━━━━━━━━━━━━━━━━━━━━\u001b[0m\u001b[37m\u001b[0m \u001b[1m32s\u001b[0m 43ms/step - accuracy: 0.7268 - loss: 0.9383 - val_accuracy: 0.8500 - val_loss: 0.5369 - learning_rate: 1.0000e-04\n",
            "Epoch 57/100\n",
            "\u001b[1m760/760\u001b[0m \u001b[32m━━━━━━━━━━━━━━━━━━━━\u001b[0m\u001b[37m\u001b[0m \u001b[1m41s\u001b[0m 42ms/step - accuracy: 0.7209 - loss: 0.9496 - val_accuracy: 0.8395 - val_loss: 0.5449 - learning_rate: 1.0000e-04\n",
            "Epoch 58/100\n",
            "\u001b[1m760/760\u001b[0m \u001b[32m━━━━━━━━━━━━━━━━━━━━\u001b[0m\u001b[37m\u001b[0m \u001b[1m32s\u001b[0m 42ms/step - accuracy: 0.7191 - loss: 0.9054 - val_accuracy: 0.8474 - val_loss: 0.5266 - learning_rate: 1.0000e-04\n",
            "Epoch 59/100\n",
            "\u001b[1m760/760\u001b[0m \u001b[32m━━━━━━━━━━━━━━━━━━━━\u001b[0m\u001b[37m\u001b[0m \u001b[1m32s\u001b[0m 42ms/step - accuracy: 0.7006 - loss: 0.9492 - val_accuracy: 0.8447 - val_loss: 0.5345 - learning_rate: 1.0000e-04\n",
            "Epoch 60/100\n",
            "\u001b[1m760/760\u001b[0m \u001b[32m━━━━━━━━━━━━━━━━━━━━\u001b[0m\u001b[37m\u001b[0m \u001b[1m41s\u001b[0m 42ms/step - accuracy: 0.7174 - loss: 0.9499 - val_accuracy: 0.8487 - val_loss: 0.5314 - learning_rate: 1.0000e-04\n",
            "Epoch 61/100\n",
            "\u001b[1m760/760\u001b[0m \u001b[32m━━━━━━━━━━━━━━━━━━━━\u001b[0m\u001b[37m\u001b[0m \u001b[1m41s\u001b[0m 42ms/step - accuracy: 0.7169 - loss: 0.9306 - val_accuracy: 0.8447 - val_loss: 0.5391 - learning_rate: 1.0000e-04\n",
            "Epoch 62/100\n",
            "\u001b[1m760/760\u001b[0m \u001b[32m━━━━━━━━━━━━━━━━━━━━\u001b[0m\u001b[37m\u001b[0m \u001b[1m41s\u001b[0m 43ms/step - accuracy: 0.7184 - loss: 0.9126 - val_accuracy: 0.8526 - val_loss: 0.5251 - learning_rate: 1.0000e-04\n",
            "Epoch 63/100\n",
            "\u001b[1m760/760\u001b[0m \u001b[32m━━━━━━━━━━━━━━━━━━━━\u001b[0m\u001b[37m\u001b[0m \u001b[1m41s\u001b[0m 43ms/step - accuracy: 0.7204 - loss: 0.9164 - val_accuracy: 0.8539 - val_loss: 0.5249 - learning_rate: 1.0000e-04\n",
            "Epoch 64/100\n",
            "\u001b[1m760/760\u001b[0m \u001b[32m━━━━━━━━━━━━━━━━━━━━\u001b[0m\u001b[37m\u001b[0m \u001b[1m41s\u001b[0m 43ms/step - accuracy: 0.7201 - loss: 0.9167 - val_accuracy: 0.8500 - val_loss: 0.5045 - learning_rate: 1.0000e-04\n",
            "Epoch 65/100\n",
            "\u001b[1m760/760\u001b[0m \u001b[32m━━━━━━━━━━━━━━━━━━━━\u001b[0m\u001b[37m\u001b[0m \u001b[1m41s\u001b[0m 42ms/step - accuracy: 0.7274 - loss: 0.9052 - val_accuracy: 0.8434 - val_loss: 0.5334 - learning_rate: 1.0000e-04\n",
            "Epoch 66/100\n",
            "\u001b[1m760/760\u001b[0m \u001b[32m━━━━━━━━━━━━━━━━━━━━\u001b[0m\u001b[37m\u001b[0m \u001b[1m41s\u001b[0m 43ms/step - accuracy: 0.7131 - loss: 0.9334 - val_accuracy: 0.8618 - val_loss: 0.4952 - learning_rate: 1.0000e-04\n",
            "Epoch 67/100\n",
            "\u001b[1m760/760\u001b[0m \u001b[32m━━━━━━━━━━━━━━━━━━━━\u001b[0m\u001b[37m\u001b[0m \u001b[1m40s\u001b[0m 42ms/step - accuracy: 0.7132 - loss: 0.9256 - val_accuracy: 0.8605 - val_loss: 0.4964 - learning_rate: 1.0000e-04\n",
            "Epoch 68/100\n",
            "\u001b[1m760/760\u001b[0m \u001b[32m━━━━━━━━━━━━━━━━━━━━\u001b[0m\u001b[37m\u001b[0m \u001b[1m32s\u001b[0m 43ms/step - accuracy: 0.7222 - loss: 0.9034 - val_accuracy: 0.8539 - val_loss: 0.4760 - learning_rate: 1.0000e-04\n",
            "Epoch 69/100\n",
            "\u001b[1m760/760\u001b[0m \u001b[32m━━━━━━━━━━━━━━━━━━━━\u001b[0m\u001b[37m\u001b[0m \u001b[1m41s\u001b[0m 42ms/step - accuracy: 0.7228 - loss: 0.8885 - val_accuracy: 0.8434 - val_loss: 0.5090 - learning_rate: 1.0000e-04\n",
            "Epoch 70/100\n",
            "\u001b[1m760/760\u001b[0m \u001b[32m━━━━━━━━━━━━━━━━━━━━\u001b[0m\u001b[37m\u001b[0m \u001b[1m32s\u001b[0m 43ms/step - accuracy: 0.7276 - loss: 0.9198 - val_accuracy: 0.8592 - val_loss: 0.4850 - learning_rate: 1.0000e-04\n",
            "Epoch 71/100\n",
            "\u001b[1m760/760\u001b[0m \u001b[32m━━━━━━━━━━━━━━━━━━━━\u001b[0m\u001b[37m\u001b[0m \u001b[1m41s\u001b[0m 43ms/step - accuracy: 0.7368 - loss: 0.8829 - val_accuracy: 0.8605 - val_loss: 0.4910 - learning_rate: 1.0000e-04\n",
            "Epoch 72/100\n",
            "\u001b[1m760/760\u001b[0m \u001b[32m━━━━━━━━━━━━━━━━━━━━\u001b[0m\u001b[37m\u001b[0m \u001b[1m41s\u001b[0m 43ms/step - accuracy: 0.7394 - loss: 0.8742 - val_accuracy: 0.8500 - val_loss: 0.5002 - learning_rate: 1.0000e-04\n",
            "Epoch 73/100\n",
            "\u001b[1m760/760\u001b[0m \u001b[32m━━━━━━━━━━━━━━━━━━━━\u001b[0m\u001b[37m\u001b[0m \u001b[1m41s\u001b[0m 43ms/step - accuracy: 0.7268 - loss: 0.9154 - val_accuracy: 0.8605 - val_loss: 0.4912 - learning_rate: 1.0000e-04\n",
            "Epoch 74/100\n",
            "\u001b[1m760/760\u001b[0m \u001b[32m━━━━━━━━━━━━━━━━━━━━\u001b[0m\u001b[37m\u001b[0m \u001b[1m33s\u001b[0m 43ms/step - accuracy: 0.7240 - loss: 0.8820 - val_accuracy: 0.8566 - val_loss: 0.4753 - learning_rate: 1.0000e-04\n",
            "Epoch 75/100\n",
            "\u001b[1m760/760\u001b[0m \u001b[32m━━━━━━━━━━━━━━━━━━━━\u001b[0m\u001b[37m\u001b[0m \u001b[1m41s\u001b[0m 42ms/step - accuracy: 0.7119 - loss: 0.8851 - val_accuracy: 0.8500 - val_loss: 0.4869 - learning_rate: 1.0000e-04\n",
            "Epoch 76/100\n",
            "\u001b[1m760/760\u001b[0m \u001b[32m━━━━━━━━━━━━━━━━━━━━\u001b[0m\u001b[37m\u001b[0m \u001b[1m32s\u001b[0m 42ms/step - accuracy: 0.7390 - loss: 0.8693 - val_accuracy: 0.8579 - val_loss: 0.4903 - learning_rate: 1.0000e-04\n",
            "Epoch 77/100\n",
            "\u001b[1m760/760\u001b[0m \u001b[32m━━━━━━━━━━━━━━━━━━━━\u001b[0m\u001b[37m\u001b[0m \u001b[1m41s\u001b[0m 43ms/step - accuracy: 0.7248 - loss: 0.9154 - val_accuracy: 0.8605 - val_loss: 0.4928 - learning_rate: 1.0000e-04\n",
            "Epoch 78/100\n",
            "\u001b[1m760/760\u001b[0m \u001b[32m━━━━━━━━━━━━━━━━━━━━\u001b[0m\u001b[37m\u001b[0m \u001b[1m41s\u001b[0m 43ms/step - accuracy: 0.7268 - loss: 0.9013 - val_accuracy: 0.8579 - val_loss: 0.4906 - learning_rate: 1.0000e-04\n",
            "Epoch 79/100\n",
            "\u001b[1m760/760\u001b[0m \u001b[32m━━━━━━━━━━━━━━━━━━━━\u001b[0m\u001b[37m\u001b[0m \u001b[1m41s\u001b[0m 43ms/step - accuracy: 0.7513 - loss: 0.8213 - val_accuracy: 0.8553 - val_loss: 0.5028 - learning_rate: 1.0000e-04\n",
            "Epoch 80/100\n",
            "\u001b[1m760/760\u001b[0m \u001b[32m━━━━━━━━━━━━━━━━━━━━\u001b[0m\u001b[37m\u001b[0m \u001b[1m41s\u001b[0m 43ms/step - accuracy: 0.7342 - loss: 0.9014 - val_accuracy: 0.8684 - val_loss: 0.4688 - learning_rate: 1.0000e-04\n",
            "Epoch 81/100\n",
            "\u001b[1m760/760\u001b[0m \u001b[32m━━━━━━━━━━━━━━━━━━━━\u001b[0m\u001b[37m\u001b[0m \u001b[1m32s\u001b[0m 42ms/step - accuracy: 0.7171 - loss: 0.9036 - val_accuracy: 0.8605 - val_loss: 0.4800 - learning_rate: 1.0000e-04\n",
            "Epoch 82/100\n",
            "\u001b[1m760/760\u001b[0m \u001b[32m━━━━━━━━━━━━━━━━━━━━\u001b[0m\u001b[37m\u001b[0m \u001b[1m41s\u001b[0m 43ms/step - accuracy: 0.7281 - loss: 0.8644 - val_accuracy: 0.8566 - val_loss: 0.4836 - learning_rate: 1.0000e-04\n",
            "Epoch 83/100\n",
            "\u001b[1m760/760\u001b[0m \u001b[32m━━━━━━━━━━━━━━━━━━━━\u001b[0m\u001b[37m\u001b[0m \u001b[1m33s\u001b[0m 43ms/step - accuracy: 0.7365 - loss: 0.8837 - val_accuracy: 0.8605 - val_loss: 0.4592 - learning_rate: 1.0000e-04\n",
            "Epoch 84/100\n",
            "\u001b[1m760/760\u001b[0m \u001b[32m━━━━━━━━━━━━━━━━━━━━\u001b[0m\u001b[37m\u001b[0m \u001b[1m40s\u001b[0m 42ms/step - accuracy: 0.7096 - loss: 0.9275 - val_accuracy: 0.8579 - val_loss: 0.4708 - learning_rate: 1.0000e-04\n",
            "Epoch 85/100\n",
            "\u001b[1m760/760\u001b[0m \u001b[32m━━━━━━━━━━━━━━━━━━━━\u001b[0m\u001b[37m\u001b[0m \u001b[1m41s\u001b[0m 43ms/step - accuracy: 0.7286 - loss: 0.8671 - val_accuracy: 0.8579 - val_loss: 0.4752 - learning_rate: 1.0000e-04\n",
            "Epoch 86/100\n",
            "\u001b[1m760/760\u001b[0m \u001b[32m━━━━━━━━━━━━━━━━━━━━\u001b[0m\u001b[37m\u001b[0m \u001b[1m32s\u001b[0m 43ms/step - accuracy: 0.7416 - loss: 0.8730 - val_accuracy: 0.8553 - val_loss: 0.4790 - learning_rate: 1.0000e-04\n",
            "Epoch 87/100\n",
            "\u001b[1m760/760\u001b[0m \u001b[32m━━━━━━━━━━━━━━━━━━━━\u001b[0m\u001b[37m\u001b[0m \u001b[1m41s\u001b[0m 43ms/step - accuracy: 0.7306 - loss: 0.8776 - val_accuracy: 0.8566 - val_loss: 0.4913 - learning_rate: 1.0000e-04\n",
            "Epoch 88/100\n",
            "\u001b[1m760/760\u001b[0m \u001b[32m━━━━━━━━━━━━━━━━━━━━\u001b[0m\u001b[37m\u001b[0m \u001b[1m41s\u001b[0m 43ms/step - accuracy: 0.7321 - loss: 0.8745 - val_accuracy: 0.8592 - val_loss: 0.4884 - learning_rate: 1.0000e-04\n",
            "Epoch 89/100\n",
            "\u001b[1m760/760\u001b[0m \u001b[32m━━━━━━━━━━━━━━━━━━━━\u001b[0m\u001b[37m\u001b[0m \u001b[1m41s\u001b[0m 43ms/step - accuracy: 0.7457 - loss: 0.8287 - val_accuracy: 0.8645 - val_loss: 0.4717 - learning_rate: 1.0000e-04\n",
            "Epoch 90/100\n",
            "\u001b[1m760/760\u001b[0m \u001b[32m━━━━━━━━━━━━━━━━━━━━\u001b[0m\u001b[37m\u001b[0m \u001b[1m41s\u001b[0m 43ms/step - accuracy: 0.7229 - loss: 0.9106 - val_accuracy: 0.8671 - val_loss: 0.4556 - learning_rate: 1.0000e-04\n",
            "Epoch 91/100\n",
            "\u001b[1m760/760\u001b[0m \u001b[32m━━━━━━━━━━━━━━━━━━━━\u001b[0m\u001b[37m\u001b[0m \u001b[1m32s\u001b[0m 43ms/step - accuracy: 0.7396 - loss: 0.8308 - val_accuracy: 0.8605 - val_loss: 0.4649 - learning_rate: 1.0000e-04\n",
            "Epoch 92/100\n",
            "\u001b[1m760/760\u001b[0m \u001b[32m━━━━━━━━━━━━━━━━━━━━\u001b[0m\u001b[37m\u001b[0m \u001b[1m33s\u001b[0m 43ms/step - accuracy: 0.7451 - loss: 0.8328 - val_accuracy: 0.8566 - val_loss: 0.4532 - learning_rate: 1.0000e-04\n",
            "Epoch 93/100\n",
            "\u001b[1m760/760\u001b[0m \u001b[32m━━━━━━━━━━━━━━━━━━━━\u001b[0m\u001b[37m\u001b[0m \u001b[1m41s\u001b[0m 43ms/step - accuracy: 0.7305 - loss: 0.8945 - val_accuracy: 0.8605 - val_loss: 0.4684 - learning_rate: 1.0000e-04\n",
            "Epoch 94/100\n",
            "\u001b[1m760/760\u001b[0m \u001b[32m━━━━━━━━━━━━━━━━━━━━\u001b[0m\u001b[37m\u001b[0m \u001b[1m33s\u001b[0m 43ms/step - accuracy: 0.7220 - loss: 0.8629 - val_accuracy: 0.8750 - val_loss: 0.4604 - learning_rate: 1.0000e-04\n",
            "Epoch 95/100\n",
            "\u001b[1m760/760\u001b[0m \u001b[32m━━━━━━━━━━━━━━━━━━━━\u001b[0m\u001b[37m\u001b[0m \u001b[1m33s\u001b[0m 43ms/step - accuracy: 0.7263 - loss: 0.8635 - val_accuracy: 0.8789 - val_loss: 0.4509 - learning_rate: 1.0000e-04\n",
            "Epoch 96/100\n",
            "\u001b[1m760/760\u001b[0m \u001b[32m━━━━━━━━━━━━━━━━━━━━\u001b[0m\u001b[37m\u001b[0m \u001b[1m41s\u001b[0m 43ms/step - accuracy: 0.7421 - loss: 0.8371 - val_accuracy: 0.8671 - val_loss: 0.4730 - learning_rate: 1.0000e-04\n",
            "Epoch 97/100\n",
            "\u001b[1m760/760\u001b[0m \u001b[32m━━━━━━━━━━━━━━━━━━━━\u001b[0m\u001b[37m\u001b[0m \u001b[1m33s\u001b[0m 43ms/step - accuracy: 0.7220 - loss: 0.8923 - val_accuracy: 0.8671 - val_loss: 0.4653 - learning_rate: 1.0000e-04\n",
            "Epoch 98/100\n",
            "\u001b[1m760/760\u001b[0m \u001b[32m━━━━━━━━━━━━━━━━━━━━\u001b[0m\u001b[37m\u001b[0m \u001b[1m32s\u001b[0m 42ms/step - accuracy: 0.7460 - loss: 0.8185 - val_accuracy: 0.8618 - val_loss: 0.4978 - learning_rate: 1.0000e-04\n",
            "Epoch 99/100\n",
            "\u001b[1m760/760\u001b[0m \u001b[32m━━━━━━━━━━━━━━━━━━━━\u001b[0m\u001b[37m\u001b[0m \u001b[1m42s\u001b[0m 44ms/step - accuracy: 0.7438 - loss: 0.8573 - val_accuracy: 0.8632 - val_loss: 0.4505 - learning_rate: 1.0000e-04\n",
            "Epoch 100/100\n",
            "\u001b[1m760/760\u001b[0m \u001b[32m━━━━━━━━━━━━━━━━━━━━\u001b[0m\u001b[37m\u001b[0m \u001b[1m40s\u001b[0m 43ms/step - accuracy: 0.7274 - loss: 0.8738 - val_accuracy: 0.8671 - val_loss: 0.4591 - learning_rate: 1.0000e-04\n"
          ]
        },
        {
          "output_type": "display_data",
          "data": {
            "text/plain": [
              "<Figure size 1200x400 with 2 Axes>"
            ],
            "image/png": "[encoded data removed]"
          },
          "metadata": {}
        }
      ]
    },
    {
      "cell_type": "markdown",
      "source": [
        " #### v. Report training, validation, and test Precision, Recall, AUC, and F1 score for those models. Is there a model that clearly outperforms others? Remember that this is a multi-class classification problem."
      ],
      "metadata": {
        "id": "liSYSM6LYj6u"
      }
    },
    {
      "cell_type": "code",
      "source": [
        "def report_full_metrics(model, X, y, class_names, name):\n",
        "    \"\"\"\n",
        "    Outputs per-class and overall metrics (macro, micro, weighted, samples avg) (if present) for multi-class classification.\n",
        "    \"\"\"\n",
        "    y_pred = model.predict(X)\n",
        "    y_true = y.argmax(axis=1)\n",
        "    y_pred_class = y_pred.argmax(axis=1)\n",
        "\n",
        "    # Per-class scores\n",
        "    cls_report = classification_report(\n",
        "        y_true, y_pred_class, target_names=class_names, zero_division=0, output_dict=True\n",
        "    )\n",
        "\n",
        "    print(f\"\\n{name} — Per-class Precision, Recall, F1:\")\n",
        "    print(\"{:<20} {:<10} {:<10} {:<10}\".format(\"Class\", \"Precision\", \"Recall\", \"F1\"))\n",
        "    for label in class_names:\n",
        "        prec = cls_report[label]['precision']\n",
        "        rec  = cls_report[label]['recall']\n",
        "        f1   = cls_report[label]['f1-score']\n",
        "        print(f\"{label:<20} {prec:<10.3f} {rec:<10.3f} {f1:<10.3f}\")\n",
        "\n",
        "    # Averaged scores: macro, micro, weighted, samples (if present)\n",
        "    metrics = ['precision', 'recall', 'f1-score']\n",
        "    avgs = ['macro avg', 'micro avg', 'weighted avg', 'samples avg']\n",
        "\n",
        "    print(\"\\n---- Averaged scores ----\")\n",
        "    for avg in avgs:\n",
        "        if avg in cls_report:\n",
        "            vals = [cls_report[avg][m] for m in metrics]\n",
        "            print(f\"{avg.title():<15} Precision: {vals[0]:.3f}, Recall: {vals[1]:.3f}, F1: {vals[2]:.3f}\")\n",
        "\n",
        "    # Macro-averaged AUC (one-vs-rest for multi-class)\n",
        "    try:\n",
        "        macro_auc = float(roc_auc_score(y, y_pred, average='macro', multi_class='ovr'))\n",
        "    except Exception:\n",
        "        macro_auc = float('nan')\n",
        "    print(f\"\\nMacro-Averaged AUC: {macro_auc:.3f}\\n\")\n",
        "    return (\n",
        "        cls_report['macro avg']['precision'],\n",
        "        cls_report['macro avg']['recall'],\n",
        "        cls_report['macro avg']['f1-score'],\n",
        "        macro_auc\n",
        "    )\n"
      ],
      "metadata": {
        "id": "sHTjdOeXILFb"
      },
      "execution_count": null,
      "outputs": []
    },
    {
      "cell_type": "markdown",
      "source": [
        "#### Reporting metrics for ResNet50"
      ],
      "metadata": {
        "id": "VhXl3G2QbsVd"
      }
    },
    {
      "cell_type": "code",
      "source": [
        "class_names = all_labels\n",
        "\n",
        "# ResNet50 example\n",
        "report_full_metrics(model_resnet50, X_train, y_train, class_names, \"ResNet50 Train\")\n",
        "report_full_metrics(model_resnet50, X_val, y_val, class_names, \"ResNet50 Validation\")\n",
        "report_full_metrics(model_resnet50, X_test, y_test, class_names, \"ResNet50 Test\")\n",
        "\n",
        "# Repeat similarly for ResNet101, EfficientNetB0, VGG16\n"
      ],
      "metadata": {
        "id": "kWQJREYfIdvi",
        "colab": {
          "base_uri": "https://localhost:8080/"
        },
        "outputId": "7e6a9de9-dc85-438d-a03d-8dc6c575ad97"
      },
      "execution_count": null,
      "outputs": [
        {
          "output_type": "stream",
          "name": "stdout",
          "text": [
            "\u001b[1m119/119\u001b[0m \u001b[32m━━━━━━━━━━━━━━━━━━━━\u001b[0m\u001b[37m\u001b[0m \u001b[1m20s\u001b[0m 141ms/step\n",
            "\n",
            "ResNet50 Train — Per-class Precision, Recall, F1:\n",
            "Class                Precision  Recall     F1        \n",
            "Cardboard            0.779      0.959      0.860     \n",
            "Food Organics        0.959      0.854      0.903     \n",
            "Glass                0.950      0.851      0.898     \n",
            "Metal                0.885      0.856      0.870     \n",
            "Miscellaneous Trash  0.809      0.783      0.796     \n",
            "Paper                0.906      0.915      0.910     \n",
            "Plastic              0.900      0.834      0.866     \n",
            "Textile Trash        0.921      0.913      0.917     \n",
            "Vegetation           0.821      0.991      0.898     \n",
            "\n",
            "---- Averaged scores ----\n",
            "Macro Avg       Precision: 0.881, Recall: 0.884, F1: 0.880\n",
            "Weighted Avg    Precision: 0.881, Recall: 0.876, F1: 0.876\n",
            "\n",
            "Macro-Averaged AUC: 0.992\n",
            "\n",
            "\u001b[1m24/24\u001b[0m \u001b[32m━━━━━━━━━━━━━━━━━━━━\u001b[0m\u001b[37m\u001b[0m \u001b[1m4s\u001b[0m 156ms/step\n",
            "\n",
            "ResNet50 Validation — Per-class Precision, Recall, F1:\n",
            "Class                Precision  Recall     F1        \n",
            "Cardboard            0.800      0.973      0.878     \n",
            "Food Organics        0.965      0.833      0.894     \n",
            "Glass                0.938      0.910      0.924     \n",
            "Metal                0.902      0.873      0.887     \n",
            "Miscellaneous Trash  0.769      0.759      0.764     \n",
            "Paper                0.939      0.963      0.951     \n",
            "Plastic              0.904      0.837      0.869     \n",
            "Textile Trash        0.959      0.922      0.940     \n",
            "Vegetation           0.864      1.000      0.927     \n",
            "\n",
            "---- Averaged scores ----\n",
            "Macro Avg       Precision: 0.893, Recall: 0.897, F1: 0.893\n",
            "Weighted Avg    Precision: 0.892, Recall: 0.888, F1: 0.888\n",
            "\n",
            "Macro-Averaged AUC: 0.994\n",
            "\n",
            "\u001b[1m30/30\u001b[0m \u001b[32m━━━━━━━━━━━━━━━━━━━━\u001b[0m\u001b[37m\u001b[0m \u001b[1m4s\u001b[0m 149ms/step\n",
            "\n",
            "ResNet50 Test — Per-class Precision, Recall, F1:\n",
            "Class                Precision  Recall     F1        \n",
            "Cardboard            0.641      0.882      0.742     \n",
            "Food Organics        0.900      0.759      0.824     \n",
            "Glass                0.810      0.560      0.662     \n",
            "Metal                0.731      0.810      0.769     \n",
            "Miscellaneous Trash  0.570      0.495      0.530     \n",
            "Paper                0.899      0.890      0.894     \n",
            "Plastic              0.757      0.724      0.740     \n",
            "Textile Trash        0.800      0.625      0.702     \n",
            "Vegetation           0.748      0.943      0.834     \n",
            "\n",
            "---- Averaged scores ----\n",
            "Macro Avg       Precision: 0.762, Recall: 0.743, F1: 0.744\n",
            "Weighted Avg    Precision: 0.756, Recall: 0.749, F1: 0.746\n",
            "\n",
            "Macro-Averaged AUC: 0.966\n",
            "\n"
          ]
        },
        {
          "output_type": "execute_result",
          "data": {
            "text/plain": [
              "(0.761773959389505, 0.743095844882641, 0.7440900314412159, 0.9661247843861062)"
            ]
          },
          "metadata": {},
          "execution_count": 28
        }
      ]
    },
    {
      "cell_type": "markdown",
      "source": [
        "#### Reporting metrics for ResNet101"
      ],
      "metadata": {
        "id": "JdgqKSWNbyXE"
      }
    },
    {
      "cell_type": "code",
      "source": [
        "resnet101_train = report_full_metrics(model_resnet101, X_train, y_train, class_names, \"ResNet101 Train\")\n",
        "resnet101_val   = report_full_metrics(model_resnet101, X_val, y_val, class_names, \"ResNet101 Validation\")\n",
        "resnet101_test  = report_full_metrics(model_resnet101, X_test, y_test, class_names, \"ResNet101 Test\")"
      ],
      "metadata": {
        "id": "TcMeIYggqUZ7",
        "colab": {
          "base_uri": "https://localhost:8080/"
        },
        "outputId": "40705267-6be0-417d-c794-912edbb766f3"
      },
      "execution_count": null,
      "outputs": [
        {
          "output_type": "stream",
          "name": "stdout",
          "text": [
            "\u001b[1m119/119\u001b[0m \u001b[32m━━━━━━━━━━━━━━━━━━━━\u001b[0m\u001b[37m\u001b[0m \u001b[1m32s\u001b[0m 239ms/step\n",
            "\n",
            "ResNet101 Train — Per-class Precision, Recall, F1:\n",
            "Class                Precision  Recall     F1        \n",
            "Cardboard            0.814      0.976      0.888     \n",
            "Food Organics        0.944      0.930      0.937     \n",
            "Glass                0.943      0.938      0.940     \n",
            "Metal                0.875      0.943      0.908     \n",
            "Miscellaneous Trash  0.933      0.848      0.889     \n",
            "Paper                0.902      0.940      0.920     \n",
            "Plastic              0.959      0.800      0.873     \n",
            "Textile Trash        0.958      0.906      0.931     \n",
            "Vegetation           0.894      0.997      0.943     \n",
            "\n",
            "---- Averaged scores ----\n",
            "Macro Avg       Precision: 0.914, Recall: 0.920, F1: 0.914\n",
            "Weighted Avg    Precision: 0.914, Recall: 0.909, F1: 0.909\n",
            "\n",
            "Macro-Averaged AUC: 0.996\n",
            "\n",
            "\u001b[1m24/24\u001b[0m \u001b[32m━━━━━━━━━━━━━━━━━━━━\u001b[0m\u001b[37m\u001b[0m \u001b[1m5s\u001b[0m 202ms/step\n",
            "\n",
            "ResNet101 Validation — Per-class Precision, Recall, F1:\n",
            "Class                Precision  Recall     F1        \n",
            "Cardboard            0.798      0.959      0.871     \n",
            "Food Organics        0.952      0.909      0.930     \n",
            "Glass                0.940      0.940      0.940     \n",
            "Metal                0.902      0.952      0.927     \n",
            "Miscellaneous Trash  0.895      0.861      0.877     \n",
            "Paper                0.927      0.950      0.938     \n",
            "Plastic              0.945      0.816      0.876     \n",
            "Textile Trash        1.000      0.922      0.959     \n",
            "Vegetation           0.921      1.000      0.959     \n",
            "\n",
            "---- Averaged scores ----\n",
            "Macro Avg       Precision: 0.920, Recall: 0.923, F1: 0.920\n",
            "Weighted Avg    Precision: 0.918, Recall: 0.914, F1: 0.914\n",
            "\n",
            "Macro-Averaged AUC: 0.997\n",
            "\n",
            "\u001b[1m30/30\u001b[0m \u001b[32m━━━━━━━━━━━━━━━━━━━━\u001b[0m\u001b[37m\u001b[0m \u001b[1m6s\u001b[0m 205ms/step\n",
            "\n",
            "ResNet101 Test — Per-class Precision, Recall, F1:\n",
            "Class                Precision  Recall     F1        \n",
            "Cardboard            0.675      0.892      0.769     \n",
            "Food Organics        0.892      0.795      0.841     \n",
            "Glass                0.800      0.667      0.727     \n",
            "Metal                0.689      0.911      0.785     \n",
            "Miscellaneous Trash  0.694      0.505      0.585     \n",
            "Paper                0.850      0.910      0.879     \n",
            "Plastic              0.890      0.697      0.782     \n",
            "Textile Trash        0.778      0.656      0.712     \n",
            "Vegetation           0.820      0.932      0.872     \n",
            "\n",
            "---- Averaged scores ----\n",
            "Macro Avg       Precision: 0.788, Recall: 0.774, F1: 0.772\n",
            "Weighted Avg    Precision: 0.789, Recall: 0.779, F1: 0.775\n",
            "\n",
            "Macro-Averaged AUC: 0.972\n",
            "\n"
          ]
        }
      ]
    },
    {
      "cell_type": "markdown",
      "source": [
        "#### Reporting metrics for EfficientNetB0"
      ],
      "metadata": {
        "id": "Ekue5VS7b1Eg"
      }
    },
    {
      "cell_type": "code",
      "source": [
        "efficientnetb0_train = report_full_metrics(model_EfficientNetB0, X_train, y_train, class_names, \"EfficientNetB0 Train\")\n",
        "efficientnetb0_val   = report_full_metrics(model_EfficientNetB0, X_val, y_val, class_names, \"EfficientNetB0 Validation\")\n",
        "efficientnetb0_test  = report_full_metrics(model_EfficientNetB0, X_test, y_test,  class_names, \"EfficientNetB0 Test\")"
      ],
      "metadata": {
        "id": "iWSrTieZqbWI",
        "colab": {
          "base_uri": "https://localhost:8080/"
        },
        "outputId": "0d4ac314-a8fc-44b8-da5f-68a6c7494cbe"
      },
      "execution_count": null,
      "outputs": [
        {
          "output_type": "stream",
          "name": "stdout",
          "text": [
            "\u001b[1m119/119\u001b[0m \u001b[32m━━━━━━━━━━━━━━━━━━━━\u001b[0m\u001b[37m\u001b[0m \u001b[1m14s\u001b[0m 92ms/step\n",
            "\n",
            "EfficientNetB0 Train — Per-class Precision, Recall, F1:\n",
            "Class                Precision  Recall     F1        \n",
            "Cardboard            0.854      0.986      0.916     \n",
            "Food Organics        0.982      0.988      0.985     \n",
            "Glass                0.944      0.955      0.950     \n",
            "Metal                0.955      0.934      0.944     \n",
            "Miscellaneous Trash  0.951      0.884      0.916     \n",
            "Paper                0.983      0.890      0.934     \n",
            "Plastic              0.945      0.932      0.938     \n",
            "Textile Trash        0.923      0.988      0.954     \n",
            "Vegetation           0.975      1.000      0.987     \n",
            "\n",
            "---- Averaged scores ----\n",
            "Macro Avg       Precision: 0.946, Recall: 0.951, F1: 0.947\n",
            "Weighted Avg    Precision: 0.947, Recall: 0.945, F1: 0.945\n",
            "\n",
            "Macro-Averaged AUC: 0.998\n",
            "\n",
            "\u001b[1m24/24\u001b[0m \u001b[32m━━━━━━━━━━━━━━━━━━━━\u001b[0m\u001b[37m\u001b[0m \u001b[1m2s\u001b[0m 95ms/step\n",
            "\n",
            "EfficientNetB0 Validation — Per-class Precision, Recall, F1:\n",
            "Class                Precision  Recall     F1        \n",
            "Cardboard            0.849      0.986      0.912     \n",
            "Food Organics        0.985      1.000      0.992     \n",
            "Glass                0.928      0.955      0.941     \n",
            "Metal                0.959      0.921      0.939     \n",
            "Miscellaneous Trash  0.957      0.848      0.899     \n",
            "Paper                0.959      0.875      0.915     \n",
            "Plastic              0.933      0.952      0.943     \n",
            "Textile Trash        0.962      1.000      0.981     \n",
            "Vegetation           0.986      1.000      0.993     \n",
            "\n",
            "---- Averaged scores ----\n",
            "Macro Avg       Precision: 0.946, Recall: 0.949, F1: 0.946\n",
            "Weighted Avg    Precision: 0.945, Recall: 0.943, F1: 0.943\n",
            "\n",
            "Macro-Averaged AUC: 0.998\n",
            "\n",
            "\u001b[1m30/30\u001b[0m \u001b[32m━━━━━━━━━━━━━━━━━━━━\u001b[0m\u001b[37m\u001b[0m \u001b[1m3s\u001b[0m 87ms/step\n",
            "\n",
            "EfficientNetB0 Test — Per-class Precision, Recall, F1:\n",
            "Class                Precision  Recall     F1        \n",
            "Cardboard            0.771      0.903      0.832     \n",
            "Food Organics        0.817      0.807      0.812     \n",
            "Glass                0.824      0.726      0.772     \n",
            "Metal                0.795      0.861      0.827     \n",
            "Miscellaneous Trash  0.779      0.606      0.682     \n",
            "Paper                0.926      0.880      0.903     \n",
            "Plastic              0.825      0.843      0.834     \n",
            "Textile Trash        0.771      0.844      0.806     \n",
            "Vegetation           0.920      0.909      0.914     \n",
            "\n",
            "---- Averaged scores ----\n",
            "Macro Avg       Precision: 0.825, Recall: 0.820, F1: 0.820\n",
            "Weighted Avg    Precision: 0.825, Recall: 0.824, F1: 0.822\n",
            "\n",
            "Macro-Averaged AUC: 0.978\n",
            "\n"
          ]
        }
      ]
    },
    {
      "cell_type": "markdown",
      "source": [
        "#### Reporting metrics for VGG16"
      ],
      "metadata": {
        "id": "7ulpbYWeb4re"
      }
    },
    {
      "cell_type": "code",
      "source": [
        "# For VGG16\n",
        "vgg16_train = report_full_metrics(model_vgg16, X_train, y_train, class_names, \"VGG16 Train\")\n",
        "vgg16_val   = report_full_metrics(model_vgg16, X_val, y_val, class_names, \"VGG16 Validation\")\n",
        "vgg16_test  = report_full_metrics(model_vgg16, X_test, y_test, class_names, \"VGG16 Test\")\n"
      ],
      "metadata": {
        "id": "x2zNoHiNINey",
        "colab": {
          "base_uri": "https://localhost:8080/"
        },
        "outputId": "bd5e9701-c58c-49ef-de08-bef99933786f"
      },
      "execution_count": null,
      "outputs": [
        {
          "output_type": "stream",
          "name": "stdout",
          "text": [
            "\u001b[1m119/119\u001b[0m \u001b[32m━━━━━━━━━━━━━━━━━━━━\u001b[0m\u001b[37m\u001b[0m \u001b[1m24s\u001b[0m 179ms/step\n",
            "\n",
            "VGG16 Train — Per-class Precision, Recall, F1:\n",
            "Class                Precision  Recall     F1        \n",
            "Cardboard            0.762      0.905      0.827     \n",
            "Food Organics        0.908      0.899      0.904     \n",
            "Glass                0.920      0.854      0.886     \n",
            "Metal                0.828      0.859      0.843     \n",
            "Miscellaneous Trash  0.841      0.626      0.718     \n",
            "Paper                0.812      0.875      0.842     \n",
            "Plastic              0.850      0.819      0.835     \n",
            "Textile Trash        0.917      0.823      0.867     \n",
            "Vegetation           0.844      0.983      0.908     \n",
            "\n",
            "---- Averaged scores ----\n",
            "Macro Avg       Precision: 0.854, Recall: 0.849, F1: 0.848\n",
            "Weighted Avg    Precision: 0.848, Recall: 0.845, F1: 0.843\n",
            "\n",
            "Macro-Averaged AUC: 0.987\n",
            "\n",
            "\u001b[1m24/24\u001b[0m \u001b[32m━━━━━━━━━━━━━━━━━━━━\u001b[0m\u001b[37m\u001b[0m \u001b[1m6s\u001b[0m 243ms/step\n",
            "\n",
            "VGG16 Validation — Per-class Precision, Recall, F1:\n",
            "Class                Precision  Recall     F1        \n",
            "Cardboard            0.812      0.932      0.868     \n",
            "Food Organics        0.938      0.924      0.931     \n",
            "Glass                0.952      0.881      0.915     \n",
            "Metal                0.827      0.873      0.849     \n",
            "Miscellaneous Trash  0.828      0.608      0.701     \n",
            "Paper                0.830      0.912      0.869     \n",
            "Plastic              0.862      0.850      0.856     \n",
            "Textile Trash        0.935      0.843      0.887     \n",
            "Vegetation           0.872      0.971      0.919     \n",
            "\n",
            "---- Averaged scores ----\n",
            "Macro Avg       Precision: 0.873, Recall: 0.866, F1: 0.866\n",
            "Weighted Avg    Precision: 0.865, Recall: 0.863, F1: 0.861\n",
            "\n",
            "Macro-Averaged AUC: 0.991\n",
            "\n",
            "\u001b[1m30/30\u001b[0m \u001b[32m━━━━━━━━━━━━━━━━━━━━\u001b[0m\u001b[37m\u001b[0m \u001b[1m7s\u001b[0m 233ms/step\n",
            "\n",
            "VGG16 Test — Per-class Precision, Recall, F1:\n",
            "Class                Precision  Recall     F1        \n",
            "Cardboard            0.675      0.892      0.769     \n",
            "Food Organics        0.808      0.759      0.783     \n",
            "Glass                0.585      0.452      0.510     \n",
            "Metal                0.663      0.823      0.734     \n",
            "Miscellaneous Trash  0.660      0.354      0.461     \n",
            "Paper                0.805      0.910      0.854     \n",
            "Plastic              0.725      0.697      0.711     \n",
            "Textile Trash        0.830      0.609      0.703     \n",
            "Vegetation           0.802      0.920      0.857     \n",
            "\n",
            "---- Averaged scores ----\n",
            "Macro Avg       Precision: 0.728, Recall: 0.713, F1: 0.709\n",
            "Weighted Avg    Precision: 0.721, Recall: 0.722, F1: 0.711\n",
            "\n",
            "Macro-Averaged AUC: 0.958\n",
            "\n"
          ]
        }
      ]
    },
    {
      "cell_type": "markdown",
      "source": [
        "## Model Performance Summary and Conclusion\n",
        "\n",
        "We evaluated four deep learning models-**ResNet50, ResNet101, EfficientNetB0, and VGG16**-for multi-class waste classification, benchmarking accuracy using macro-averaged **Precision, Recall, F1 score, and AUC** on the training, validation, and test sets.\n",
        "\n",
        "### **Test Set Macro-Averaged Metrics**\n",
        "\n",
        "| Model           | Precision | Recall | F1 Score | AUC   |\n",
        "|-----------------|-----------|--------|----------|-------|\n",
        "| ResNet50        | 0.762     | 0.743  | 0.744    | 0.966 |\n",
        "| ResNet101       | 0.788     | 0.774  | 0.772    | 0.972 |\n",
        "| EfficientNetB0  | **0.825** | **0.820** | **0.820** | **0.978** |\n",
        "| VGG16           | 0.728     | 0.713  | 0.709    | 0.958 |\n",
        "\n",
        "### **Key Observations**\n",
        "\n",
        "- **EfficientNetB0** achieved the highest scores across all test set metrics—**macro F1 (0.820)**, **precision (0.825)**, **recall (0.820)**, and **AUC (0.978)**—indicating the strongest and most balanced performance across all classes.\n",
        "- **ResNet101** followed, maintaining strong generalization with macro F1 of 0.772 and AUC of 0.972.\n",
        "- **ResNet50** performed respectably but trailed ResNet101 and EfficientNetB0, especially on challenging classes (e.g., “Miscellaneous Trash”).\n",
        "- **VGG16** consistently lagged behind, particularly on less-represented or difficult classes, with the lowest macro F1 (0.709) and AUC (0.958). This suggests limited capacity or overfitting compared to deeper or more optimized models.\n",
        "\n",
        "### **Conclusion**\n",
        "\n",
        "> **EfficientNetB0 clearly outperforms all other models on this multi-class classification problem.**  \n",
        "> It achieves the best test set precision, recall, F1-score, and AUC, and demonstrates robust performance on both common and difficult classes, making it the most reliable choice for deployment or further research for this waste classification task.\n",
        "\n",
        "\n",
        "---\n"
      ],
      "metadata": {
        "id": "9gGigqRLcH4g"
      }
    },
    {
      "cell_type": "markdown",
      "source": [
        "### Challenge & How I Overcame it"
      ],
      "metadata": {
        "id": "R_LwwRR38qgt"
      }
    },
    {
      "cell_type": "markdown",
      "source": [
        "- Initially, my models struggled with poor performance, achieving only 20–30% accuracy despite using the default Adam optimizer. After digging deeper into optimization strategies and learning rate dynamics, I discovered and implemented ReduceLROnPlateau, a Keras callback that monitors a chosen metric (e.g. validation loss) and automatically reduces the learning rate when performance stagnates. This helped the model escape local minima and adapt to plateaus during training.\n",
        "\n",
        "- I also revisited my early stopping configuration. Originally, I had set a high patience value of 40 epochs, which delayed termination even after the model stopped improving. Upon reevaluation, I reduced the patience to 15 epochs, enabling the training process to halt earlier—saving compute and preventing overfitting.\n",
        "\n",
        "- This iterative tuning of hyperparameters was a pivotal learning moment. It reinforced the importance of adaptive training strategies and helped me move beyond default settings to achieve more efficient and accurate models\n",
        "\n"
      ],
      "metadata": {
        "id": "-NP79T387qCt"
      }
    },
    {
      "cell_type": "markdown",
      "source": [
        "### References\n",
        "#### 1) https://keras.io/\n",
        "#### 2) https://builtin.com/data-science/transfer-learning\n",
        "#### 3) https://en.wikipedia.org/wiki/Batch_normalization\n",
        "#### 4)  https://keras.io/api/callbacks/reduce_lr_on_plateau/\n",
        "#### 5) https://keras.io/api/callbacks/early_stopping/\n",
        "#### 6) https://keras.io/api/layers/pooling_layers/max_pooling2d/\n",
        "#### 7) https://keras.io/api/layers/normalization_layers/batch_normalization/\n",
        "#### 8) https://www.tensorflow.org/tutorials/images/data_augmentation\n",
        "#### 9) https://docs.opencv.org/4.x/d2/d96/tutorial_py_table_of_contents_imgproc.html\n",
        "#### 10) https://keras.io/api/optimizers/adam/"
      ],
      "metadata": {
        "id": "PvFc-OtMY0Yg"
      }
    }
  ]
}